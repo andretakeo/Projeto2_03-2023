{
 "cells": [
  {
   "attachments": {},
   "cell_type": "markdown",
   "metadata": {},
   "source": [
    "# Melhorando a saúde mental dos estudantes durante o ensino remoto\n",
    "\n",
    "## Planejamento:\n",
    "\t\t\t\n",
    "* Definir os objetivos do projeto:\n",
    "* Estabelecer um cronograma: Ao menos duas reuniões para discutir o projeto antes da data de entrega.\n",
    "* Dividisão de tarefas\n",
    "* Identificar recursos: pandas, numpy, ferramentas de visualização gráfica (plotly, matplotlib, seaborn), scipy e scikit-learn.\n",
    "* Estabelecer critérios de avaliação: Critérios de avaliação seguindo os critérios SMART.\n",
    "* Revisar e refinar o plano: Análises retroativas do domínio de negócios e compreensão dos dados.\n",
    "\n",
    "\n",
    "## Identificação do problema:\n",
    "* Como podemos melhorar a saúde mental e o bem-estar dos estudantes da Universátil durante o ensino remoto?\n",
    "\n",
    "### Contexto:\n",
    "* Pandemia global\n",
    "* Ensino remoto\n",
    "* Interações sociais limitadas\n",
    "* Pressões externas\n",
    "\n",
    "### Requisitos do negócio:\n",
    "* Identificar as principais variáveis relacionadas à saúde mental dos estudantes\n",
    "* Testar hipóteses sobre as estratégias para melhorar a saúde mental dos estudantes\n",
    "* Avaliar a eficácia das soluções propostas\n",
    "\n",
    "## Pesquisa:\n",
    "\n",
    "### Terminologia:\n",
    "* Saúde Mental: A Organização Mundial da Saúde (OMS) define saúde mental como “um estado de bem-estar mental que permite às pessoas lidar com os momentos estressantes da vida, desenvolver todas as suas habilidades, aprender e trabalhar bem e contribuir para a melhoria de sua comunidade”.\n",
    "\n",
    "* O que determina a saúde mental: \n",
    "* Fatores biológicos, psicológicos, ambientais, sociais, de estilo de vida e *socioeconômicos*.\n",
    "\n",
    "* Ensino Remoto Emergencial (ERE): Ocorre num tempo síncrono (acompanhando os princípios do ensino presencial), com videoaula, aula expositiva por sistema de webconferência, e as atividades seguem durante a semana no espaço de um ambiente virtual de aprendizagem (AVA) de forma assíncrona.\n",
    "\n",
    "* GAD-7 (General Anxiety Disorder-7): A GAD-7 é uma escala criada por Spitzer et al., em 2005, com objetivo de ser uma medida breve de autorrelato para avaliação de casos prováveis de TAG (Transtorno de Ansiedade Generalizada). A escala é composta por 7 itens e seus itens estão dispostos em 4 pontos, que variam entre 0 (nenhuma vez) a 3 (quase todos os dias) em escala do tipo Likert. **Ao rastrear transtornos de ansiedade, uma pontuação de 10 ou mais representa um ponto de corte razoável para identificar casos prováveis de transtorno de ansiedade generalizada.**\n",
    "\n",
    "## Referências:\n",
    "* https://blog.bettha.com/tecnica-smart/#:~:text=A%20t%C3%A9cnica%20SMART%20%C3%A9%20o,n%C3%A3o%20s%C3%A3o%20as%20mesmas%20coisas%3F\n",
    "* https://www.scielo.br/j/csp/a/ZXCDZcC7mWmZc4x8gKMSmrz/?lang=en\n",
    "* https://www.paho.org/pt/topicos/transtornos-mentais#:~:text=Os%20determinantes%20da%20sa%C3%BAde%20mental,como%20as%20pol%C3%ADticas%20nacionais%2C%20a\n",
    "* https://tcc.fps.edu.br/jspui/bitstream/fpsrepo/1464/1/Pandemia%20da%20Covid-19%20repercuss%C3%A3o%20na%20sa%C3%BAde%20mental%2C%20motiva%C3%A7%C3%A3o%20e%20ensino%20dos%20estudantes%20de%20medicina.pdf\n",
    "\n"
   ]
  },
  {
   "attachments": {},
   "cell_type": "markdown",
   "id": "bf2cc59e",
   "metadata": {},
   "source": [
    "# Manipulação do Dataset"
   ]
  },
  {
   "cell_type": "code",
   "execution_count": 60,
   "id": "cc81fdde",
   "metadata": {},
   "outputs": [],
   "source": [
    "import pandas as pd\n",
    "\n",
    "import plotly.express as px\n",
    "import plotly.graph_objs as go\n",
    "import seaborn as sns\n",
    "import matplotlib.pyplot as plt\n",
    "import numpy as np\n",
    "\n",
    "from scipy import stats"
   ]
  },
  {
   "cell_type": "code",
   "execution_count": 61,
   "id": "5fb947c7",
   "metadata": {
    "collapsed": false
   },
   "outputs": [
    {
     "data": {
      "text/html": [
       "<div>\n",
       "<style scoped>\n",
       "    .dataframe tbody tr th:only-of-type {\n",
       "        vertical-align: middle;\n",
       "    }\n",
       "\n",
       "    .dataframe tbody tr th {\n",
       "        vertical-align: top;\n",
       "    }\n",
       "\n",
       "    .dataframe thead th {\n",
       "        text-align: right;\n",
       "    }\n",
       "</style>\n",
       "<table border=\"1\" class=\"dataframe\">\n",
       "  <thead>\n",
       "    <tr style=\"text-align: right;\">\n",
       "      <th></th>\n",
       "      <th>matrícula</th>\n",
       "      <th>nome</th>\n",
       "      <th>idade</th>\n",
       "      <th>renda</th>\n",
       "      <th>cor</th>\n",
       "      <th>sexo</th>\n",
       "      <th>ano_curso</th>\n",
       "      <th>escola</th>\n",
       "      <th>cod_curso</th>\n",
       "      <th>logradouro</th>\n",
       "      <th>...</th>\n",
       "      <th>uf</th>\n",
       "      <th>cep</th>\n",
       "      <th>gad-1</th>\n",
       "      <th>gad-2</th>\n",
       "      <th>gad-3</th>\n",
       "      <th>gad-4</th>\n",
       "      <th>gad-5</th>\n",
       "      <th>gad-6</th>\n",
       "      <th>gad-7</th>\n",
       "      <th>motivação</th>\n",
       "    </tr>\n",
       "  </thead>\n",
       "  <tbody>\n",
       "    <tr>\n",
       "      <th>0</th>\n",
       "      <td>RA55000001</td>\n",
       "      <td>Osane Inácio Pinhal Ouro</td>\n",
       "      <td>19</td>\n",
       "      <td>418.0</td>\n",
       "      <td>1</td>\n",
       "      <td>2</td>\n",
       "      <td>3</td>\n",
       "      <td>1</td>\n",
       "      <td>5</td>\n",
       "      <td>Viela Vinte e Sete de Setembro</td>\n",
       "      <td>...</td>\n",
       "      <td>SP</td>\n",
       "      <td>04235-090</td>\n",
       "      <td>1</td>\n",
       "      <td>1</td>\n",
       "      <td>1</td>\n",
       "      <td>1</td>\n",
       "      <td>1</td>\n",
       "      <td>1</td>\n",
       "      <td>1</td>\n",
       "      <td>9</td>\n",
       "    </tr>\n",
       "    <tr>\n",
       "      <th>1</th>\n",
       "      <td>RA55000002</td>\n",
       "      <td>Zezita Olivares Ferro Telinhos</td>\n",
       "      <td>19</td>\n",
       "      <td>279.0</td>\n",
       "      <td>1</td>\n",
       "      <td>2</td>\n",
       "      <td>3</td>\n",
       "      <td>1</td>\n",
       "      <td>2</td>\n",
       "      <td>Rua Marechal Marques Porto</td>\n",
       "      <td>...</td>\n",
       "      <td>SP</td>\n",
       "      <td>03906-020</td>\n",
       "      <td>0</td>\n",
       "      <td>1</td>\n",
       "      <td>1</td>\n",
       "      <td>1</td>\n",
       "      <td>1</td>\n",
       "      <td>1</td>\n",
       "      <td>1</td>\n",
       "      <td>10</td>\n",
       "    </tr>\n",
       "    <tr>\n",
       "      <th>2</th>\n",
       "      <td>RA55000003</td>\n",
       "      <td>Orleis Bilhalva Pereira Moita</td>\n",
       "      <td>19</td>\n",
       "      <td>87.0</td>\n",
       "      <td>1</td>\n",
       "      <td>1</td>\n",
       "      <td>3</td>\n",
       "      <td>1</td>\n",
       "      <td>9</td>\n",
       "      <td>Rua Vinte de Março</td>\n",
       "      <td>...</td>\n",
       "      <td>SP</td>\n",
       "      <td>02326-115</td>\n",
       "      <td>1</td>\n",
       "      <td>0</td>\n",
       "      <td>1</td>\n",
       "      <td>1</td>\n",
       "      <td>1</td>\n",
       "      <td>1</td>\n",
       "      <td>1</td>\n",
       "      <td>10</td>\n",
       "    </tr>\n",
       "    <tr>\n",
       "      <th>3</th>\n",
       "      <td>RA55000004</td>\n",
       "      <td>Kaiuan Félix</td>\n",
       "      <td>19</td>\n",
       "      <td>243.0</td>\n",
       "      <td>1</td>\n",
       "      <td>1</td>\n",
       "      <td>3</td>\n",
       "      <td>1</td>\n",
       "      <td>9</td>\n",
       "      <td>Rua João Pires</td>\n",
       "      <td>...</td>\n",
       "      <td>SP</td>\n",
       "      <td>03168-060</td>\n",
       "      <td>1</td>\n",
       "      <td>1</td>\n",
       "      <td>1</td>\n",
       "      <td>1</td>\n",
       "      <td>1</td>\n",
       "      <td>1</td>\n",
       "      <td>1</td>\n",
       "      <td>9</td>\n",
       "    </tr>\n",
       "    <tr>\n",
       "      <th>4</th>\n",
       "      <td>RA55000005</td>\n",
       "      <td>Geovan Quaresma Lameirinhas</td>\n",
       "      <td>19</td>\n",
       "      <td>348.0</td>\n",
       "      <td>1</td>\n",
       "      <td>1</td>\n",
       "      <td>3</td>\n",
       "      <td>1</td>\n",
       "      <td>6</td>\n",
       "      <td>Rua São João</td>\n",
       "      <td>...</td>\n",
       "      <td>SP</td>\n",
       "      <td>02920-050</td>\n",
       "      <td>1</td>\n",
       "      <td>1</td>\n",
       "      <td>1</td>\n",
       "      <td>1</td>\n",
       "      <td>1</td>\n",
       "      <td>1</td>\n",
       "      <td>1</td>\n",
       "      <td>9</td>\n",
       "    </tr>\n",
       "  </tbody>\n",
       "</table>\n",
       "<p>5 rows × 23 columns</p>\n",
       "</div>"
      ],
      "text/plain": [
       "    matrícula                            nome  idade  renda  cor  sexo  \\\n",
       "0  RA55000001        Osane Inácio Pinhal Ouro     19  418.0    1     2   \n",
       "1  RA55000002  Zezita Olivares Ferro Telinhos     19  279.0    1     2   \n",
       "2  RA55000003   Orleis Bilhalva Pereira Moita     19   87.0    1     1   \n",
       "3  RA55000004                    Kaiuan Félix     19  243.0    1     1   \n",
       "4  RA55000005     Geovan Quaresma Lameirinhas     19  348.0    1     1   \n",
       "\n",
       "   ano_curso  escola  cod_curso                      logradouro  ...  uf  \\\n",
       "0          3       1          5  Viela Vinte e Sete de Setembro  ...  SP   \n",
       "1          3       1          2      Rua Marechal Marques Porto  ...  SP   \n",
       "2          3       1          9              Rua Vinte de Março  ...  SP   \n",
       "3          3       1          9                  Rua João Pires  ...  SP   \n",
       "4          3       1          6                    Rua São João  ...  SP   \n",
       "\n",
       "         cep gad-1 gad-2 gad-3  gad-4  gad-5  gad-6  gad-7  motivação  \n",
       "0  04235-090     1     1     1      1      1      1      1          9  \n",
       "1  03906-020     0     1     1      1      1      1      1         10  \n",
       "2  02326-115     1     0     1      1      1      1      1         10  \n",
       "3  03168-060     1     1     1      1      1      1      1          9  \n",
       "4  02920-050     1     1     1      1      1      1      1          9  \n",
       "\n",
       "[5 rows x 23 columns]"
      ]
     },
     "execution_count": 61,
     "metadata": {},
     "output_type": "execute_result"
    }
   ],
   "source": [
    "df = pd.read_csv(\"dataset.tsv\", sep = \"\\t\")\n",
    "df.head()"
   ]
  },
  {
   "attachments": {},
   "cell_type": "markdown",
   "id": "61029546",
   "metadata": {},
   "source": [
    "# Limpeza das colunas que não são relevantes no contexto"
   ]
  },
  {
   "cell_type": "code",
   "execution_count": 62,
   "id": "ec98e916",
   "metadata": {
    "collapsed": false
   },
   "outputs": [
    {
     "data": {
      "text/html": [
       "<div>\n",
       "<style scoped>\n",
       "    .dataframe tbody tr th:only-of-type {\n",
       "        vertical-align: middle;\n",
       "    }\n",
       "\n",
       "    .dataframe tbody tr th {\n",
       "        vertical-align: top;\n",
       "    }\n",
       "\n",
       "    .dataframe thead th {\n",
       "        text-align: right;\n",
       "    }\n",
       "</style>\n",
       "<table border=\"1\" class=\"dataframe\">\n",
       "  <thead>\n",
       "    <tr style=\"text-align: right;\">\n",
       "      <th></th>\n",
       "      <th>idade</th>\n",
       "      <th>renda</th>\n",
       "      <th>ano_curso</th>\n",
       "      <th>gad-1</th>\n",
       "      <th>gad-2</th>\n",
       "      <th>gad-3</th>\n",
       "      <th>gad-4</th>\n",
       "      <th>gad-5</th>\n",
       "      <th>gad-6</th>\n",
       "      <th>gad-7</th>\n",
       "      <th>motivação</th>\n",
       "    </tr>\n",
       "  </thead>\n",
       "  <tbody>\n",
       "    <tr>\n",
       "      <th>0</th>\n",
       "      <td>19</td>\n",
       "      <td>418.00</td>\n",
       "      <td>3</td>\n",
       "      <td>1</td>\n",
       "      <td>1</td>\n",
       "      <td>1</td>\n",
       "      <td>1</td>\n",
       "      <td>1</td>\n",
       "      <td>1</td>\n",
       "      <td>1</td>\n",
       "      <td>9</td>\n",
       "    </tr>\n",
       "    <tr>\n",
       "      <th>1</th>\n",
       "      <td>19</td>\n",
       "      <td>279.00</td>\n",
       "      <td>3</td>\n",
       "      <td>0</td>\n",
       "      <td>1</td>\n",
       "      <td>1</td>\n",
       "      <td>1</td>\n",
       "      <td>1</td>\n",
       "      <td>1</td>\n",
       "      <td>1</td>\n",
       "      <td>10</td>\n",
       "    </tr>\n",
       "    <tr>\n",
       "      <th>2</th>\n",
       "      <td>19</td>\n",
       "      <td>87.00</td>\n",
       "      <td>3</td>\n",
       "      <td>1</td>\n",
       "      <td>0</td>\n",
       "      <td>1</td>\n",
       "      <td>1</td>\n",
       "      <td>1</td>\n",
       "      <td>1</td>\n",
       "      <td>1</td>\n",
       "      <td>10</td>\n",
       "    </tr>\n",
       "    <tr>\n",
       "      <th>3</th>\n",
       "      <td>19</td>\n",
       "      <td>243.00</td>\n",
       "      <td>3</td>\n",
       "      <td>1</td>\n",
       "      <td>1</td>\n",
       "      <td>1</td>\n",
       "      <td>1</td>\n",
       "      <td>1</td>\n",
       "      <td>1</td>\n",
       "      <td>1</td>\n",
       "      <td>9</td>\n",
       "    </tr>\n",
       "    <tr>\n",
       "      <th>4</th>\n",
       "      <td>19</td>\n",
       "      <td>348.00</td>\n",
       "      <td>3</td>\n",
       "      <td>1</td>\n",
       "      <td>1</td>\n",
       "      <td>1</td>\n",
       "      <td>1</td>\n",
       "      <td>1</td>\n",
       "      <td>1</td>\n",
       "      <td>1</td>\n",
       "      <td>9</td>\n",
       "    </tr>\n",
       "    <tr>\n",
       "      <th>...</th>\n",
       "      <td>...</td>\n",
       "      <td>...</td>\n",
       "      <td>...</td>\n",
       "      <td>...</td>\n",
       "      <td>...</td>\n",
       "      <td>...</td>\n",
       "      <td>...</td>\n",
       "      <td>...</td>\n",
       "      <td>...</td>\n",
       "      <td>...</td>\n",
       "      <td>...</td>\n",
       "    </tr>\n",
       "    <tr>\n",
       "      <th>495</th>\n",
       "      <td>31</td>\n",
       "      <td>22669.71</td>\n",
       "      <td>2</td>\n",
       "      <td>2</td>\n",
       "      <td>2</td>\n",
       "      <td>2</td>\n",
       "      <td>1</td>\n",
       "      <td>1</td>\n",
       "      <td>1</td>\n",
       "      <td>1</td>\n",
       "      <td>1</td>\n",
       "    </tr>\n",
       "    <tr>\n",
       "      <th>496</th>\n",
       "      <td>45</td>\n",
       "      <td>229643.80</td>\n",
       "      <td>1</td>\n",
       "      <td>2</td>\n",
       "      <td>2</td>\n",
       "      <td>2</td>\n",
       "      <td>2</td>\n",
       "      <td>2</td>\n",
       "      <td>2</td>\n",
       "      <td>2</td>\n",
       "      <td>1</td>\n",
       "    </tr>\n",
       "    <tr>\n",
       "      <th>497</th>\n",
       "      <td>32</td>\n",
       "      <td>572939.98</td>\n",
       "      <td>5</td>\n",
       "      <td>2</td>\n",
       "      <td>2</td>\n",
       "      <td>2</td>\n",
       "      <td>2</td>\n",
       "      <td>1</td>\n",
       "      <td>1</td>\n",
       "      <td>1</td>\n",
       "      <td>1</td>\n",
       "    </tr>\n",
       "    <tr>\n",
       "      <th>498</th>\n",
       "      <td>34</td>\n",
       "      <td>898004.00</td>\n",
       "      <td>5</td>\n",
       "      <td>1</td>\n",
       "      <td>1</td>\n",
       "      <td>1</td>\n",
       "      <td>1</td>\n",
       "      <td>1</td>\n",
       "      <td>1</td>\n",
       "      <td>1</td>\n",
       "      <td>0</td>\n",
       "    </tr>\n",
       "    <tr>\n",
       "      <th>499</th>\n",
       "      <td>25</td>\n",
       "      <td>453792.67</td>\n",
       "      <td>4</td>\n",
       "      <td>2</td>\n",
       "      <td>2</td>\n",
       "      <td>2</td>\n",
       "      <td>2</td>\n",
       "      <td>2</td>\n",
       "      <td>2</td>\n",
       "      <td>2</td>\n",
       "      <td>1</td>\n",
       "    </tr>\n",
       "  </tbody>\n",
       "</table>\n",
       "<p>500 rows × 11 columns</p>\n",
       "</div>"
      ],
      "text/plain": [
       "     idade      renda  ano_curso  gad-1  gad-2  gad-3  gad-4  gad-5  gad-6  \\\n",
       "0       19     418.00          3      1      1      1      1      1      1   \n",
       "1       19     279.00          3      0      1      1      1      1      1   \n",
       "2       19      87.00          3      1      0      1      1      1      1   \n",
       "3       19     243.00          3      1      1      1      1      1      1   \n",
       "4       19     348.00          3      1      1      1      1      1      1   \n",
       "..     ...        ...        ...    ...    ...    ...    ...    ...    ...   \n",
       "495     31   22669.71          2      2      2      2      1      1      1   \n",
       "496     45  229643.80          1      2      2      2      2      2      2   \n",
       "497     32  572939.98          5      2      2      2      2      1      1   \n",
       "498     34  898004.00          5      1      1      1      1      1      1   \n",
       "499     25  453792.67          4      2      2      2      2      2      2   \n",
       "\n",
       "     gad-7  motivação  \n",
       "0        1          9  \n",
       "1        1         10  \n",
       "2        1         10  \n",
       "3        1          9  \n",
       "4        1          9  \n",
       "..     ...        ...  \n",
       "495      1          1  \n",
       "496      2          1  \n",
       "497      1          1  \n",
       "498      1          0  \n",
       "499      2          1  \n",
       "\n",
       "[500 rows x 11 columns]"
      ]
     },
     "execution_count": 62,
     "metadata": {},
     "output_type": "execute_result"
    }
   ],
   "source": [
    "df.drop([\"matrícula\", \"nome\", \"cor\", \"sexo\", \"escola\", \"cod_curso\", \"logradouro\", \"numero\", \"bairro\", \"cidade\", \"uf\", \"cep\"], axis=1, inplace=True)\n",
    "df"
   ]
  },
  {
   "cell_type": "markdown",
   "id": "3f72d875",
   "metadata": {},
   "source": [
    "# Distribuição dos dados de renda"
   ]
  },
  {
   "cell_type": "code",
   "execution_count": 63,
   "id": "d6154042",
   "metadata": {},
   "outputs": [
    {
     "data": {
      "application/vnd.plotly.v1+json": {
       "config": {
        "plotlyServerURL": "https://plot.ly"
       },
       "data": [
        {
         "alignmentgroup": "True",
         "bingroup": "x",
         "hovertemplate": "renda=%{x}<br>count=%{y}<extra></extra>",
         "legendgroup": "",
         "marker": {
          "color": "#636efa",
          "pattern": {
           "shape": ""
          }
         },
         "name": "",
         "offsetgroup": "",
         "orientation": "v",
         "showlegend": false,
         "textposition": "outside",
         "texttemplate": "%{value}",
         "type": "histogram",
         "x": [
          418,
          279,
          87,
          243,
          348,
          586,
          190,
          302,
          151,
          321,
          369,
          253,
          461,
          564,
          469,
          454,
          514,
          588,
          149,
          872.99,
          686.99,
          684.99,
          941.99,
          652.99,
          1141.99,
          1151.99,
          1157.99,
          1178.99,
          1117.99,
          819.99,
          705.99,
          878.99,
          619.99,
          888.99,
          761.99,
          1085.99,
          1025.99,
          749.99,
          802.99,
          1215.99,
          1181.99,
          1098.99,
          761.99,
          947.99,
          739.99,
          1101.99,
          875.99,
          1098.99,
          1079.99,
          807.99,
          936.99,
          785.99,
          1175.99,
          624.99,
          1010.99,
          779.99,
          629.99,
          887.99,
          1094.99,
          1218.99,
          619.99,
          705.99,
          792.99,
          926.99,
          1177.99,
          1014.99,
          840.99,
          705.99,
          1114.99,
          634.99,
          1106.99,
          750.99,
          821.99,
          1145.99,
          746.99,
          1059.99,
          808.99,
          934.99,
          1029.99,
          630.99,
          905.99,
          686.99,
          828.99,
          978.99,
          912.99,
          1070.99,
          1033.99,
          1071.99,
          1166.99,
          843.99,
          1166.99,
          1060.99,
          931.99,
          911.99,
          993.99,
          1022.99,
          672.99,
          1156.99,
          1086.99,
          1154.99,
          1077.99,
          1204.99,
          657.99,
          897.99,
          862.99,
          664.99,
          896.99,
          637.99,
          831.99,
          939.99,
          745.99,
          718.99,
          1220.99,
          641.99,
          1129.99,
          1205.99,
          1171.99,
          1200.99,
          778.99,
          820.99,
          633.99,
          722.99,
          653.99,
          880.99,
          1084.99,
          1108.99,
          860.99,
          844.99,
          695.99,
          1000.99,
          662.99,
          1040.99,
          2098.98,
          1664.98,
          1510.99,
          1320.99,
          1960.98,
          1671.98,
          2012.98,
          1449.99,
          1386.99,
          1907.98,
          2121.98,
          1299.99,
          2331.98,
          1636.99,
          1934.98,
          1926.98,
          1877.98,
          1544.99,
          2052.98,
          2432.98,
          1426.99,
          1365.99,
          2411.98,
          2407.98,
          1685.98,
          1901.98,
          1678.98,
          1460.99,
          2292.98,
          1910.98,
          1837.98,
          1402.99,
          2004.98,
          1844.98,
          1952.98,
          2295.98,
          2099.98,
          1358.99,
          1343.99,
          1544.99,
          1394.99,
          2375.98,
          1660.98,
          1786.98,
          2195.98,
          1803.98,
          1747.56,
          1938.56,
          1364.57,
          1726.56,
          2175.56,
          2202.56,
          1847.56,
          2282.56,
          1371.56,
          1696.56,
          1659.56,
          1745.56,
          1597.56,
          2188.56,
          1948.56,
          1644.56,
          1858.56,
          2288.56,
          2103.56,
          2027.56,
          1845.56,
          2058.56,
          1638.56,
          1392.56,
          1917.56,
          2186.56,
          1822.56,
          1760.56,
          1264.57,
          2246.56,
          1559.56,
          2372.56,
          1827.56,
          1631.56,
          1763.56,
          2092.56,
          2309.56,
          2395.56,
          1831.56,
          1291.57,
          1873.56,
          1451.56,
          2328.56,
          2421.55,
          1538.56,
          1675.56,
          2002.56,
          2409.55,
          1697.56,
          1470.56,
          1786.56,
          2126.56,
          1902.56,
          2077.56,
          1586.56,
          1979.56,
          1977.56,
          2071.56,
          1583.56,
          1326.57,
          1257.57,
          2357.56,
          2389.56,
          2403.56,
          2360.56,
          1839.56,
          1433.56,
          2024.56,
          1558.56,
          1991.56,
          1434.56,
          1314.57,
          2409.55,
          1842.56,
          2069.56,
          2016.56,
          1549.56,
          1761.56,
          1618.56,
          2110.56,
          1961.56,
          2413.55,
          2263.56,
          1446.56,
          2155.56,
          1540.56,
          1720.56,
          1438.56,
          2220.56,
          1333.57,
          1732.56,
          1578.56,
          1735.56,
          2343.56,
          1936.56,
          2015.56,
          1453.56,
          2138.56,
          2222.56,
          1709.56,
          1739.56,
          1317.57,
          1321.57,
          1564.56,
          1424.56,
          1600.56,
          1765.56,
          1910.56,
          2219.56,
          1349.57,
          2342.56,
          2135.56,
          2016.56,
          1889.56,
          1785.56,
          1955.56,
          2039.56,
          2035.56,
          1740.56,
          1493.56,
          1964.56,
          2128.56,
          2239.56,
          1581.56,
          2381.56,
          1389.56,
          2165.56,
          2403.56,
          1671.56,
          1953.56,
          1925.56,
          1964.56,
          2385.56,
          1878.56,
          1983.56,
          1638.56,
          1743.56,
          2273.56,
          2192.56,
          2122.56,
          1866.56,
          2110.56,
          1263.57,
          1533.56,
          1811.56,
          1595.14,
          1943.14,
          1723.14,
          2009.14,
          1375.14,
          1555.14,
          2006.14,
          2108.14,
          1889.14,
          2168.13,
          2058.14,
          2376.13,
          2066.14,
          1574.14,
          1578.14,
          1728.14,
          2130.13,
          2136.13,
          2404.13,
          1366.14,
          2178.13,
          1509.14,
          1833.14,
          2014.14,
          2180.13,
          2137.13,
          1226.14,
          1773.14,
          2567.13,
          3534.12,
          3629.12,
          2605.13,
          2485.13,
          3165.13,
          3505.12,
          2821.13,
          2565.13,
          2662.13,
          2944.13,
          2739.13,
          2640.13,
          2960.13,
          2450.13,
          3248.12,
          3316.12,
          2777.13,
          2982.13,
          3134.13,
          3544.12,
          3497.12,
          3382.12,
          2617.13,
          3476.12,
          3278.12,
          3406.12,
          3265.12,
          3120.13,
          3432.12,
          2845.13,
          2777.13,
          2897.13,
          3431.12,
          3519.12,
          2837.13,
          2506.13,
          3101.13,
          3375.12,
          2600.13,
          3506.12,
          3239.12,
          2472.13,
          3650.12,
          2789.13,
          3399.12,
          3612.12,
          2514.13,
          3346.12,
          2910.13,
          2627.13,
          3371.12,
          3160.28,
          3571.43,
          2622.71,
          2985.7,
          3619.43,
          2705.28,
          2540.44,
          3584.28,
          3491.43,
          3441.7,
          2845.71,
          2665.28,
          2461.71,
          2497.44,
          2566.29,
          3181.7,
          2821.86,
          2617.28,
          3191.86,
          3390.7,
          2786.86,
          3227.28,
          5377.84,
          4076.69,
          4461.42,
          5499.68,
          5860.83,
          5279.68,
          4503.27,
          4009.85,
          4683.84,
          3878.7,
          5213.41,
          4919.42,
          5138.26,
          3936.27,
          5381.41,
          5543.83,
          6083.67,
          4798.84,
          5304.26,
          3833.27,
          4349.27,
          5602.41,
          5987.41,
          4919.26,
          3905.85,
          4771.26,
          4632.27,
          3678.7,
          4340.69,
          4593.27,
          4561.69,
          5032.68,
          4711.26,
          5910.41,
          4836.42,
          4316.85,
          4042.27,
          5124.68,
          4509.84,
          4246.42,
          5887.41,
          4778.84,
          4217.27,
          4451.81,
          4443.73,
          3915.31,
          4993.85,
          5270.81,
          6378.33,
          6277.91,
          8300.51,
          8099.2,
          6234.49,
          9369.92,
          8591.16,
          8421.35,
          11589.59,
          10097.94,
          6225.29,
          9570.61,
          10298.1,
          6854.26,
          8912,
          6778.6,
          9682.65,
          10457.14,
          17336.61,
          20678.88,
          16439.16,
          21470.14,
          22669.71,
          229643.8,
          572939.98,
          898004,
          453792.67
         ],
         "xaxis": "x",
         "yaxis": "y"
        }
       ],
       "layout": {
        "barmode": "relative",
        "height": 800,
        "legend": {
         "tracegroupgap": 0
        },
        "margin": {
         "t": 60
        },
        "template": {
         "data": {
          "bar": [
           {
            "error_x": {
             "color": "#2a3f5f"
            },
            "error_y": {
             "color": "#2a3f5f"
            },
            "marker": {
             "line": {
              "color": "#E5ECF6",
              "width": 0.5
             },
             "pattern": {
              "fillmode": "overlay",
              "size": 10,
              "solidity": 0.2
             }
            },
            "type": "bar"
           }
          ],
          "barpolar": [
           {
            "marker": {
             "line": {
              "color": "#E5ECF6",
              "width": 0.5
             },
             "pattern": {
              "fillmode": "overlay",
              "size": 10,
              "solidity": 0.2
             }
            },
            "type": "barpolar"
           }
          ],
          "carpet": [
           {
            "aaxis": {
             "endlinecolor": "#2a3f5f",
             "gridcolor": "white",
             "linecolor": "white",
             "minorgridcolor": "white",
             "startlinecolor": "#2a3f5f"
            },
            "baxis": {
             "endlinecolor": "#2a3f5f",
             "gridcolor": "white",
             "linecolor": "white",
             "minorgridcolor": "white",
             "startlinecolor": "#2a3f5f"
            },
            "type": "carpet"
           }
          ],
          "choropleth": [
           {
            "colorbar": {
             "outlinewidth": 0,
             "ticks": ""
            },
            "type": "choropleth"
           }
          ],
          "contour": [
           {
            "colorbar": {
             "outlinewidth": 0,
             "ticks": ""
            },
            "colorscale": [
             [
              0,
              "#0d0887"
             ],
             [
              0.1111111111111111,
              "#46039f"
             ],
             [
              0.2222222222222222,
              "#7201a8"
             ],
             [
              0.3333333333333333,
              "#9c179e"
             ],
             [
              0.4444444444444444,
              "#bd3786"
             ],
             [
              0.5555555555555556,
              "#d8576b"
             ],
             [
              0.6666666666666666,
              "#ed7953"
             ],
             [
              0.7777777777777778,
              "#fb9f3a"
             ],
             [
              0.8888888888888888,
              "#fdca26"
             ],
             [
              1,
              "#f0f921"
             ]
            ],
            "type": "contour"
           }
          ],
          "contourcarpet": [
           {
            "colorbar": {
             "outlinewidth": 0,
             "ticks": ""
            },
            "type": "contourcarpet"
           }
          ],
          "heatmap": [
           {
            "colorbar": {
             "outlinewidth": 0,
             "ticks": ""
            },
            "colorscale": [
             [
              0,
              "#0d0887"
             ],
             [
              0.1111111111111111,
              "#46039f"
             ],
             [
              0.2222222222222222,
              "#7201a8"
             ],
             [
              0.3333333333333333,
              "#9c179e"
             ],
             [
              0.4444444444444444,
              "#bd3786"
             ],
             [
              0.5555555555555556,
              "#d8576b"
             ],
             [
              0.6666666666666666,
              "#ed7953"
             ],
             [
              0.7777777777777778,
              "#fb9f3a"
             ],
             [
              0.8888888888888888,
              "#fdca26"
             ],
             [
              1,
              "#f0f921"
             ]
            ],
            "type": "heatmap"
           }
          ],
          "heatmapgl": [
           {
            "colorbar": {
             "outlinewidth": 0,
             "ticks": ""
            },
            "colorscale": [
             [
              0,
              "#0d0887"
             ],
             [
              0.1111111111111111,
              "#46039f"
             ],
             [
              0.2222222222222222,
              "#7201a8"
             ],
             [
              0.3333333333333333,
              "#9c179e"
             ],
             [
              0.4444444444444444,
              "#bd3786"
             ],
             [
              0.5555555555555556,
              "#d8576b"
             ],
             [
              0.6666666666666666,
              "#ed7953"
             ],
             [
              0.7777777777777778,
              "#fb9f3a"
             ],
             [
              0.8888888888888888,
              "#fdca26"
             ],
             [
              1,
              "#f0f921"
             ]
            ],
            "type": "heatmapgl"
           }
          ],
          "histogram": [
           {
            "marker": {
             "pattern": {
              "fillmode": "overlay",
              "size": 10,
              "solidity": 0.2
             }
            },
            "type": "histogram"
           }
          ],
          "histogram2d": [
           {
            "colorbar": {
             "outlinewidth": 0,
             "ticks": ""
            },
            "colorscale": [
             [
              0,
              "#0d0887"
             ],
             [
              0.1111111111111111,
              "#46039f"
             ],
             [
              0.2222222222222222,
              "#7201a8"
             ],
             [
              0.3333333333333333,
              "#9c179e"
             ],
             [
              0.4444444444444444,
              "#bd3786"
             ],
             [
              0.5555555555555556,
              "#d8576b"
             ],
             [
              0.6666666666666666,
              "#ed7953"
             ],
             [
              0.7777777777777778,
              "#fb9f3a"
             ],
             [
              0.8888888888888888,
              "#fdca26"
             ],
             [
              1,
              "#f0f921"
             ]
            ],
            "type": "histogram2d"
           }
          ],
          "histogram2dcontour": [
           {
            "colorbar": {
             "outlinewidth": 0,
             "ticks": ""
            },
            "colorscale": [
             [
              0,
              "#0d0887"
             ],
             [
              0.1111111111111111,
              "#46039f"
             ],
             [
              0.2222222222222222,
              "#7201a8"
             ],
             [
              0.3333333333333333,
              "#9c179e"
             ],
             [
              0.4444444444444444,
              "#bd3786"
             ],
             [
              0.5555555555555556,
              "#d8576b"
             ],
             [
              0.6666666666666666,
              "#ed7953"
             ],
             [
              0.7777777777777778,
              "#fb9f3a"
             ],
             [
              0.8888888888888888,
              "#fdca26"
             ],
             [
              1,
              "#f0f921"
             ]
            ],
            "type": "histogram2dcontour"
           }
          ],
          "mesh3d": [
           {
            "colorbar": {
             "outlinewidth": 0,
             "ticks": ""
            },
            "type": "mesh3d"
           }
          ],
          "parcoords": [
           {
            "line": {
             "colorbar": {
              "outlinewidth": 0,
              "ticks": ""
             }
            },
            "type": "parcoords"
           }
          ],
          "pie": [
           {
            "automargin": true,
            "type": "pie"
           }
          ],
          "scatter": [
           {
            "marker": {
             "colorbar": {
              "outlinewidth": 0,
              "ticks": ""
             }
            },
            "type": "scatter"
           }
          ],
          "scatter3d": [
           {
            "line": {
             "colorbar": {
              "outlinewidth": 0,
              "ticks": ""
             }
            },
            "marker": {
             "colorbar": {
              "outlinewidth": 0,
              "ticks": ""
             }
            },
            "type": "scatter3d"
           }
          ],
          "scattercarpet": [
           {
            "marker": {
             "colorbar": {
              "outlinewidth": 0,
              "ticks": ""
             }
            },
            "type": "scattercarpet"
           }
          ],
          "scattergeo": [
           {
            "marker": {
             "colorbar": {
              "outlinewidth": 0,
              "ticks": ""
             }
            },
            "type": "scattergeo"
           }
          ],
          "scattergl": [
           {
            "marker": {
             "colorbar": {
              "outlinewidth": 0,
              "ticks": ""
             }
            },
            "type": "scattergl"
           }
          ],
          "scattermapbox": [
           {
            "marker": {
             "colorbar": {
              "outlinewidth": 0,
              "ticks": ""
             }
            },
            "type": "scattermapbox"
           }
          ],
          "scatterpolar": [
           {
            "marker": {
             "colorbar": {
              "outlinewidth": 0,
              "ticks": ""
             }
            },
            "type": "scatterpolar"
           }
          ],
          "scatterpolargl": [
           {
            "marker": {
             "colorbar": {
              "outlinewidth": 0,
              "ticks": ""
             }
            },
            "type": "scatterpolargl"
           }
          ],
          "scatterternary": [
           {
            "marker": {
             "colorbar": {
              "outlinewidth": 0,
              "ticks": ""
             }
            },
            "type": "scatterternary"
           }
          ],
          "surface": [
           {
            "colorbar": {
             "outlinewidth": 0,
             "ticks": ""
            },
            "colorscale": [
             [
              0,
              "#0d0887"
             ],
             [
              0.1111111111111111,
              "#46039f"
             ],
             [
              0.2222222222222222,
              "#7201a8"
             ],
             [
              0.3333333333333333,
              "#9c179e"
             ],
             [
              0.4444444444444444,
              "#bd3786"
             ],
             [
              0.5555555555555556,
              "#d8576b"
             ],
             [
              0.6666666666666666,
              "#ed7953"
             ],
             [
              0.7777777777777778,
              "#fb9f3a"
             ],
             [
              0.8888888888888888,
              "#fdca26"
             ],
             [
              1,
              "#f0f921"
             ]
            ],
            "type": "surface"
           }
          ],
          "table": [
           {
            "cells": {
             "fill": {
              "color": "#EBF0F8"
             },
             "line": {
              "color": "white"
             }
            },
            "header": {
             "fill": {
              "color": "#C8D4E3"
             },
             "line": {
              "color": "white"
             }
            },
            "type": "table"
           }
          ]
         },
         "layout": {
          "annotationdefaults": {
           "arrowcolor": "#2a3f5f",
           "arrowhead": 0,
           "arrowwidth": 1
          },
          "autotypenumbers": "strict",
          "coloraxis": {
           "colorbar": {
            "outlinewidth": 0,
            "ticks": ""
           }
          },
          "colorscale": {
           "diverging": [
            [
             0,
             "#8e0152"
            ],
            [
             0.1,
             "#c51b7d"
            ],
            [
             0.2,
             "#de77ae"
            ],
            [
             0.3,
             "#f1b6da"
            ],
            [
             0.4,
             "#fde0ef"
            ],
            [
             0.5,
             "#f7f7f7"
            ],
            [
             0.6,
             "#e6f5d0"
            ],
            [
             0.7,
             "#b8e186"
            ],
            [
             0.8,
             "#7fbc41"
            ],
            [
             0.9,
             "#4d9221"
            ],
            [
             1,
             "#276419"
            ]
           ],
           "sequential": [
            [
             0,
             "#0d0887"
            ],
            [
             0.1111111111111111,
             "#46039f"
            ],
            [
             0.2222222222222222,
             "#7201a8"
            ],
            [
             0.3333333333333333,
             "#9c179e"
            ],
            [
             0.4444444444444444,
             "#bd3786"
            ],
            [
             0.5555555555555556,
             "#d8576b"
            ],
            [
             0.6666666666666666,
             "#ed7953"
            ],
            [
             0.7777777777777778,
             "#fb9f3a"
            ],
            [
             0.8888888888888888,
             "#fdca26"
            ],
            [
             1,
             "#f0f921"
            ]
           ],
           "sequentialminus": [
            [
             0,
             "#0d0887"
            ],
            [
             0.1111111111111111,
             "#46039f"
            ],
            [
             0.2222222222222222,
             "#7201a8"
            ],
            [
             0.3333333333333333,
             "#9c179e"
            ],
            [
             0.4444444444444444,
             "#bd3786"
            ],
            [
             0.5555555555555556,
             "#d8576b"
            ],
            [
             0.6666666666666666,
             "#ed7953"
            ],
            [
             0.7777777777777778,
             "#fb9f3a"
            ],
            [
             0.8888888888888888,
             "#fdca26"
            ],
            [
             1,
             "#f0f921"
            ]
           ]
          },
          "colorway": [
           "#636efa",
           "#EF553B",
           "#00cc96",
           "#ab63fa",
           "#FFA15A",
           "#19d3f3",
           "#FF6692",
           "#B6E880",
           "#FF97FF",
           "#FECB52"
          ],
          "font": {
           "color": "#2a3f5f"
          },
          "geo": {
           "bgcolor": "white",
           "lakecolor": "white",
           "landcolor": "#E5ECF6",
           "showlakes": true,
           "showland": true,
           "subunitcolor": "white"
          },
          "hoverlabel": {
           "align": "left"
          },
          "hovermode": "closest",
          "mapbox": {
           "style": "light"
          },
          "paper_bgcolor": "white",
          "plot_bgcolor": "#E5ECF6",
          "polar": {
           "angularaxis": {
            "gridcolor": "white",
            "linecolor": "white",
            "ticks": ""
           },
           "bgcolor": "#E5ECF6",
           "radialaxis": {
            "gridcolor": "white",
            "linecolor": "white",
            "ticks": ""
           }
          },
          "scene": {
           "xaxis": {
            "backgroundcolor": "#E5ECF6",
            "gridcolor": "white",
            "gridwidth": 2,
            "linecolor": "white",
            "showbackground": true,
            "ticks": "",
            "zerolinecolor": "white"
           },
           "yaxis": {
            "backgroundcolor": "#E5ECF6",
            "gridcolor": "white",
            "gridwidth": 2,
            "linecolor": "white",
            "showbackground": true,
            "ticks": "",
            "zerolinecolor": "white"
           },
           "zaxis": {
            "backgroundcolor": "#E5ECF6",
            "gridcolor": "white",
            "gridwidth": 2,
            "linecolor": "white",
            "showbackground": true,
            "ticks": "",
            "zerolinecolor": "white"
           }
          },
          "shapedefaults": {
           "line": {
            "color": "#2a3f5f"
           }
          },
          "ternary": {
           "aaxis": {
            "gridcolor": "white",
            "linecolor": "white",
            "ticks": ""
           },
           "baxis": {
            "gridcolor": "white",
            "linecolor": "white",
            "ticks": ""
           },
           "bgcolor": "#E5ECF6",
           "caxis": {
            "gridcolor": "white",
            "linecolor": "white",
            "ticks": ""
           }
          },
          "title": {
           "x": 0.05
          },
          "xaxis": {
           "automargin": true,
           "gridcolor": "white",
           "linecolor": "white",
           "ticks": "",
           "title": {
            "standoff": 15
           },
           "zerolinecolor": "white",
           "zerolinewidth": 2
          },
          "yaxis": {
           "automargin": true,
           "gridcolor": "white",
           "linecolor": "white",
           "ticks": "",
           "title": {
            "standoff": 15
           },
           "zerolinecolor": "white",
           "zerolinewidth": 2
          }
         }
        },
        "width": 1200,
        "xaxis": {
         "anchor": "y",
         "domain": [
          0,
          1
         ],
         "title": {
          "text": "renda"
         }
        },
        "yaxis": {
         "anchor": "x",
         "domain": [
          0,
          1
         ],
         "title": {
          "text": "count"
         }
        }
       }
      }
     },
     "metadata": {},
     "output_type": "display_data"
    }
   ],
   "source": [
    "fig = px.histogram(df, \"renda\", text_auto=True, width=1200, height=800)\n",
    "fig.update_traces(textposition=\"outside\")\n",
    "\n",
    "fig.show()"
   ]
  },
  {
   "attachments": {},
   "cell_type": "markdown",
   "id": "02f7b95c",
   "metadata": {},
   "source": [
    "# Remoção dos outliers de renda"
   ]
  },
  {
   "cell_type": "code",
   "execution_count": 64,
   "id": "220fbcf5",
   "metadata": {
    "collapsed": false
   },
   "outputs": [
    {
     "data": {
      "text/html": [
       "<div>\n",
       "<style scoped>\n",
       "    .dataframe tbody tr th:only-of-type {\n",
       "        vertical-align: middle;\n",
       "    }\n",
       "\n",
       "    .dataframe tbody tr th {\n",
       "        vertical-align: top;\n",
       "    }\n",
       "\n",
       "    .dataframe thead th {\n",
       "        text-align: right;\n",
       "    }\n",
       "</style>\n",
       "<table border=\"1\" class=\"dataframe\">\n",
       "  <thead>\n",
       "    <tr style=\"text-align: right;\">\n",
       "      <th></th>\n",
       "      <th>idade</th>\n",
       "      <th>renda</th>\n",
       "      <th>ano_curso</th>\n",
       "      <th>gad-1</th>\n",
       "      <th>gad-2</th>\n",
       "      <th>gad-3</th>\n",
       "      <th>gad-4</th>\n",
       "      <th>gad-5</th>\n",
       "      <th>gad-6</th>\n",
       "      <th>gad-7</th>\n",
       "      <th>motivação</th>\n",
       "    </tr>\n",
       "  </thead>\n",
       "  <tbody>\n",
       "    <tr>\n",
       "      <th>0</th>\n",
       "      <td>19</td>\n",
       "      <td>418.00</td>\n",
       "      <td>3</td>\n",
       "      <td>1</td>\n",
       "      <td>1</td>\n",
       "      <td>1</td>\n",
       "      <td>1</td>\n",
       "      <td>1</td>\n",
       "      <td>1</td>\n",
       "      <td>1</td>\n",
       "      <td>9</td>\n",
       "    </tr>\n",
       "    <tr>\n",
       "      <th>1</th>\n",
       "      <td>19</td>\n",
       "      <td>279.00</td>\n",
       "      <td>3</td>\n",
       "      <td>0</td>\n",
       "      <td>1</td>\n",
       "      <td>1</td>\n",
       "      <td>1</td>\n",
       "      <td>1</td>\n",
       "      <td>1</td>\n",
       "      <td>1</td>\n",
       "      <td>10</td>\n",
       "    </tr>\n",
       "    <tr>\n",
       "      <th>2</th>\n",
       "      <td>19</td>\n",
       "      <td>87.00</td>\n",
       "      <td>3</td>\n",
       "      <td>1</td>\n",
       "      <td>0</td>\n",
       "      <td>1</td>\n",
       "      <td>1</td>\n",
       "      <td>1</td>\n",
       "      <td>1</td>\n",
       "      <td>1</td>\n",
       "      <td>10</td>\n",
       "    </tr>\n",
       "    <tr>\n",
       "      <th>3</th>\n",
       "      <td>19</td>\n",
       "      <td>243.00</td>\n",
       "      <td>3</td>\n",
       "      <td>1</td>\n",
       "      <td>1</td>\n",
       "      <td>1</td>\n",
       "      <td>1</td>\n",
       "      <td>1</td>\n",
       "      <td>1</td>\n",
       "      <td>1</td>\n",
       "      <td>9</td>\n",
       "    </tr>\n",
       "    <tr>\n",
       "      <th>4</th>\n",
       "      <td>19</td>\n",
       "      <td>348.00</td>\n",
       "      <td>3</td>\n",
       "      <td>1</td>\n",
       "      <td>1</td>\n",
       "      <td>1</td>\n",
       "      <td>1</td>\n",
       "      <td>1</td>\n",
       "      <td>1</td>\n",
       "      <td>1</td>\n",
       "      <td>9</td>\n",
       "    </tr>\n",
       "    <tr>\n",
       "      <th>...</th>\n",
       "      <td>...</td>\n",
       "      <td>...</td>\n",
       "      <td>...</td>\n",
       "      <td>...</td>\n",
       "      <td>...</td>\n",
       "      <td>...</td>\n",
       "      <td>...</td>\n",
       "      <td>...</td>\n",
       "      <td>...</td>\n",
       "      <td>...</td>\n",
       "      <td>...</td>\n",
       "    </tr>\n",
       "    <tr>\n",
       "      <th>490</th>\n",
       "      <td>34</td>\n",
       "      <td>10457.14</td>\n",
       "      <td>4</td>\n",
       "      <td>2</td>\n",
       "      <td>2</td>\n",
       "      <td>2</td>\n",
       "      <td>2</td>\n",
       "      <td>2</td>\n",
       "      <td>2</td>\n",
       "      <td>2</td>\n",
       "      <td>0</td>\n",
       "    </tr>\n",
       "    <tr>\n",
       "      <th>491</th>\n",
       "      <td>29</td>\n",
       "      <td>17336.61</td>\n",
       "      <td>5</td>\n",
       "      <td>2</td>\n",
       "      <td>2</td>\n",
       "      <td>2</td>\n",
       "      <td>2</td>\n",
       "      <td>2</td>\n",
       "      <td>2</td>\n",
       "      <td>2</td>\n",
       "      <td>1</td>\n",
       "    </tr>\n",
       "    <tr>\n",
       "      <th>492</th>\n",
       "      <td>33</td>\n",
       "      <td>20678.88</td>\n",
       "      <td>1</td>\n",
       "      <td>2</td>\n",
       "      <td>2</td>\n",
       "      <td>2</td>\n",
       "      <td>2</td>\n",
       "      <td>2</td>\n",
       "      <td>2</td>\n",
       "      <td>1</td>\n",
       "      <td>0</td>\n",
       "    </tr>\n",
       "    <tr>\n",
       "      <th>493</th>\n",
       "      <td>48</td>\n",
       "      <td>16439.16</td>\n",
       "      <td>2</td>\n",
       "      <td>2</td>\n",
       "      <td>2</td>\n",
       "      <td>2</td>\n",
       "      <td>2</td>\n",
       "      <td>2</td>\n",
       "      <td>2</td>\n",
       "      <td>1</td>\n",
       "      <td>0</td>\n",
       "    </tr>\n",
       "    <tr>\n",
       "      <th>494</th>\n",
       "      <td>29</td>\n",
       "      <td>21470.14</td>\n",
       "      <td>4</td>\n",
       "      <td>2</td>\n",
       "      <td>2</td>\n",
       "      <td>2</td>\n",
       "      <td>2</td>\n",
       "      <td>2</td>\n",
       "      <td>2</td>\n",
       "      <td>2</td>\n",
       "      <td>0</td>\n",
       "    </tr>\n",
       "  </tbody>\n",
       "</table>\n",
       "<p>495 rows × 11 columns</p>\n",
       "</div>"
      ],
      "text/plain": [
       "     idade     renda  ano_curso  gad-1  gad-2  gad-3  gad-4  gad-5  gad-6  \\\n",
       "0       19    418.00          3      1      1      1      1      1      1   \n",
       "1       19    279.00          3      0      1      1      1      1      1   \n",
       "2       19     87.00          3      1      0      1      1      1      1   \n",
       "3       19    243.00          3      1      1      1      1      1      1   \n",
       "4       19    348.00          3      1      1      1      1      1      1   \n",
       "..     ...       ...        ...    ...    ...    ...    ...    ...    ...   \n",
       "490     34  10457.14          4      2      2      2      2      2      2   \n",
       "491     29  17336.61          5      2      2      2      2      2      2   \n",
       "492     33  20678.88          1      2      2      2      2      2      2   \n",
       "493     48  16439.16          2      2      2      2      2      2      2   \n",
       "494     29  21470.14          4      2      2      2      2      2      2   \n",
       "\n",
       "     gad-7  motivação  \n",
       "0        1          9  \n",
       "1        1         10  \n",
       "2        1         10  \n",
       "3        1          9  \n",
       "4        1          9  \n",
       "..     ...        ...  \n",
       "490      2          0  \n",
       "491      2          1  \n",
       "492      1          0  \n",
       "493      1          0  \n",
       "494      2          0  \n",
       "\n",
       "[495 rows x 11 columns]"
      ]
     },
     "execution_count": 64,
     "metadata": {},
     "output_type": "execute_result"
    }
   ],
   "source": [
    "df[\"renda\"] = df[df[\"renda\"] <= 22000][\"renda\"]\n",
    "df = df.dropna()\n",
    "df.dropna()"
   ]
  },
  {
   "cell_type": "code",
   "execution_count": 65,
   "id": "a5abd72a",
   "metadata": {},
   "outputs": [
    {
     "data": {
      "text/html": [
       "<div>\n",
       "<style scoped>\n",
       "    .dataframe tbody tr th:only-of-type {\n",
       "        vertical-align: middle;\n",
       "    }\n",
       "\n",
       "    .dataframe tbody tr th {\n",
       "        vertical-align: top;\n",
       "    }\n",
       "\n",
       "    .dataframe thead th {\n",
       "        text-align: right;\n",
       "    }\n",
       "</style>\n",
       "<table border=\"1\" class=\"dataframe\">\n",
       "  <thead>\n",
       "    <tr style=\"text-align: right;\">\n",
       "      <th></th>\n",
       "      <th>idade</th>\n",
       "      <th>renda</th>\n",
       "      <th>ano_curso</th>\n",
       "      <th>gad-1</th>\n",
       "      <th>gad-2</th>\n",
       "      <th>gad-3</th>\n",
       "      <th>gad-4</th>\n",
       "      <th>gad-5</th>\n",
       "      <th>gad-6</th>\n",
       "      <th>gad-7</th>\n",
       "      <th>motivação</th>\n",
       "    </tr>\n",
       "  </thead>\n",
       "  <tbody>\n",
       "    <tr>\n",
       "      <th>count</th>\n",
       "      <td>495.000000</td>\n",
       "      <td>495.000000</td>\n",
       "      <td>495.000000</td>\n",
       "      <td>495.000000</td>\n",
       "      <td>495.000000</td>\n",
       "      <td>495.000000</td>\n",
       "      <td>495.000000</td>\n",
       "      <td>495.000000</td>\n",
       "      <td>495.000000</td>\n",
       "      <td>495.000000</td>\n",
       "      <td>495.000000</td>\n",
       "    </tr>\n",
       "    <tr>\n",
       "      <th>mean</th>\n",
       "      <td>21.040404</td>\n",
       "      <td>2426.037596</td>\n",
       "      <td>3.614141</td>\n",
       "      <td>1.480808</td>\n",
       "      <td>1.454545</td>\n",
       "      <td>1.329293</td>\n",
       "      <td>1.212121</td>\n",
       "      <td>1.254545</td>\n",
       "      <td>1.278788</td>\n",
       "      <td>1.272727</td>\n",
       "      <td>6.012121</td>\n",
       "    </tr>\n",
       "    <tr>\n",
       "      <th>std</th>\n",
       "      <td>4.527735</td>\n",
       "      <td>2284.473237</td>\n",
       "      <td>0.974680</td>\n",
       "      <td>0.592749</td>\n",
       "      <td>0.631057</td>\n",
       "      <td>0.549798</td>\n",
       "      <td>0.563260</td>\n",
       "      <td>0.583038</td>\n",
       "      <td>0.585809</td>\n",
       "      <td>0.600576</td>\n",
       "      <td>3.151995</td>\n",
       "    </tr>\n",
       "    <tr>\n",
       "      <th>min</th>\n",
       "      <td>19.000000</td>\n",
       "      <td>87.000000</td>\n",
       "      <td>1.000000</td>\n",
       "      <td>0.000000</td>\n",
       "      <td>0.000000</td>\n",
       "      <td>0.000000</td>\n",
       "      <td>0.000000</td>\n",
       "      <td>0.000000</td>\n",
       "      <td>0.000000</td>\n",
       "      <td>0.000000</td>\n",
       "      <td>0.000000</td>\n",
       "    </tr>\n",
       "    <tr>\n",
       "      <th>25%</th>\n",
       "      <td>19.000000</td>\n",
       "      <td>1178.490000</td>\n",
       "      <td>3.000000</td>\n",
       "      <td>1.000000</td>\n",
       "      <td>1.000000</td>\n",
       "      <td>1.000000</td>\n",
       "      <td>1.000000</td>\n",
       "      <td>1.000000</td>\n",
       "      <td>1.000000</td>\n",
       "      <td>1.000000</td>\n",
       "      <td>3.000000</td>\n",
       "    </tr>\n",
       "    <tr>\n",
       "      <th>50%</th>\n",
       "      <td>20.000000</td>\n",
       "      <td>1907.980000</td>\n",
       "      <td>4.000000</td>\n",
       "      <td>2.000000</td>\n",
       "      <td>1.000000</td>\n",
       "      <td>1.000000</td>\n",
       "      <td>1.000000</td>\n",
       "      <td>1.000000</td>\n",
       "      <td>1.000000</td>\n",
       "      <td>1.000000</td>\n",
       "      <td>7.000000</td>\n",
       "    </tr>\n",
       "    <tr>\n",
       "      <th>75%</th>\n",
       "      <td>20.000000</td>\n",
       "      <td>2685.280000</td>\n",
       "      <td>4.000000</td>\n",
       "      <td>2.000000</td>\n",
       "      <td>2.000000</td>\n",
       "      <td>2.000000</td>\n",
       "      <td>2.000000</td>\n",
       "      <td>2.000000</td>\n",
       "      <td>2.000000</td>\n",
       "      <td>2.000000</td>\n",
       "      <td>9.000000</td>\n",
       "    </tr>\n",
       "    <tr>\n",
       "      <th>max</th>\n",
       "      <td>50.000000</td>\n",
       "      <td>21470.140000</td>\n",
       "      <td>5.000000</td>\n",
       "      <td>3.000000</td>\n",
       "      <td>3.000000</td>\n",
       "      <td>3.000000</td>\n",
       "      <td>3.000000</td>\n",
       "      <td>3.000000</td>\n",
       "      <td>3.000000</td>\n",
       "      <td>3.000000</td>\n",
       "      <td>10.000000</td>\n",
       "    </tr>\n",
       "  </tbody>\n",
       "</table>\n",
       "</div>"
      ],
      "text/plain": [
       "            idade         renda   ano_curso       gad-1       gad-2  \\\n",
       "count  495.000000    495.000000  495.000000  495.000000  495.000000   \n",
       "mean    21.040404   2426.037596    3.614141    1.480808    1.454545   \n",
       "std      4.527735   2284.473237    0.974680    0.592749    0.631057   \n",
       "min     19.000000     87.000000    1.000000    0.000000    0.000000   \n",
       "25%     19.000000   1178.490000    3.000000    1.000000    1.000000   \n",
       "50%     20.000000   1907.980000    4.000000    2.000000    1.000000   \n",
       "75%     20.000000   2685.280000    4.000000    2.000000    2.000000   \n",
       "max     50.000000  21470.140000    5.000000    3.000000    3.000000   \n",
       "\n",
       "            gad-3       gad-4       gad-5       gad-6       gad-7   motivação  \n",
       "count  495.000000  495.000000  495.000000  495.000000  495.000000  495.000000  \n",
       "mean     1.329293    1.212121    1.254545    1.278788    1.272727    6.012121  \n",
       "std      0.549798    0.563260    0.583038    0.585809    0.600576    3.151995  \n",
       "min      0.000000    0.000000    0.000000    0.000000    0.000000    0.000000  \n",
       "25%      1.000000    1.000000    1.000000    1.000000    1.000000    3.000000  \n",
       "50%      1.000000    1.000000    1.000000    1.000000    1.000000    7.000000  \n",
       "75%      2.000000    2.000000    2.000000    2.000000    2.000000    9.000000  \n",
       "max      3.000000    3.000000    3.000000    3.000000    3.000000   10.000000  "
      ]
     },
     "execution_count": 65,
     "metadata": {},
     "output_type": "execute_result"
    }
   ],
   "source": [
    "df.describe()"
   ]
  },
  {
   "attachments": {},
   "cell_type": "markdown",
   "id": "0cb04a1c",
   "metadata": {},
   "source": [
    "# Matriz de correlação inicial"
   ]
  },
  {
   "cell_type": "code",
   "execution_count": 66,
   "id": "34c42c1c",
   "metadata": {
    "collapsed": false
   },
   "outputs": [
    {
     "data": {
      "image/png": "[encoded data removed]",
      "text/plain": [
       "<Figure size 1080x720 with 2 Axes>"
      ]
     },
     "metadata": {},
     "output_type": "display_data"
    }
   ],
   "source": [
    "plt.figure(figsize=(15, 10))\n",
    "corr_matrix = df.corr()\n",
    "sns.heatmap(corr_matrix, annot = True, fmt=\".2f\", linewidths=2)\n",
    "plt.show()\n"
   ]
  },
  {
   "cell_type": "code",
   "execution_count": 67,
   "id": "bd9e22e3",
   "metadata": {},
   "outputs": [
    {
     "data": {
      "image/png": "[encoded data removed]",
      "text/plain": [
       "<Figure size 1080x720 with 2 Axes>"
      ]
     },
     "metadata": {},
     "output_type": "display_data"
    }
   ],
   "source": [
    "plt.figure(figsize=(15, 10))\n",
    "corr_matrix = df.corr('spearman')\n",
    "sns.heatmap(corr_matrix, annot = True, fmt=\".2f\", linewidths=2)\n",
    "plt.show()\n"
   ]
  },
  {
   "attachments": {},
   "cell_type": "markdown",
   "id": "1cb97700",
   "metadata": {},
   "source": [
    "## Análise e hipóteses: \n",
    "### Fatores principais de influência para a saúde mental (GAD-7):\n",
    "* Idade\n",
    "* Renda\n",
    "* Motivação\n",
    "\n",
    "### Conclusão:\n",
    "* Há forte correlação entre GAD-7/renda/idade e motivação, dando indícios que a motivação possa ser uma variável dependente útil"
   ]
  },
  {
   "attachments": {},
   "cell_type": "markdown",
   "id": "8af6e0b6",
   "metadata": {},
   "source": [
    "# Adiciona uma coluna com o score total"
   ]
  },
  {
   "cell_type": "code",
   "execution_count": 68,
   "id": "802ef961",
   "metadata": {
    "collapsed": false
   },
   "outputs": [
    {
     "name": "stderr",
     "output_type": "stream",
     "text": [
      "C:\\Users\\fabri\\AppData\\Local\\Temp\\ipykernel_2528\\2028562622.py:1: SettingWithCopyWarning:\n",
      "\n",
      "\n",
      "A value is trying to be set on a copy of a slice from a DataFrame.\n",
      "Try using .loc[row_indexer,col_indexer] = value instead\n",
      "\n",
      "See the caveats in the documentation: https://pandas.pydata.org/pandas-docs/stable/user_guide/indexing.html#returning-a-view-versus-a-copy\n",
      "\n"
     ]
    },
    {
     "data": {
      "text/html": [
       "<div>\n",
       "<style scoped>\n",
       "    .dataframe tbody tr th:only-of-type {\n",
       "        vertical-align: middle;\n",
       "    }\n",
       "\n",
       "    .dataframe tbody tr th {\n",
       "        vertical-align: top;\n",
       "    }\n",
       "\n",
       "    .dataframe thead th {\n",
       "        text-align: right;\n",
       "    }\n",
       "</style>\n",
       "<table border=\"1\" class=\"dataframe\">\n",
       "  <thead>\n",
       "    <tr style=\"text-align: right;\">\n",
       "      <th></th>\n",
       "      <th>idade</th>\n",
       "      <th>renda</th>\n",
       "      <th>ano_curso</th>\n",
       "      <th>gad-1</th>\n",
       "      <th>gad-2</th>\n",
       "      <th>gad-3</th>\n",
       "      <th>gad-4</th>\n",
       "      <th>gad-5</th>\n",
       "      <th>gad-6</th>\n",
       "      <th>gad-7</th>\n",
       "      <th>motivação</th>\n",
       "      <th>total score</th>\n",
       "    </tr>\n",
       "  </thead>\n",
       "  <tbody>\n",
       "    <tr>\n",
       "      <th>0</th>\n",
       "      <td>19</td>\n",
       "      <td>418.00</td>\n",
       "      <td>3</td>\n",
       "      <td>1</td>\n",
       "      <td>1</td>\n",
       "      <td>1</td>\n",
       "      <td>1</td>\n",
       "      <td>1</td>\n",
       "      <td>1</td>\n",
       "      <td>1</td>\n",
       "      <td>9</td>\n",
       "      <td>6</td>\n",
       "    </tr>\n",
       "    <tr>\n",
       "      <th>1</th>\n",
       "      <td>19</td>\n",
       "      <td>279.00</td>\n",
       "      <td>3</td>\n",
       "      <td>0</td>\n",
       "      <td>1</td>\n",
       "      <td>1</td>\n",
       "      <td>1</td>\n",
       "      <td>1</td>\n",
       "      <td>1</td>\n",
       "      <td>1</td>\n",
       "      <td>10</td>\n",
       "      <td>5</td>\n",
       "    </tr>\n",
       "    <tr>\n",
       "      <th>2</th>\n",
       "      <td>19</td>\n",
       "      <td>87.00</td>\n",
       "      <td>3</td>\n",
       "      <td>1</td>\n",
       "      <td>0</td>\n",
       "      <td>1</td>\n",
       "      <td>1</td>\n",
       "      <td>1</td>\n",
       "      <td>1</td>\n",
       "      <td>1</td>\n",
       "      <td>10</td>\n",
       "      <td>5</td>\n",
       "    </tr>\n",
       "    <tr>\n",
       "      <th>3</th>\n",
       "      <td>19</td>\n",
       "      <td>243.00</td>\n",
       "      <td>3</td>\n",
       "      <td>1</td>\n",
       "      <td>1</td>\n",
       "      <td>1</td>\n",
       "      <td>1</td>\n",
       "      <td>1</td>\n",
       "      <td>1</td>\n",
       "      <td>1</td>\n",
       "      <td>9</td>\n",
       "      <td>6</td>\n",
       "    </tr>\n",
       "    <tr>\n",
       "      <th>4</th>\n",
       "      <td>19</td>\n",
       "      <td>348.00</td>\n",
       "      <td>3</td>\n",
       "      <td>1</td>\n",
       "      <td>1</td>\n",
       "      <td>1</td>\n",
       "      <td>1</td>\n",
       "      <td>1</td>\n",
       "      <td>1</td>\n",
       "      <td>1</td>\n",
       "      <td>9</td>\n",
       "      <td>6</td>\n",
       "    </tr>\n",
       "    <tr>\n",
       "      <th>...</th>\n",
       "      <td>...</td>\n",
       "      <td>...</td>\n",
       "      <td>...</td>\n",
       "      <td>...</td>\n",
       "      <td>...</td>\n",
       "      <td>...</td>\n",
       "      <td>...</td>\n",
       "      <td>...</td>\n",
       "      <td>...</td>\n",
       "      <td>...</td>\n",
       "      <td>...</td>\n",
       "      <td>...</td>\n",
       "    </tr>\n",
       "    <tr>\n",
       "      <th>490</th>\n",
       "      <td>34</td>\n",
       "      <td>10457.14</td>\n",
       "      <td>4</td>\n",
       "      <td>2</td>\n",
       "      <td>2</td>\n",
       "      <td>2</td>\n",
       "      <td>2</td>\n",
       "      <td>2</td>\n",
       "      <td>2</td>\n",
       "      <td>2</td>\n",
       "      <td>0</td>\n",
       "      <td>12</td>\n",
       "    </tr>\n",
       "    <tr>\n",
       "      <th>491</th>\n",
       "      <td>29</td>\n",
       "      <td>17336.61</td>\n",
       "      <td>5</td>\n",
       "      <td>2</td>\n",
       "      <td>2</td>\n",
       "      <td>2</td>\n",
       "      <td>2</td>\n",
       "      <td>2</td>\n",
       "      <td>2</td>\n",
       "      <td>2</td>\n",
       "      <td>1</td>\n",
       "      <td>12</td>\n",
       "    </tr>\n",
       "    <tr>\n",
       "      <th>492</th>\n",
       "      <td>33</td>\n",
       "      <td>20678.88</td>\n",
       "      <td>1</td>\n",
       "      <td>2</td>\n",
       "      <td>2</td>\n",
       "      <td>2</td>\n",
       "      <td>2</td>\n",
       "      <td>2</td>\n",
       "      <td>2</td>\n",
       "      <td>1</td>\n",
       "      <td>0</td>\n",
       "      <td>12</td>\n",
       "    </tr>\n",
       "    <tr>\n",
       "      <th>493</th>\n",
       "      <td>48</td>\n",
       "      <td>16439.16</td>\n",
       "      <td>2</td>\n",
       "      <td>2</td>\n",
       "      <td>2</td>\n",
       "      <td>2</td>\n",
       "      <td>2</td>\n",
       "      <td>2</td>\n",
       "      <td>2</td>\n",
       "      <td>1</td>\n",
       "      <td>0</td>\n",
       "      <td>12</td>\n",
       "    </tr>\n",
       "    <tr>\n",
       "      <th>494</th>\n",
       "      <td>29</td>\n",
       "      <td>21470.14</td>\n",
       "      <td>4</td>\n",
       "      <td>2</td>\n",
       "      <td>2</td>\n",
       "      <td>2</td>\n",
       "      <td>2</td>\n",
       "      <td>2</td>\n",
       "      <td>2</td>\n",
       "      <td>2</td>\n",
       "      <td>0</td>\n",
       "      <td>12</td>\n",
       "    </tr>\n",
       "  </tbody>\n",
       "</table>\n",
       "<p>495 rows × 12 columns</p>\n",
       "</div>"
      ],
      "text/plain": [
       "     idade     renda  ano_curso  gad-1  gad-2  gad-3  gad-4  gad-5  gad-6  \\\n",
       "0       19    418.00          3      1      1      1      1      1      1   \n",
       "1       19    279.00          3      0      1      1      1      1      1   \n",
       "2       19     87.00          3      1      0      1      1      1      1   \n",
       "3       19    243.00          3      1      1      1      1      1      1   \n",
       "4       19    348.00          3      1      1      1      1      1      1   \n",
       "..     ...       ...        ...    ...    ...    ...    ...    ...    ...   \n",
       "490     34  10457.14          4      2      2      2      2      2      2   \n",
       "491     29  17336.61          5      2      2      2      2      2      2   \n",
       "492     33  20678.88          1      2      2      2      2      2      2   \n",
       "493     48  16439.16          2      2      2      2      2      2      2   \n",
       "494     29  21470.14          4      2      2      2      2      2      2   \n",
       "\n",
       "     gad-7  motivação  total score  \n",
       "0        1          9            6  \n",
       "1        1         10            5  \n",
       "2        1         10            5  \n",
       "3        1          9            6  \n",
       "4        1          9            6  \n",
       "..     ...        ...          ...  \n",
       "490      2          0           12  \n",
       "491      2          1           12  \n",
       "492      1          0           12  \n",
       "493      1          0           12  \n",
       "494      2          0           12  \n",
       "\n",
       "[495 rows x 12 columns]"
      ]
     },
     "execution_count": 68,
     "metadata": {},
     "output_type": "execute_result"
    }
   ],
   "source": [
    "df['total score'] = df.iloc[:, 3:9].sum(axis=1)\n",
    "df"
   ]
  },
  {
   "cell_type": "code",
   "execution_count": 69,
   "id": "a968f11c",
   "metadata": {},
   "outputs": [
    {
     "data": {
      "application/vnd.plotly.v1+json": {
       "config": {
        "plotlyServerURL": "https://plot.ly"
       },
       "data": [
        {
         "alignmentgroup": "True",
         "bingroup": "x",
         "hovertemplate": "idade=%{x}<br>count=%{y}<extra></extra>",
         "legendgroup": "",
         "marker": {
          "color": "#636efa",
          "pattern": {
           "shape": ""
          }
         },
         "name": "",
         "offsetgroup": "",
         "orientation": "v",
         "showlegend": false,
         "textposition": "outside",
         "texttemplate": "%{value}",
         "type": "histogram",
         "x": [
          19,
          19,
          19,
          19,
          19,
          19,
          19,
          19,
          19,
          19,
          19,
          19,
          19,
          19,
          19,
          19,
          19,
          19,
          19,
          19,
          19,
          19,
          19,
          19,
          19,
          19,
          19,
          19,
          19,
          19,
          19,
          19,
          19,
          19,
          19,
          19,
          19,
          19,
          19,
          19,
          19,
          19,
          19,
          19,
          19,
          19,
          19,
          19,
          19,
          19,
          19,
          19,
          19,
          19,
          19,
          19,
          19,
          19,
          19,
          19,
          19,
          19,
          19,
          19,
          19,
          19,
          19,
          19,
          19,
          19,
          19,
          19,
          19,
          19,
          19,
          19,
          19,
          19,
          19,
          19,
          19,
          19,
          19,
          19,
          19,
          19,
          19,
          19,
          19,
          19,
          19,
          19,
          19,
          19,
          19,
          19,
          19,
          19,
          19,
          19,
          19,
          19,
          19,
          19,
          19,
          19,
          19,
          19,
          19,
          19,
          19,
          19,
          19,
          19,
          19,
          19,
          19,
          19,
          19,
          19,
          19,
          19,
          19,
          19,
          19,
          19,
          19,
          19,
          19,
          19,
          19,
          19,
          19,
          19,
          19,
          19,
          19,
          19,
          19,
          19,
          19,
          19,
          19,
          19,
          19,
          19,
          19,
          19,
          19,
          19,
          19,
          19,
          19,
          19,
          19,
          19,
          19,
          19,
          19,
          19,
          19,
          19,
          19,
          19,
          19,
          19,
          19,
          19,
          19,
          19,
          19,
          19,
          19,
          19,
          19,
          19,
          19,
          19,
          20,
          20,
          20,
          20,
          20,
          20,
          20,
          20,
          20,
          20,
          20,
          20,
          20,
          20,
          20,
          20,
          20,
          20,
          20,
          20,
          20,
          20,
          20,
          20,
          20,
          20,
          20,
          20,
          20,
          20,
          20,
          20,
          20,
          20,
          20,
          20,
          20,
          20,
          20,
          20,
          20,
          20,
          20,
          20,
          20,
          20,
          20,
          20,
          20,
          20,
          20,
          20,
          20,
          20,
          20,
          20,
          20,
          20,
          20,
          20,
          20,
          20,
          20,
          20,
          20,
          20,
          20,
          20,
          20,
          20,
          20,
          20,
          20,
          20,
          20,
          20,
          20,
          20,
          20,
          20,
          20,
          20,
          20,
          20,
          20,
          20,
          20,
          20,
          20,
          20,
          20,
          20,
          20,
          20,
          20,
          20,
          20,
          20,
          20,
          20,
          20,
          20,
          20,
          20,
          20,
          20,
          20,
          20,
          20,
          20,
          20,
          20,
          20,
          20,
          20,
          20,
          20,
          20,
          20,
          20,
          20,
          20,
          20,
          20,
          20,
          20,
          20,
          20,
          20,
          20,
          20,
          20,
          20,
          20,
          20,
          20,
          20,
          20,
          20,
          20,
          20,
          20,
          20,
          20,
          20,
          20,
          20,
          20,
          20,
          20,
          20,
          20,
          20,
          20,
          20,
          20,
          20,
          20,
          20,
          20,
          20,
          20,
          20,
          20,
          20,
          20,
          20,
          20,
          20,
          20,
          20,
          20,
          20,
          20,
          20,
          20,
          20,
          20,
          20,
          20,
          20,
          20,
          20,
          20,
          20,
          20,
          20,
          20,
          20,
          20,
          20,
          20,
          20,
          20,
          20,
          20,
          20,
          20,
          20,
          20,
          20,
          20,
          20,
          20,
          20,
          20,
          20,
          20,
          20,
          20,
          20,
          20,
          20,
          20,
          20,
          20,
          20,
          20,
          20,
          20,
          20,
          20,
          20,
          20,
          20,
          23,
          25,
          22,
          22,
          25,
          23,
          25,
          23,
          25,
          22,
          22,
          23,
          22,
          25,
          23,
          22,
          24,
          23,
          24,
          22,
          24,
          23,
          24,
          22,
          25,
          22,
          24,
          22,
          23,
          24,
          24,
          22,
          25,
          25,
          23,
          23,
          25,
          24,
          22,
          24,
          23,
          23,
          23,
          25,
          25,
          23,
          24,
          23,
          23,
          22,
          22,
          23,
          22,
          22,
          23,
          25,
          25,
          24,
          23,
          22,
          24,
          25,
          25,
          24,
          23,
          43,
          29,
          29,
          50,
          43,
          36,
          38,
          45,
          41,
          38,
          45,
          34,
          43,
          40,
          25,
          29,
          40,
          28,
          48,
          33,
          34,
          48,
          34,
          29,
          33,
          48,
          29
         ],
         "xaxis": "x",
         "yaxis": "y"
        }
       ],
       "layout": {
        "barmode": "relative",
        "height": 800,
        "legend": {
         "tracegroupgap": 0
        },
        "margin": {
         "t": 60
        },
        "template": {
         "data": {
          "bar": [
           {
            "error_x": {
             "color": "#2a3f5f"
            },
            "error_y": {
             "color": "#2a3f5f"
            },
            "marker": {
             "line": {
              "color": "#E5ECF6",
              "width": 0.5
             },
             "pattern": {
              "fillmode": "overlay",
              "size": 10,
              "solidity": 0.2
             }
            },
            "type": "bar"
           }
          ],
          "barpolar": [
           {
            "marker": {
             "line": {
              "color": "#E5ECF6",
              "width": 0.5
             },
             "pattern": {
              "fillmode": "overlay",
              "size": 10,
              "solidity": 0.2
             }
            },
            "type": "barpolar"
           }
          ],
          "carpet": [
           {
            "aaxis": {
             "endlinecolor": "#2a3f5f",
             "gridcolor": "white",
             "linecolor": "white",
             "minorgridcolor": "white",
             "startlinecolor": "#2a3f5f"
            },
            "baxis": {
             "endlinecolor": "#2a3f5f",
             "gridcolor": "white",
             "linecolor": "white",
             "minorgridcolor": "white",
             "startlinecolor": "#2a3f5f"
            },
            "type": "carpet"
           }
          ],
          "choropleth": [
           {
            "colorbar": {
             "outlinewidth": 0,
             "ticks": ""
            },
            "type": "choropleth"
           }
          ],
          "contour": [
           {
            "colorbar": {
             "outlinewidth": 0,
             "ticks": ""
            },
            "colorscale": [
             [
              0,
              "#0d0887"
             ],
             [
              0.1111111111111111,
              "#46039f"
             ],
             [
              0.2222222222222222,
              "#7201a8"
             ],
             [
              0.3333333333333333,
              "#9c179e"
             ],
             [
              0.4444444444444444,
              "#bd3786"
             ],
             [
              0.5555555555555556,
              "#d8576b"
             ],
             [
              0.6666666666666666,
              "#ed7953"
             ],
             [
              0.7777777777777778,
              "#fb9f3a"
             ],
             [
              0.8888888888888888,
              "#fdca26"
             ],
             [
              1,
              "#f0f921"
             ]
            ],
            "type": "contour"
           }
          ],
          "contourcarpet": [
           {
            "colorbar": {
             "outlinewidth": 0,
             "ticks": ""
            },
            "type": "contourcarpet"
           }
          ],
          "heatmap": [
           {
            "colorbar": {
             "outlinewidth": 0,
             "ticks": ""
            },
            "colorscale": [
             [
              0,
              "#0d0887"
             ],
             [
              0.1111111111111111,
              "#46039f"
             ],
             [
              0.2222222222222222,
              "#7201a8"
             ],
             [
              0.3333333333333333,
              "#9c179e"
             ],
             [
              0.4444444444444444,
              "#bd3786"
             ],
             [
              0.5555555555555556,
              "#d8576b"
             ],
             [
              0.6666666666666666,
              "#ed7953"
             ],
             [
              0.7777777777777778,
              "#fb9f3a"
             ],
             [
              0.8888888888888888,
              "#fdca26"
             ],
             [
              1,
              "#f0f921"
             ]
            ],
            "type": "heatmap"
           }
          ],
          "heatmapgl": [
           {
            "colorbar": {
             "outlinewidth": 0,
             "ticks": ""
            },
            "colorscale": [
             [
              0,
              "#0d0887"
             ],
             [
              0.1111111111111111,
              "#46039f"
             ],
             [
              0.2222222222222222,
              "#7201a8"
             ],
             [
              0.3333333333333333,
              "#9c179e"
             ],
             [
              0.4444444444444444,
              "#bd3786"
             ],
             [
              0.5555555555555556,
              "#d8576b"
             ],
             [
              0.6666666666666666,
              "#ed7953"
             ],
             [
              0.7777777777777778,
              "#fb9f3a"
             ],
             [
              0.8888888888888888,
              "#fdca26"
             ],
             [
              1,
              "#f0f921"
             ]
            ],
            "type": "heatmapgl"
           }
          ],
          "histogram": [
           {
            "marker": {
             "pattern": {
              "fillmode": "overlay",
              "size": 10,
              "solidity": 0.2
             }
            },
            "type": "histogram"
           }
          ],
          "histogram2d": [
           {
            "colorbar": {
             "outlinewidth": 0,
             "ticks": ""
            },
            "colorscale": [
             [
              0,
              "#0d0887"
             ],
             [
              0.1111111111111111,
              "#46039f"
             ],
             [
              0.2222222222222222,
              "#7201a8"
             ],
             [
              0.3333333333333333,
              "#9c179e"
             ],
             [
              0.4444444444444444,
              "#bd3786"
             ],
             [
              0.5555555555555556,
              "#d8576b"
             ],
             [
              0.6666666666666666,
              "#ed7953"
             ],
             [
              0.7777777777777778,
              "#fb9f3a"
             ],
             [
              0.8888888888888888,
              "#fdca26"
             ],
             [
              1,
              "#f0f921"
             ]
            ],
            "type": "histogram2d"
           }
          ],
          "histogram2dcontour": [
           {
            "colorbar": {
             "outlinewidth": 0,
             "ticks": ""
            },
            "colorscale": [
             [
              0,
              "#0d0887"
             ],
             [
              0.1111111111111111,
              "#46039f"
             ],
             [
              0.2222222222222222,
              "#7201a8"
             ],
             [
              0.3333333333333333,
              "#9c179e"
             ],
             [
              0.4444444444444444,
              "#bd3786"
             ],
             [
              0.5555555555555556,
              "#d8576b"
             ],
             [
              0.6666666666666666,
              "#ed7953"
             ],
             [
              0.7777777777777778,
              "#fb9f3a"
             ],
             [
              0.8888888888888888,
              "#fdca26"
             ],
             [
              1,
              "#f0f921"
             ]
            ],
            "type": "histogram2dcontour"
           }
          ],
          "mesh3d": [
           {
            "colorbar": {
             "outlinewidth": 0,
             "ticks": ""
            },
            "type": "mesh3d"
           }
          ],
          "parcoords": [
           {
            "line": {
             "colorbar": {
              "outlinewidth": 0,
              "ticks": ""
             }
            },
            "type": "parcoords"
           }
          ],
          "pie": [
           {
            "automargin": true,
            "type": "pie"
           }
          ],
          "scatter": [
           {
            "marker": {
             "colorbar": {
              "outlinewidth": 0,
              "ticks": ""
             }
            },
            "type": "scatter"
           }
          ],
          "scatter3d": [
           {
            "line": {
             "colorbar": {
              "outlinewidth": 0,
              "ticks": ""
             }
            },
            "marker": {
             "colorbar": {
              "outlinewidth": 0,
              "ticks": ""
             }
            },
            "type": "scatter3d"
           }
          ],
          "scattercarpet": [
           {
            "marker": {
             "colorbar": {
              "outlinewidth": 0,
              "ticks": ""
             }
            },
            "type": "scattercarpet"
           }
          ],
          "scattergeo": [
           {
            "marker": {
             "colorbar": {
              "outlinewidth": 0,
              "ticks": ""
             }
            },
            "type": "scattergeo"
           }
          ],
          "scattergl": [
           {
            "marker": {
             "colorbar": {
              "outlinewidth": 0,
              "ticks": ""
             }
            },
            "type": "scattergl"
           }
          ],
          "scattermapbox": [
           {
            "marker": {
             "colorbar": {
              "outlinewidth": 0,
              "ticks": ""
             }
            },
            "type": "scattermapbox"
           }
          ],
          "scatterpolar": [
           {
            "marker": {
             "colorbar": {
              "outlinewidth": 0,
              "ticks": ""
             }
            },
            "type": "scatterpolar"
           }
          ],
          "scatterpolargl": [
           {
            "marker": {
             "colorbar": {
              "outlinewidth": 0,
              "ticks": ""
             }
            },
            "type": "scatterpolargl"
           }
          ],
          "scatterternary": [
           {
            "marker": {
             "colorbar": {
              "outlinewidth": 0,
              "ticks": ""
             }
            },
            "type": "scatterternary"
           }
          ],
          "surface": [
           {
            "colorbar": {
             "outlinewidth": 0,
             "ticks": ""
            },
            "colorscale": [
             [
              0,
              "#0d0887"
             ],
             [
              0.1111111111111111,
              "#46039f"
             ],
             [
              0.2222222222222222,
              "#7201a8"
             ],
             [
              0.3333333333333333,
              "#9c179e"
             ],
             [
              0.4444444444444444,
              "#bd3786"
             ],
             [
              0.5555555555555556,
              "#d8576b"
             ],
             [
              0.6666666666666666,
              "#ed7953"
             ],
             [
              0.7777777777777778,
              "#fb9f3a"
             ],
             [
              0.8888888888888888,
              "#fdca26"
             ],
             [
              1,
              "#f0f921"
             ]
            ],
            "type": "surface"
           }
          ],
          "table": [
           {
            "cells": {
             "fill": {
              "color": "#EBF0F8"
             },
             "line": {
              "color": "white"
             }
            },
            "header": {
             "fill": {
              "color": "#C8D4E3"
             },
             "line": {
              "color": "white"
             }
            },
            "type": "table"
           }
          ]
         },
         "layout": {
          "annotationdefaults": {
           "arrowcolor": "#2a3f5f",
           "arrowhead": 0,
           "arrowwidth": 1
          },
          "autotypenumbers": "strict",
          "coloraxis": {
           "colorbar": {
            "outlinewidth": 0,
            "ticks": ""
           }
          },
          "colorscale": {
           "diverging": [
            [
             0,
             "#8e0152"
            ],
            [
             0.1,
             "#c51b7d"
            ],
            [
             0.2,
             "#de77ae"
            ],
            [
             0.3,
             "#f1b6da"
            ],
            [
             0.4,
             "#fde0ef"
            ],
            [
             0.5,
             "#f7f7f7"
            ],
            [
             0.6,
             "#e6f5d0"
            ],
            [
             0.7,
             "#b8e186"
            ],
            [
             0.8,
             "#7fbc41"
            ],
            [
             0.9,
             "#4d9221"
            ],
            [
             1,
             "#276419"
            ]
           ],
           "sequential": [
            [
             0,
             "#0d0887"
            ],
            [
             0.1111111111111111,
             "#46039f"
            ],
            [
             0.2222222222222222,
             "#7201a8"
            ],
            [
             0.3333333333333333,
             "#9c179e"
            ],
            [
             0.4444444444444444,
             "#bd3786"
            ],
            [
             0.5555555555555556,
             "#d8576b"
            ],
            [
             0.6666666666666666,
             "#ed7953"
            ],
            [
             0.7777777777777778,
             "#fb9f3a"
            ],
            [
             0.8888888888888888,
             "#fdca26"
            ],
            [
             1,
             "#f0f921"
            ]
           ],
           "sequentialminus": [
            [
             0,
             "#0d0887"
            ],
            [
             0.1111111111111111,
             "#46039f"
            ],
            [
             0.2222222222222222,
             "#7201a8"
            ],
            [
             0.3333333333333333,
             "#9c179e"
            ],
            [
             0.4444444444444444,
             "#bd3786"
            ],
            [
             0.5555555555555556,
             "#d8576b"
            ],
            [
             0.6666666666666666,
             "#ed7953"
            ],
            [
             0.7777777777777778,
             "#fb9f3a"
            ],
            [
             0.8888888888888888,
             "#fdca26"
            ],
            [
             1,
             "#f0f921"
            ]
           ]
          },
          "colorway": [
           "#636efa",
           "#EF553B",
           "#00cc96",
           "#ab63fa",
           "#FFA15A",
           "#19d3f3",
           "#FF6692",
           "#B6E880",
           "#FF97FF",
           "#FECB52"
          ],
          "font": {
           "color": "#2a3f5f"
          },
          "geo": {
           "bgcolor": "white",
           "lakecolor": "white",
           "landcolor": "#E5ECF6",
           "showlakes": true,
           "showland": true,
           "subunitcolor": "white"
          },
          "hoverlabel": {
           "align": "left"
          },
          "hovermode": "closest",
          "mapbox": {
           "style": "light"
          },
          "paper_bgcolor": "white",
          "plot_bgcolor": "#E5ECF6",
          "polar": {
           "angularaxis": {
            "gridcolor": "white",
            "linecolor": "white",
            "ticks": ""
           },
           "bgcolor": "#E5ECF6",
           "radialaxis": {
            "gridcolor": "white",
            "linecolor": "white",
            "ticks": ""
           }
          },
          "scene": {
           "xaxis": {
            "backgroundcolor": "#E5ECF6",
            "gridcolor": "white",
            "gridwidth": 2,
            "linecolor": "white",
            "showbackground": true,
            "ticks": "",
            "zerolinecolor": "white"
           },
           "yaxis": {
            "backgroundcolor": "#E5ECF6",
            "gridcolor": "white",
            "gridwidth": 2,
            "linecolor": "white",
            "showbackground": true,
            "ticks": "",
            "zerolinecolor": "white"
           },
           "zaxis": {
            "backgroundcolor": "#E5ECF6",
            "gridcolor": "white",
            "gridwidth": 2,
            "linecolor": "white",
            "showbackground": true,
            "ticks": "",
            "zerolinecolor": "white"
           }
          },
          "shapedefaults": {
           "line": {
            "color": "#2a3f5f"
           }
          },
          "ternary": {
           "aaxis": {
            "gridcolor": "white",
            "linecolor": "white",
            "ticks": ""
           },
           "baxis": {
            "gridcolor": "white",
            "linecolor": "white",
            "ticks": ""
           },
           "bgcolor": "#E5ECF6",
           "caxis": {
            "gridcolor": "white",
            "linecolor": "white",
            "ticks": ""
           }
          },
          "title": {
           "x": 0.05
          },
          "xaxis": {
           "automargin": true,
           "gridcolor": "white",
           "linecolor": "white",
           "ticks": "",
           "title": {
            "standoff": 15
           },
           "zerolinecolor": "white",
           "zerolinewidth": 2
          },
          "yaxis": {
           "automargin": true,
           "gridcolor": "white",
           "linecolor": "white",
           "ticks": "",
           "title": {
            "standoff": 15
           },
           "zerolinecolor": "white",
           "zerolinewidth": 2
          }
         }
        },
        "width": 1200,
        "xaxis": {
         "anchor": "y",
         "domain": [
          0,
          1
         ],
         "title": {
          "text": "idade"
         }
        },
        "yaxis": {
         "anchor": "x",
         "domain": [
          0,
          1
         ],
         "title": {
          "text": "count"
         }
        }
       }
      }
     },
     "metadata": {},
     "output_type": "display_data"
    }
   ],
   "source": [
    "fig = px.histogram(df, \"idade\", text_auto=True, width=1200, height=800)\n",
    "fig.update_traces(textposition=\"outside\")\n",
    "\n",
    "fig.show()"
   ]
  },
  {
   "cell_type": "code",
   "execution_count": 70,
   "id": "3181ef03",
   "metadata": {},
   "outputs": [
    {
     "data": {
      "application/vnd.plotly.v1+json": {
       "config": {
        "plotlyServerURL": "https://plot.ly"
       },
       "data": [
        {
         "alignmentgroup": "True",
         "bingroup": "x",
         "hovertemplate": "renda=%{x}<br>count=%{y}<extra></extra>",
         "legendgroup": "",
         "marker": {
          "color": "#636efa",
          "pattern": {
           "shape": ""
          }
         },
         "name": "",
         "offsetgroup": "",
         "orientation": "v",
         "showlegend": false,
         "textposition": "outside",
         "texttemplate": "%{value}",
         "type": "histogram",
         "x": [
          418,
          279,
          87,
          243,
          348,
          586,
          190,
          302,
          151,
          321,
          369,
          253,
          461,
          564,
          469,
          454,
          514,
          588,
          149,
          872.99,
          686.99,
          684.99,
          941.99,
          652.99,
          1141.99,
          1151.99,
          1157.99,
          1178.99,
          1117.99,
          819.99,
          705.99,
          878.99,
          619.99,
          888.99,
          761.99,
          1085.99,
          1025.99,
          749.99,
          802.99,
          1215.99,
          1181.99,
          1098.99,
          761.99,
          947.99,
          739.99,
          1101.99,
          875.99,
          1098.99,
          1079.99,
          807.99,
          936.99,
          785.99,
          1175.99,
          624.99,
          1010.99,
          779.99,
          629.99,
          887.99,
          1094.99,
          1218.99,
          619.99,
          705.99,
          792.99,
          926.99,
          1177.99,
          1014.99,
          840.99,
          705.99,
          1114.99,
          634.99,
          1106.99,
          750.99,
          821.99,
          1145.99,
          746.99,
          1059.99,
          808.99,
          934.99,
          1029.99,
          630.99,
          905.99,
          686.99,
          828.99,
          978.99,
          912.99,
          1070.99,
          1033.99,
          1071.99,
          1166.99,
          843.99,
          1166.99,
          1060.99,
          931.99,
          911.99,
          993.99,
          1022.99,
          672.99,
          1156.99,
          1086.99,
          1154.99,
          1077.99,
          1204.99,
          657.99,
          897.99,
          862.99,
          664.99,
          896.99,
          637.99,
          831.99,
          939.99,
          745.99,
          718.99,
          1220.99,
          641.99,
          1129.99,
          1205.99,
          1171.99,
          1200.99,
          778.99,
          820.99,
          633.99,
          722.99,
          653.99,
          880.99,
          1084.99,
          1108.99,
          860.99,
          844.99,
          695.99,
          1000.99,
          662.99,
          1040.99,
          2098.98,
          1664.98,
          1510.99,
          1320.99,
          1960.98,
          1671.98,
          2012.98,
          1449.99,
          1386.99,
          1907.98,
          2121.98,
          1299.99,
          2331.98,
          1636.99,
          1934.98,
          1926.98,
          1877.98,
          1544.99,
          2052.98,
          2432.98,
          1426.99,
          1365.99,
          2411.98,
          2407.98,
          1685.98,
          1901.98,
          1678.98,
          1460.99,
          2292.98,
          1910.98,
          1837.98,
          1402.99,
          2004.98,
          1844.98,
          1952.98,
          2295.98,
          2099.98,
          1358.99,
          1343.99,
          1544.99,
          1394.99,
          2375.98,
          1660.98,
          1786.98,
          2195.98,
          1803.98,
          1747.56,
          1938.56,
          1364.57,
          1726.56,
          2175.56,
          2202.56,
          1847.56,
          2282.56,
          1371.56,
          1696.56,
          1659.56,
          1745.56,
          1597.56,
          2188.56,
          1948.56,
          1644.56,
          1858.56,
          2288.56,
          2103.56,
          2027.56,
          1845.56,
          2058.56,
          1638.56,
          1392.56,
          1917.56,
          2186.56,
          1822.56,
          1760.56,
          1264.57,
          2246.56,
          1559.56,
          2372.56,
          1827.56,
          1631.56,
          1763.56,
          2092.56,
          2309.56,
          2395.56,
          1831.56,
          1291.57,
          1873.56,
          1451.56,
          2328.56,
          2421.55,
          1538.56,
          1675.56,
          2002.56,
          2409.55,
          1697.56,
          1470.56,
          1786.56,
          2126.56,
          1902.56,
          2077.56,
          1586.56,
          1979.56,
          1977.56,
          2071.56,
          1583.56,
          1326.57,
          1257.57,
          2357.56,
          2389.56,
          2403.56,
          2360.56,
          1839.56,
          1433.56,
          2024.56,
          1558.56,
          1991.56,
          1434.56,
          1314.57,
          2409.55,
          1842.56,
          2069.56,
          2016.56,
          1549.56,
          1761.56,
          1618.56,
          2110.56,
          1961.56,
          2413.55,
          2263.56,
          1446.56,
          2155.56,
          1540.56,
          1720.56,
          1438.56,
          2220.56,
          1333.57,
          1732.56,
          1578.56,
          1735.56,
          2343.56,
          1936.56,
          2015.56,
          1453.56,
          2138.56,
          2222.56,
          1709.56,
          1739.56,
          1317.57,
          1321.57,
          1564.56,
          1424.56,
          1600.56,
          1765.56,
          1910.56,
          2219.56,
          1349.57,
          2342.56,
          2135.56,
          2016.56,
          1889.56,
          1785.56,
          1955.56,
          2039.56,
          2035.56,
          1740.56,
          1493.56,
          1964.56,
          2128.56,
          2239.56,
          1581.56,
          2381.56,
          1389.56,
          2165.56,
          2403.56,
          1671.56,
          1953.56,
          1925.56,
          1964.56,
          2385.56,
          1878.56,
          1983.56,
          1638.56,
          1743.56,
          2273.56,
          2192.56,
          2122.56,
          1866.56,
          2110.56,
          1263.57,
          1533.56,
          1811.56,
          1595.14,
          1943.14,
          1723.14,
          2009.14,
          1375.14,
          1555.14,
          2006.14,
          2108.14,
          1889.14,
          2168.13,
          2058.14,
          2376.13,
          2066.14,
          1574.14,
          1578.14,
          1728.14,
          2130.13,
          2136.13,
          2404.13,
          1366.14,
          2178.13,
          1509.14,
          1833.14,
          2014.14,
          2180.13,
          2137.13,
          1226.14,
          1773.14,
          2567.13,
          3534.12,
          3629.12,
          2605.13,
          2485.13,
          3165.13,
          3505.12,
          2821.13,
          2565.13,
          2662.13,
          2944.13,
          2739.13,
          2640.13,
          2960.13,
          2450.13,
          3248.12,
          3316.12,
          2777.13,
          2982.13,
          3134.13,
          3544.12,
          3497.12,
          3382.12,
          2617.13,
          3476.12,
          3278.12,
          3406.12,
          3265.12,
          3120.13,
          3432.12,
          2845.13,
          2777.13,
          2897.13,
          3431.12,
          3519.12,
          2837.13,
          2506.13,
          3101.13,
          3375.12,
          2600.13,
          3506.12,
          3239.12,
          2472.13,
          3650.12,
          2789.13,
          3399.12,
          3612.12,
          2514.13,
          3346.12,
          2910.13,
          2627.13,
          3371.12,
          3160.28,
          3571.43,
          2622.71,
          2985.7,
          3619.43,
          2705.28,
          2540.44,
          3584.28,
          3491.43,
          3441.7,
          2845.71,
          2665.28,
          2461.71,
          2497.44,
          2566.29,
          3181.7,
          2821.86,
          2617.28,
          3191.86,
          3390.7,
          2786.86,
          3227.28,
          5377.84,
          4076.69,
          4461.42,
          5499.68,
          5860.83,
          5279.68,
          4503.27,
          4009.85,
          4683.84,
          3878.7,
          5213.41,
          4919.42,
          5138.26,
          3936.27,
          5381.41,
          5543.83,
          6083.67,
          4798.84,
          5304.26,
          3833.27,
          4349.27,
          5602.41,
          5987.41,
          4919.26,
          3905.85,
          4771.26,
          4632.27,
          3678.7,
          4340.69,
          4593.27,
          4561.69,
          5032.68,
          4711.26,
          5910.41,
          4836.42,
          4316.85,
          4042.27,
          5124.68,
          4509.84,
          4246.42,
          5887.41,
          4778.84,
          4217.27,
          4451.81,
          4443.73,
          3915.31,
          4993.85,
          5270.81,
          6378.33,
          6277.91,
          8300.51,
          8099.2,
          6234.49,
          9369.92,
          8591.16,
          8421.35,
          11589.59,
          10097.94,
          6225.29,
          9570.61,
          10298.1,
          6854.26,
          8912,
          6778.6,
          9682.65,
          10457.14,
          17336.61,
          20678.88,
          16439.16,
          21470.14
         ],
         "xaxis": "x",
         "yaxis": "y"
        }
       ],
       "layout": {
        "barmode": "relative",
        "height": 800,
        "legend": {
         "tracegroupgap": 0
        },
        "margin": {
         "t": 60
        },
        "template": {
         "data": {
          "bar": [
           {
            "error_x": {
             "color": "#2a3f5f"
            },
            "error_y": {
             "color": "#2a3f5f"
            },
            "marker": {
             "line": {
              "color": "#E5ECF6",
              "width": 0.5
             },
             "pattern": {
              "fillmode": "overlay",
              "size": 10,
              "solidity": 0.2
             }
            },
            "type": "bar"
           }
          ],
          "barpolar": [
           {
            "marker": {
             "line": {
              "color": "#E5ECF6",
              "width": 0.5
             },
             "pattern": {
              "fillmode": "overlay",
              "size": 10,
              "solidity": 0.2
             }
            },
            "type": "barpolar"
           }
          ],
          "carpet": [
           {
            "aaxis": {
             "endlinecolor": "#2a3f5f",
             "gridcolor": "white",
             "linecolor": "white",
             "minorgridcolor": "white",
             "startlinecolor": "#2a3f5f"
            },
            "baxis": {
             "endlinecolor": "#2a3f5f",
             "gridcolor": "white",
             "linecolor": "white",
             "minorgridcolor": "white",
             "startlinecolor": "#2a3f5f"
            },
            "type": "carpet"
           }
          ],
          "choropleth": [
           {
            "colorbar": {
             "outlinewidth": 0,
             "ticks": ""
            },
            "type": "choropleth"
           }
          ],
          "contour": [
           {
            "colorbar": {
             "outlinewidth": 0,
             "ticks": ""
            },
            "colorscale": [
             [
              0,
              "#0d0887"
             ],
             [
              0.1111111111111111,
              "#46039f"
             ],
             [
              0.2222222222222222,
              "#7201a8"
             ],
             [
              0.3333333333333333,
              "#9c179e"
             ],
             [
              0.4444444444444444,
              "#bd3786"
             ],
             [
              0.5555555555555556,
              "#d8576b"
             ],
             [
              0.6666666666666666,
              "#ed7953"
             ],
             [
              0.7777777777777778,
              "#fb9f3a"
             ],
             [
              0.8888888888888888,
              "#fdca26"
             ],
             [
              1,
              "#f0f921"
             ]
            ],
            "type": "contour"
           }
          ],
          "contourcarpet": [
           {
            "colorbar": {
             "outlinewidth": 0,
             "ticks": ""
            },
            "type": "contourcarpet"
           }
          ],
          "heatmap": [
           {
            "colorbar": {
             "outlinewidth": 0,
             "ticks": ""
            },
            "colorscale": [
             [
              0,
              "#0d0887"
             ],
             [
              0.1111111111111111,
              "#46039f"
             ],
             [
              0.2222222222222222,
              "#7201a8"
             ],
             [
              0.3333333333333333,
              "#9c179e"
             ],
             [
              0.4444444444444444,
              "#bd3786"
             ],
             [
              0.5555555555555556,
              "#d8576b"
             ],
             [
              0.6666666666666666,
              "#ed7953"
             ],
             [
              0.7777777777777778,
              "#fb9f3a"
             ],
             [
              0.8888888888888888,
              "#fdca26"
             ],
             [
              1,
              "#f0f921"
             ]
            ],
            "type": "heatmap"
           }
          ],
          "heatmapgl": [
           {
            "colorbar": {
             "outlinewidth": 0,
             "ticks": ""
            },
            "colorscale": [
             [
              0,
              "#0d0887"
             ],
             [
              0.1111111111111111,
              "#46039f"
             ],
             [
              0.2222222222222222,
              "#7201a8"
             ],
             [
              0.3333333333333333,
              "#9c179e"
             ],
             [
              0.4444444444444444,
              "#bd3786"
             ],
             [
              0.5555555555555556,
              "#d8576b"
             ],
             [
              0.6666666666666666,
              "#ed7953"
             ],
             [
              0.7777777777777778,
              "#fb9f3a"
             ],
             [
              0.8888888888888888,
              "#fdca26"
             ],
             [
              1,
              "#f0f921"
             ]
            ],
            "type": "heatmapgl"
           }
          ],
          "histogram": [
           {
            "marker": {
             "pattern": {
              "fillmode": "overlay",
              "size": 10,
              "solidity": 0.2
             }
            },
            "type": "histogram"
           }
          ],
          "histogram2d": [
           {
            "colorbar": {
             "outlinewidth": 0,
             "ticks": ""
            },
            "colorscale": [
             [
              0,
              "#0d0887"
             ],
             [
              0.1111111111111111,
              "#46039f"
             ],
             [
              0.2222222222222222,
              "#7201a8"
             ],
             [
              0.3333333333333333,
              "#9c179e"
             ],
             [
              0.4444444444444444,
              "#bd3786"
             ],
             [
              0.5555555555555556,
              "#d8576b"
             ],
             [
              0.6666666666666666,
              "#ed7953"
             ],
             [
              0.7777777777777778,
              "#fb9f3a"
             ],
             [
              0.8888888888888888,
              "#fdca26"
             ],
             [
              1,
              "#f0f921"
             ]
            ],
            "type": "histogram2d"
           }
          ],
          "histogram2dcontour": [
           {
            "colorbar": {
             "outlinewidth": 0,
             "ticks": ""
            },
            "colorscale": [
             [
              0,
              "#0d0887"
             ],
             [
              0.1111111111111111,
              "#46039f"
             ],
             [
              0.2222222222222222,
              "#7201a8"
             ],
             [
              0.3333333333333333,
              "#9c179e"
             ],
             [
              0.4444444444444444,
              "#bd3786"
             ],
             [
              0.5555555555555556,
              "#d8576b"
             ],
             [
              0.6666666666666666,
              "#ed7953"
             ],
             [
              0.7777777777777778,
              "#fb9f3a"
             ],
             [
              0.8888888888888888,
              "#fdca26"
             ],
             [
              1,
              "#f0f921"
             ]
            ],
            "type": "histogram2dcontour"
           }
          ],
          "mesh3d": [
           {
            "colorbar": {
             "outlinewidth": 0,
             "ticks": ""
            },
            "type": "mesh3d"
           }
          ],
          "parcoords": [
           {
            "line": {
             "colorbar": {
              "outlinewidth": 0,
              "ticks": ""
             }
            },
            "type": "parcoords"
           }
          ],
          "pie": [
           {
            "automargin": true,
            "type": "pie"
           }
          ],
          "scatter": [
           {
            "marker": {
             "colorbar": {
              "outlinewidth": 0,
              "ticks": ""
             }
            },
            "type": "scatter"
           }
          ],
          "scatter3d": [
           {
            "line": {
             "colorbar": {
              "outlinewidth": 0,
              "ticks": ""
             }
            },
            "marker": {
             "colorbar": {
              "outlinewidth": 0,
              "ticks": ""
             }
            },
            "type": "scatter3d"
           }
          ],
          "scattercarpet": [
           {
            "marker": {
             "colorbar": {
              "outlinewidth": 0,
              "ticks": ""
             }
            },
            "type": "scattercarpet"
           }
          ],
          "scattergeo": [
           {
            "marker": {
             "colorbar": {
              "outlinewidth": 0,
              "ticks": ""
             }
            },
            "type": "scattergeo"
           }
          ],
          "scattergl": [
           {
            "marker": {
             "colorbar": {
              "outlinewidth": 0,
              "ticks": ""
             }
            },
            "type": "scattergl"
           }
          ],
          "scattermapbox": [
           {
            "marker": {
             "colorbar": {
              "outlinewidth": 0,
              "ticks": ""
             }
            },
            "type": "scattermapbox"
           }
          ],
          "scatterpolar": [
           {
            "marker": {
             "colorbar": {
              "outlinewidth": 0,
              "ticks": ""
             }
            },
            "type": "scatterpolar"
           }
          ],
          "scatterpolargl": [
           {
            "marker": {
             "colorbar": {
              "outlinewidth": 0,
              "ticks": ""
             }
            },
            "type": "scatterpolargl"
           }
          ],
          "scatterternary": [
           {
            "marker": {
             "colorbar": {
              "outlinewidth": 0,
              "ticks": ""
             }
            },
            "type": "scatterternary"
           }
          ],
          "surface": [
           {
            "colorbar": {
             "outlinewidth": 0,
             "ticks": ""
            },
            "colorscale": [
             [
              0,
              "#0d0887"
             ],
             [
              0.1111111111111111,
              "#46039f"
             ],
             [
              0.2222222222222222,
              "#7201a8"
             ],
             [
              0.3333333333333333,
              "#9c179e"
             ],
             [
              0.4444444444444444,
              "#bd3786"
             ],
             [
              0.5555555555555556,
              "#d8576b"
             ],
             [
              0.6666666666666666,
              "#ed7953"
             ],
             [
              0.7777777777777778,
              "#fb9f3a"
             ],
             [
              0.8888888888888888,
              "#fdca26"
             ],
             [
              1,
              "#f0f921"
             ]
            ],
            "type": "surface"
           }
          ],
          "table": [
           {
            "cells": {
             "fill": {
              "color": "#EBF0F8"
             },
             "line": {
              "color": "white"
             }
            },
            "header": {
             "fill": {
              "color": "#C8D4E3"
             },
             "line": {
              "color": "white"
             }
            },
            "type": "table"
           }
          ]
         },
         "layout": {
          "annotationdefaults": {
           "arrowcolor": "#2a3f5f",
           "arrowhead": 0,
           "arrowwidth": 1
          },
          "autotypenumbers": "strict",
          "coloraxis": {
           "colorbar": {
            "outlinewidth": 0,
            "ticks": ""
           }
          },
          "colorscale": {
           "diverging": [
            [
             0,
             "#8e0152"
            ],
            [
             0.1,
             "#c51b7d"
            ],
            [
             0.2,
             "#de77ae"
            ],
            [
             0.3,
             "#f1b6da"
            ],
            [
             0.4,
             "#fde0ef"
            ],
            [
             0.5,
             "#f7f7f7"
            ],
            [
             0.6,
             "#e6f5d0"
            ],
            [
             0.7,
             "#b8e186"
            ],
            [
             0.8,
             "#7fbc41"
            ],
            [
             0.9,
             "#4d9221"
            ],
            [
             1,
             "#276419"
            ]
           ],
           "sequential": [
            [
             0,
             "#0d0887"
            ],
            [
             0.1111111111111111,
             "#46039f"
            ],
            [
             0.2222222222222222,
             "#7201a8"
            ],
            [
             0.3333333333333333,
             "#9c179e"
            ],
            [
             0.4444444444444444,
             "#bd3786"
            ],
            [
             0.5555555555555556,
             "#d8576b"
            ],
            [
             0.6666666666666666,
             "#ed7953"
            ],
            [
             0.7777777777777778,
             "#fb9f3a"
            ],
            [
             0.8888888888888888,
             "#fdca26"
            ],
            [
             1,
             "#f0f921"
            ]
           ],
           "sequentialminus": [
            [
             0,
             "#0d0887"
            ],
            [
             0.1111111111111111,
             "#46039f"
            ],
            [
             0.2222222222222222,
             "#7201a8"
            ],
            [
             0.3333333333333333,
             "#9c179e"
            ],
            [
             0.4444444444444444,
             "#bd3786"
            ],
            [
             0.5555555555555556,
             "#d8576b"
            ],
            [
             0.6666666666666666,
             "#ed7953"
            ],
            [
             0.7777777777777778,
             "#fb9f3a"
            ],
            [
             0.8888888888888888,
             "#fdca26"
            ],
            [
             1,
             "#f0f921"
            ]
           ]
          },
          "colorway": [
           "#636efa",
           "#EF553B",
           "#00cc96",
           "#ab63fa",
           "#FFA15A",
           "#19d3f3",
           "#FF6692",
           "#B6E880",
           "#FF97FF",
           "#FECB52"
          ],
          "font": {
           "color": "#2a3f5f"
          },
          "geo": {
           "bgcolor": "white",
           "lakecolor": "white",
           "landcolor": "#E5ECF6",
           "showlakes": true,
           "showland": true,
           "subunitcolor": "white"
          },
          "hoverlabel": {
           "align": "left"
          },
          "hovermode": "closest",
          "mapbox": {
           "style": "light"
          },
          "paper_bgcolor": "white",
          "plot_bgcolor": "#E5ECF6",
          "polar": {
           "angularaxis": {
            "gridcolor": "white",
            "linecolor": "white",
            "ticks": ""
           },
           "bgcolor": "#E5ECF6",
           "radialaxis": {
            "gridcolor": "white",
            "linecolor": "white",
            "ticks": ""
           }
          },
          "scene": {
           "xaxis": {
            "backgroundcolor": "#E5ECF6",
            "gridcolor": "white",
            "gridwidth": 2,
            "linecolor": "white",
            "showbackground": true,
            "ticks": "",
            "zerolinecolor": "white"
           },
           "yaxis": {
            "backgroundcolor": "#E5ECF6",
            "gridcolor": "white",
            "gridwidth": 2,
            "linecolor": "white",
            "showbackground": true,
            "ticks": "",
            "zerolinecolor": "white"
           },
           "zaxis": {
            "backgroundcolor": "#E5ECF6",
            "gridcolor": "white",
            "gridwidth": 2,
            "linecolor": "white",
            "showbackground": true,
            "ticks": "",
            "zerolinecolor": "white"
           }
          },
          "shapedefaults": {
           "line": {
            "color": "#2a3f5f"
           }
          },
          "ternary": {
           "aaxis": {
            "gridcolor": "white",
            "linecolor": "white",
            "ticks": ""
           },
           "baxis": {
            "gridcolor": "white",
            "linecolor": "white",
            "ticks": ""
           },
           "bgcolor": "#E5ECF6",
           "caxis": {
            "gridcolor": "white",
            "linecolor": "white",
            "ticks": ""
           }
          },
          "title": {
           "x": 0.05
          },
          "xaxis": {
           "automargin": true,
           "gridcolor": "white",
           "linecolor": "white",
           "ticks": "",
           "title": {
            "standoff": 15
           },
           "zerolinecolor": "white",
           "zerolinewidth": 2
          },
          "yaxis": {
           "automargin": true,
           "gridcolor": "white",
           "linecolor": "white",
           "ticks": "",
           "title": {
            "standoff": 15
           },
           "zerolinecolor": "white",
           "zerolinewidth": 2
          }
         }
        },
        "width": 1200,
        "xaxis": {
         "anchor": "y",
         "domain": [
          0,
          1
         ],
         "title": {
          "text": "renda"
         }
        },
        "yaxis": {
         "anchor": "x",
         "domain": [
          0,
          1
         ],
         "title": {
          "text": "count"
         }
        }
       }
      }
     },
     "metadata": {},
     "output_type": "display_data"
    }
   ],
   "source": [
    "fig = px.histogram(df, \"renda\", text_auto=True, width=1200, height=800)\n",
    "fig.update_traces(textposition=\"outside\")\n",
    "\n",
    "fig.show()"
   ]
  },
  {
   "cell_type": "code",
   "execution_count": 71,
   "id": "10da2fca",
   "metadata": {},
   "outputs": [
    {
     "data": {
      "application/vnd.plotly.v1+json": {
       "config": {
        "plotlyServerURL": "https://plot.ly"
       },
       "data": [
        {
         "alignmentgroup": "True",
         "bingroup": "x",
         "hovertemplate": "motivação=%{x}<br>count=%{y}<extra></extra>",
         "legendgroup": "",
         "marker": {
          "color": "#636efa",
          "pattern": {
           "shape": ""
          }
         },
         "name": "",
         "offsetgroup": "",
         "orientation": "v",
         "showlegend": false,
         "textposition": "outside",
         "texttemplate": "%{value}",
         "type": "histogram",
         "x": [
          9,
          10,
          10,
          9,
          9,
          10,
          9,
          9,
          10,
          9,
          9,
          9,
          10,
          9,
          9,
          9,
          9,
          9,
          9,
          9,
          9,
          9,
          10,
          9,
          9,
          10,
          10,
          9,
          10,
          9,
          9,
          10,
          9,
          9,
          9,
          10,
          10,
          9,
          10,
          9,
          9,
          10,
          10,
          10,
          9,
          9,
          10,
          10,
          9,
          10,
          10,
          9,
          9,
          10,
          9,
          9,
          10,
          10,
          10,
          10,
          9,
          10,
          9,
          9,
          10,
          9,
          9,
          10,
          10,
          9,
          10,
          10,
          9,
          9,
          10,
          10,
          9,
          9,
          9,
          9,
          9,
          9,
          9,
          10,
          9,
          9,
          10,
          9,
          9,
          10,
          10,
          10,
          10,
          10,
          9,
          10,
          9,
          9,
          9,
          10,
          9,
          10,
          10,
          10,
          9,
          9,
          10,
          10,
          10,
          10,
          9,
          9,
          10,
          9,
          10,
          9,
          9,
          10,
          9,
          10,
          9,
          10,
          10,
          9,
          9,
          10,
          10,
          10,
          9,
          10,
          9,
          9,
          10,
          10,
          9,
          10,
          10,
          10,
          9,
          9,
          10,
          10,
          10,
          10,
          10,
          10,
          9,
          10,
          9,
          10,
          6,
          7,
          6,
          8,
          7,
          7,
          6,
          6,
          8,
          8,
          6,
          8,
          8,
          6,
          7,
          7,
          6,
          8,
          6,
          8,
          6,
          7,
          6,
          6,
          7,
          7,
          8,
          8,
          7,
          8,
          8,
          7,
          7,
          8,
          8,
          7,
          7,
          8,
          6,
          6,
          8,
          7,
          6,
          6,
          7,
          8,
          8,
          8,
          7,
          6,
          7,
          6,
          7,
          7,
          8,
          8,
          7,
          6,
          7,
          7,
          8,
          7,
          8,
          7,
          7,
          7,
          8,
          8,
          7,
          8,
          8,
          7,
          6,
          8,
          7,
          6,
          7,
          8,
          6,
          7,
          6,
          6,
          6,
          8,
          7,
          8,
          6,
          7,
          8,
          6,
          7,
          8,
          6,
          7,
          7,
          7,
          6,
          7,
          6,
          8,
          8,
          7,
          7,
          8,
          7,
          7,
          8,
          8,
          8,
          7,
          7,
          7,
          7,
          6,
          8,
          8,
          8,
          6,
          7,
          8,
          6,
          7,
          8,
          8,
          6,
          6,
          8,
          7,
          8,
          8,
          6,
          6,
          7,
          7,
          8,
          6,
          6,
          8,
          8,
          7,
          7,
          7,
          7,
          8,
          6,
          8,
          7,
          6,
          7,
          6,
          5,
          4,
          4,
          4,
          4,
          4,
          4,
          5,
          4,
          4,
          4,
          4,
          5,
          4,
          5,
          5,
          5,
          5,
          4,
          5,
          5,
          5,
          5,
          5,
          4,
          5,
          5,
          4,
          5,
          4,
          4,
          4,
          5,
          4,
          4,
          4,
          5,
          5,
          5,
          5,
          4,
          4,
          5,
          5,
          5,
          5,
          4,
          5,
          4,
          4,
          3,
          3,
          2,
          3,
          2,
          3,
          3,
          2,
          3,
          2,
          3,
          3,
          3,
          2,
          2,
          2,
          3,
          2,
          2,
          2,
          2,
          2,
          2,
          2,
          2,
          3,
          2,
          2,
          3,
          3,
          3,
          2,
          2,
          3,
          2,
          3,
          3,
          3,
          3,
          3,
          3,
          3,
          3,
          2,
          3,
          3,
          2,
          3,
          2,
          3,
          3,
          2,
          2,
          2,
          3,
          2,
          2,
          2,
          2,
          2,
          2,
          2,
          2,
          2,
          2,
          3,
          3,
          2,
          2,
          3,
          2,
          3,
          2,
          2,
          2,
          2,
          2,
          2,
          2,
          3,
          3,
          3,
          2,
          3,
          3,
          2,
          3,
          3,
          3,
          3,
          3,
          3,
          3,
          3,
          2,
          2,
          3,
          2,
          2,
          3,
          1,
          0,
          1,
          0,
          0,
          1,
          1,
          0,
          1,
          0,
          0,
          0,
          1,
          0,
          1,
          1,
          1,
          0,
          1,
          0,
          0,
          1,
          0,
          0,
          0,
          1,
          0,
          0,
          1,
          0,
          1,
          1,
          0,
          0,
          0,
          1,
          0,
          1,
          1,
          1,
          0,
          1,
          0,
          0,
          0
         ],
         "xaxis": "x",
         "yaxis": "y"
        }
       ],
       "layout": {
        "barmode": "relative",
        "height": 800,
        "legend": {
         "tracegroupgap": 0
        },
        "margin": {
         "t": 60
        },
        "template": {
         "data": {
          "bar": [
           {
            "error_x": {
             "color": "#2a3f5f"
            },
            "error_y": {
             "color": "#2a3f5f"
            },
            "marker": {
             "line": {
              "color": "#E5ECF6",
              "width": 0.5
             },
             "pattern": {
              "fillmode": "overlay",
              "size": 10,
              "solidity": 0.2
             }
            },
            "type": "bar"
           }
          ],
          "barpolar": [
           {
            "marker": {
             "line": {
              "color": "#E5ECF6",
              "width": 0.5
             },
             "pattern": {
              "fillmode": "overlay",
              "size": 10,
              "solidity": 0.2
             }
            },
            "type": "barpolar"
           }
          ],
          "carpet": [
           {
            "aaxis": {
             "endlinecolor": "#2a3f5f",
             "gridcolor": "white",
             "linecolor": "white",
             "minorgridcolor": "white",
             "startlinecolor": "#2a3f5f"
            },
            "baxis": {
             "endlinecolor": "#2a3f5f",
             "gridcolor": "white",
             "linecolor": "white",
             "minorgridcolor": "white",
             "startlinecolor": "#2a3f5f"
            },
            "type": "carpet"
           }
          ],
          "choropleth": [
           {
            "colorbar": {
             "outlinewidth": 0,
             "ticks": ""
            },
            "type": "choropleth"
           }
          ],
          "contour": [
           {
            "colorbar": {
             "outlinewidth": 0,
             "ticks": ""
            },
            "colorscale": [
             [
              0,
              "#0d0887"
             ],
             [
              0.1111111111111111,
              "#46039f"
             ],
             [
              0.2222222222222222,
              "#7201a8"
             ],
             [
              0.3333333333333333,
              "#9c179e"
             ],
             [
              0.4444444444444444,
              "#bd3786"
             ],
             [
              0.5555555555555556,
              "#d8576b"
             ],
             [
              0.6666666666666666,
              "#ed7953"
             ],
             [
              0.7777777777777778,
              "#fb9f3a"
             ],
             [
              0.8888888888888888,
              "#fdca26"
             ],
             [
              1,
              "#f0f921"
             ]
            ],
            "type": "contour"
           }
          ],
          "contourcarpet": [
           {
            "colorbar": {
             "outlinewidth": 0,
             "ticks": ""
            },
            "type": "contourcarpet"
           }
          ],
          "heatmap": [
           {
            "colorbar": {
             "outlinewidth": 0,
             "ticks": ""
            },
            "colorscale": [
             [
              0,
              "#0d0887"
             ],
             [
              0.1111111111111111,
              "#46039f"
             ],
             [
              0.2222222222222222,
              "#7201a8"
             ],
             [
              0.3333333333333333,
              "#9c179e"
             ],
             [
              0.4444444444444444,
              "#bd3786"
             ],
             [
              0.5555555555555556,
              "#d8576b"
             ],
             [
              0.6666666666666666,
              "#ed7953"
             ],
             [
              0.7777777777777778,
              "#fb9f3a"
             ],
             [
              0.8888888888888888,
              "#fdca26"
             ],
             [
              1,
              "#f0f921"
             ]
            ],
            "type": "heatmap"
           }
          ],
          "heatmapgl": [
           {
            "colorbar": {
             "outlinewidth": 0,
             "ticks": ""
            },
            "colorscale": [
             [
              0,
              "#0d0887"
             ],
             [
              0.1111111111111111,
              "#46039f"
             ],
             [
              0.2222222222222222,
              "#7201a8"
             ],
             [
              0.3333333333333333,
              "#9c179e"
             ],
             [
              0.4444444444444444,
              "#bd3786"
             ],
             [
              0.5555555555555556,
              "#d8576b"
             ],
             [
              0.6666666666666666,
              "#ed7953"
             ],
             [
              0.7777777777777778,
              "#fb9f3a"
             ],
             [
              0.8888888888888888,
              "#fdca26"
             ],
             [
              1,
              "#f0f921"
             ]
            ],
            "type": "heatmapgl"
           }
          ],
          "histogram": [
           {
            "marker": {
             "pattern": {
              "fillmode": "overlay",
              "size": 10,
              "solidity": 0.2
             }
            },
            "type": "histogram"
           }
          ],
          "histogram2d": [
           {
            "colorbar": {
             "outlinewidth": 0,
             "ticks": ""
            },
            "colorscale": [
             [
              0,
              "#0d0887"
             ],
             [
              0.1111111111111111,
              "#46039f"
             ],
             [
              0.2222222222222222,
              "#7201a8"
             ],
             [
              0.3333333333333333,
              "#9c179e"
             ],
             [
              0.4444444444444444,
              "#bd3786"
             ],
             [
              0.5555555555555556,
              "#d8576b"
             ],
             [
              0.6666666666666666,
              "#ed7953"
             ],
             [
              0.7777777777777778,
              "#fb9f3a"
             ],
             [
              0.8888888888888888,
              "#fdca26"
             ],
             [
              1,
              "#f0f921"
             ]
            ],
            "type": "histogram2d"
           }
          ],
          "histogram2dcontour": [
           {
            "colorbar": {
             "outlinewidth": 0,
             "ticks": ""
            },
            "colorscale": [
             [
              0,
              "#0d0887"
             ],
             [
              0.1111111111111111,
              "#46039f"
             ],
             [
              0.2222222222222222,
              "#7201a8"
             ],
             [
              0.3333333333333333,
              "#9c179e"
             ],
             [
              0.4444444444444444,
              "#bd3786"
             ],
             [
              0.5555555555555556,
              "#d8576b"
             ],
             [
              0.6666666666666666,
              "#ed7953"
             ],
             [
              0.7777777777777778,
              "#fb9f3a"
             ],
             [
              0.8888888888888888,
              "#fdca26"
             ],
             [
              1,
              "#f0f921"
             ]
            ],
            "type": "histogram2dcontour"
           }
          ],
          "mesh3d": [
           {
            "colorbar": {
             "outlinewidth": 0,
             "ticks": ""
            },
            "type": "mesh3d"
           }
          ],
          "parcoords": [
           {
            "line": {
             "colorbar": {
              "outlinewidth": 0,
              "ticks": ""
             }
            },
            "type": "parcoords"
           }
          ],
          "pie": [
           {
            "automargin": true,
            "type": "pie"
           }
          ],
          "scatter": [
           {
            "marker": {
             "colorbar": {
              "outlinewidth": 0,
              "ticks": ""
             }
            },
            "type": "scatter"
           }
          ],
          "scatter3d": [
           {
            "line": {
             "colorbar": {
              "outlinewidth": 0,
              "ticks": ""
             }
            },
            "marker": {
             "colorbar": {
              "outlinewidth": 0,
              "ticks": ""
             }
            },
            "type": "scatter3d"
           }
          ],
          "scattercarpet": [
           {
            "marker": {
             "colorbar": {
              "outlinewidth": 0,
              "ticks": ""
             }
            },
            "type": "scattercarpet"
           }
          ],
          "scattergeo": [
           {
            "marker": {
             "colorbar": {
              "outlinewidth": 0,
              "ticks": ""
             }
            },
            "type": "scattergeo"
           }
          ],
          "scattergl": [
           {
            "marker": {
             "colorbar": {
              "outlinewidth": 0,
              "ticks": ""
             }
            },
            "type": "scattergl"
           }
          ],
          "scattermapbox": [
           {
            "marker": {
             "colorbar": {
              "outlinewidth": 0,
              "ticks": ""
             }
            },
            "type": "scattermapbox"
           }
          ],
          "scatterpolar": [
           {
            "marker": {
             "colorbar": {
              "outlinewidth": 0,
              "ticks": ""
             }
            },
            "type": "scatterpolar"
           }
          ],
          "scatterpolargl": [
           {
            "marker": {
             "colorbar": {
              "outlinewidth": 0,
              "ticks": ""
             }
            },
            "type": "scatterpolargl"
           }
          ],
          "scatterternary": [
           {
            "marker": {
             "colorbar": {
              "outlinewidth": 0,
              "ticks": ""
             }
            },
            "type": "scatterternary"
           }
          ],
          "surface": [
           {
            "colorbar": {
             "outlinewidth": 0,
             "ticks": ""
            },
            "colorscale": [
             [
              0,
              "#0d0887"
             ],
             [
              0.1111111111111111,
              "#46039f"
             ],
             [
              0.2222222222222222,
              "#7201a8"
             ],
             [
              0.3333333333333333,
              "#9c179e"
             ],
             [
              0.4444444444444444,
              "#bd3786"
             ],
             [
              0.5555555555555556,
              "#d8576b"
             ],
             [
              0.6666666666666666,
              "#ed7953"
             ],
             [
              0.7777777777777778,
              "#fb9f3a"
             ],
             [
              0.8888888888888888,
              "#fdca26"
             ],
             [
              1,
              "#f0f921"
             ]
            ],
            "type": "surface"
           }
          ],
          "table": [
           {
            "cells": {
             "fill": {
              "color": "#EBF0F8"
             },
             "line": {
              "color": "white"
             }
            },
            "header": {
             "fill": {
              "color": "#C8D4E3"
             },
             "line": {
              "color": "white"
             }
            },
            "type": "table"
           }
          ]
         },
         "layout": {
          "annotationdefaults": {
           "arrowcolor": "#2a3f5f",
           "arrowhead": 0,
           "arrowwidth": 1
          },
          "autotypenumbers": "strict",
          "coloraxis": {
           "colorbar": {
            "outlinewidth": 0,
            "ticks": ""
           }
          },
          "colorscale": {
           "diverging": [
            [
             0,
             "#8e0152"
            ],
            [
             0.1,
             "#c51b7d"
            ],
            [
             0.2,
             "#de77ae"
            ],
            [
             0.3,
             "#f1b6da"
            ],
            [
             0.4,
             "#fde0ef"
            ],
            [
             0.5,
             "#f7f7f7"
            ],
            [
             0.6,
             "#e6f5d0"
            ],
            [
             0.7,
             "#b8e186"
            ],
            [
             0.8,
             "#7fbc41"
            ],
            [
             0.9,
             "#4d9221"
            ],
            [
             1,
             "#276419"
            ]
           ],
           "sequential": [
            [
             0,
             "#0d0887"
            ],
            [
             0.1111111111111111,
             "#46039f"
            ],
            [
             0.2222222222222222,
             "#7201a8"
            ],
            [
             0.3333333333333333,
             "#9c179e"
            ],
            [
             0.4444444444444444,
             "#bd3786"
            ],
            [
             0.5555555555555556,
             "#d8576b"
            ],
            [
             0.6666666666666666,
             "#ed7953"
            ],
            [
             0.7777777777777778,
             "#fb9f3a"
            ],
            [
             0.8888888888888888,
             "#fdca26"
            ],
            [
             1,
             "#f0f921"
            ]
           ],
           "sequentialminus": [
            [
             0,
             "#0d0887"
            ],
            [
             0.1111111111111111,
             "#46039f"
            ],
            [
             0.2222222222222222,
             "#7201a8"
            ],
            [
             0.3333333333333333,
             "#9c179e"
            ],
            [
             0.4444444444444444,
             "#bd3786"
            ],
            [
             0.5555555555555556,
             "#d8576b"
            ],
            [
             0.6666666666666666,
             "#ed7953"
            ],
            [
             0.7777777777777778,
             "#fb9f3a"
            ],
            [
             0.8888888888888888,
             "#fdca26"
            ],
            [
             1,
             "#f0f921"
            ]
           ]
          },
          "colorway": [
           "#636efa",
           "#EF553B",
           "#00cc96",
           "#ab63fa",
           "#FFA15A",
           "#19d3f3",
           "#FF6692",
           "#B6E880",
           "#FF97FF",
           "#FECB52"
          ],
          "font": {
           "color": "#2a3f5f"
          },
          "geo": {
           "bgcolor": "white",
           "lakecolor": "white",
           "landcolor": "#E5ECF6",
           "showlakes": true,
           "showland": true,
           "subunitcolor": "white"
          },
          "hoverlabel": {
           "align": "left"
          },
          "hovermode": "closest",
          "mapbox": {
           "style": "light"
          },
          "paper_bgcolor": "white",
          "plot_bgcolor": "#E5ECF6",
          "polar": {
           "angularaxis": {
            "gridcolor": "white",
            "linecolor": "white",
            "ticks": ""
           },
           "bgcolor": "#E5ECF6",
           "radialaxis": {
            "gridcolor": "white",
            "linecolor": "white",
            "ticks": ""
           }
          },
          "scene": {
           "xaxis": {
            "backgroundcolor": "#E5ECF6",
            "gridcolor": "white",
            "gridwidth": 2,
            "linecolor": "white",
            "showbackground": true,
            "ticks": "",
            "zerolinecolor": "white"
           },
           "yaxis": {
            "backgroundcolor": "#E5ECF6",
            "gridcolor": "white",
            "gridwidth": 2,
            "linecolor": "white",
            "showbackground": true,
            "ticks": "",
            "zerolinecolor": "white"
           },
           "zaxis": {
            "backgroundcolor": "#E5ECF6",
            "gridcolor": "white",
            "gridwidth": 2,
            "linecolor": "white",
            "showbackground": true,
            "ticks": "",
            "zerolinecolor": "white"
           }
          },
          "shapedefaults": {
           "line": {
            "color": "#2a3f5f"
           }
          },
          "ternary": {
           "aaxis": {
            "gridcolor": "white",
            "linecolor": "white",
            "ticks": ""
           },
           "baxis": {
            "gridcolor": "white",
            "linecolor": "white",
            "ticks": ""
           },
           "bgcolor": "#E5ECF6",
           "caxis": {
            "gridcolor": "white",
            "linecolor": "white",
            "ticks": ""
           }
          },
          "title": {
           "x": 0.05
          },
          "xaxis": {
           "automargin": true,
           "gridcolor": "white",
           "linecolor": "white",
           "ticks": "",
           "title": {
            "standoff": 15
           },
           "zerolinecolor": "white",
           "zerolinewidth": 2
          },
          "yaxis": {
           "automargin": true,
           "gridcolor": "white",
           "linecolor": "white",
           "ticks": "",
           "title": {
            "standoff": 15
           },
           "zerolinecolor": "white",
           "zerolinewidth": 2
          }
         }
        },
        "width": 1200,
        "xaxis": {
         "anchor": "y",
         "domain": [
          0,
          1
         ],
         "title": {
          "text": "motivação"
         }
        },
        "yaxis": {
         "anchor": "x",
         "domain": [
          0,
          1
         ],
         "title": {
          "text": "count"
         }
        }
       }
      }
     },
     "metadata": {},
     "output_type": "display_data"
    }
   ],
   "source": [
    "fig = px.histogram(df, \"motivação\", text_auto=True, width=1200, height=800)\n",
    "fig.update_traces(textposition=\"outside\")\n",
    "\n",
    "fig.show()"
   ]
  },
  {
   "cell_type": "code",
   "execution_count": 72,
   "id": "2c062675",
   "metadata": {},
   "outputs": [
    {
     "data": {
      "application/vnd.plotly.v1+json": {
       "config": {
        "plotlyServerURL": "https://plot.ly"
       },
       "data": [
        {
         "alignmentgroup": "True",
         "bingroup": "x",
         "hovertemplate": "total score=%{x}<br>count=%{y}<extra></extra>",
         "legendgroup": "",
         "marker": {
          "color": "#636efa",
          "pattern": {
           "shape": ""
          }
         },
         "name": "",
         "offsetgroup": "",
         "orientation": "v",
         "showlegend": false,
         "textposition": "outside",
         "texttemplate": "%{value}",
         "type": "histogram",
         "x": [
          6,
          5,
          5,
          6,
          6,
          6,
          6,
          6,
          1,
          0,
          5,
          4,
          6,
          6,
          6,
          7,
          6,
          6,
          6,
          6,
          4,
          6,
          0,
          0,
          7,
          5,
          4,
          6,
          3,
          6,
          6,
          1,
          5,
          1,
          6,
          1,
          3,
          5,
          0,
          6,
          6,
          3,
          0,
          6,
          0,
          4,
          2,
          5,
          0,
          5,
          6,
          6,
          6,
          6,
          9,
          6,
          0,
          6,
          6,
          7,
          6,
          6,
          11,
          7,
          6,
          6,
          6,
          6,
          6,
          5,
          6,
          3,
          12,
          6,
          5,
          4,
          4,
          6,
          6,
          0,
          6,
          3,
          3,
          6,
          6,
          8,
          6,
          6,
          6,
          6,
          6,
          6,
          5,
          3,
          3,
          6,
          6,
          6,
          6,
          7,
          6,
          6,
          6,
          6,
          8,
          6,
          6,
          6,
          6,
          6,
          2,
          6,
          6,
          0,
          6,
          6,
          6,
          6,
          3,
          6,
          6,
          12,
          6,
          6,
          6,
          6,
          6,
          6,
          4,
          4,
          6,
          3,
          6,
          8,
          6,
          3,
          6,
          6,
          6,
          6,
          3,
          6,
          3,
          6,
          5,
          6,
          6,
          6,
          6,
          6,
          7,
          6,
          6,
          1,
          6,
          6,
          6,
          10,
          6,
          7,
          9,
          6,
          7,
          10,
          7,
          6,
          6,
          6,
          7,
          6,
          6,
          8,
          6,
          6,
          8,
          7,
          6,
          8,
          6,
          8,
          6,
          7,
          6,
          6,
          6,
          6,
          7,
          6,
          6,
          0,
          6,
          6,
          8,
          6,
          6,
          6,
          6,
          7,
          7,
          6,
          6,
          12,
          9,
          12,
          7,
          9,
          7,
          11,
          8,
          7,
          12,
          10,
          12,
          3,
          6,
          9,
          6,
          11,
          12,
          6,
          12,
          12,
          8,
          12,
          8,
          6,
          9,
          8,
          8,
          6,
          7,
          12,
          6,
          7,
          7,
          10,
          6,
          9,
          6,
          12,
          6,
          10,
          8,
          7,
          7,
          6,
          9,
          11,
          11,
          7,
          9,
          12,
          12,
          6,
          6,
          13,
          6,
          9,
          12,
          6,
          10,
          9,
          12,
          12,
          9,
          12,
          11,
          12,
          12,
          10,
          6,
          6,
          12,
          8,
          6,
          7,
          7,
          6,
          12,
          12,
          7,
          6,
          12,
          9,
          10,
          8,
          6,
          6,
          9,
          7,
          11,
          6,
          6,
          12,
          12,
          9,
          8,
          6,
          6,
          12,
          6,
          11,
          10,
          12,
          12,
          6,
          8,
          6,
          12,
          9,
          12,
          8,
          8,
          12,
          7,
          10,
          9,
          6,
          12,
          9,
          9,
          6,
          10,
          7,
          6,
          6,
          6,
          3,
          12,
          12,
          7,
          6,
          7,
          6,
          6,
          12,
          8,
          12,
          11,
          8,
          12,
          10,
          6,
          8,
          7,
          7,
          9,
          6,
          12,
          6,
          12,
          12,
          12,
          9,
          7,
          12,
          12,
          12,
          12,
          12,
          12,
          8,
          8,
          12,
          12,
          12,
          12,
          12,
          8,
          12,
          12,
          8,
          13,
          12,
          8,
          12,
          12,
          12,
          12,
          8,
          12,
          12,
          12,
          12,
          12,
          12,
          11,
          12,
          9,
          9,
          8,
          8,
          12,
          12,
          8,
          8,
          12,
          12,
          12,
          12,
          10,
          8,
          8,
          12,
          12,
          8,
          12,
          8,
          12,
          8,
          8,
          9,
          9,
          12,
          9,
          9,
          7,
          12,
          8,
          10,
          12,
          12,
          8,
          8,
          13,
          12,
          8,
          12,
          12,
          12,
          12,
          12,
          8,
          12,
          10,
          12,
          12,
          12,
          12,
          8,
          12,
          12,
          7,
          12,
          12,
          8,
          8,
          12,
          8,
          12,
          12,
          8,
          12,
          11,
          12,
          9,
          12,
          8,
          13,
          9,
          12,
          12,
          8,
          13,
          10,
          6,
          6,
          12,
          12,
          12,
          12,
          12,
          12,
          12,
          13,
          9,
          8,
          17,
          12,
          12,
          9,
          14,
          18,
          8,
          12,
          12,
          12,
          12,
          8,
          11,
          12,
          12,
          12,
          12,
          12
         ],
         "xaxis": "x",
         "yaxis": "y"
        }
       ],
       "layout": {
        "barmode": "relative",
        "height": 800,
        "legend": {
         "tracegroupgap": 0
        },
        "margin": {
         "t": 60
        },
        "template": {
         "data": {
          "bar": [
           {
            "error_x": {
             "color": "#2a3f5f"
            },
            "error_y": {
             "color": "#2a3f5f"
            },
            "marker": {
             "line": {
              "color": "#E5ECF6",
              "width": 0.5
             },
             "pattern": {
              "fillmode": "overlay",
              "size": 10,
              "solidity": 0.2
             }
            },
            "type": "bar"
           }
          ],
          "barpolar": [
           {
            "marker": {
             "line": {
              "color": "#E5ECF6",
              "width": 0.5
             },
             "pattern": {
              "fillmode": "overlay",
              "size": 10,
              "solidity": 0.2
             }
            },
            "type": "barpolar"
           }
          ],
          "carpet": [
           {
            "aaxis": {
             "endlinecolor": "#2a3f5f",
             "gridcolor": "white",
             "linecolor": "white",
             "minorgridcolor": "white",
             "startlinecolor": "#2a3f5f"
            },
            "baxis": {
             "endlinecolor": "#2a3f5f",
             "gridcolor": "white",
             "linecolor": "white",
             "minorgridcolor": "white",
             "startlinecolor": "#2a3f5f"
            },
            "type": "carpet"
           }
          ],
          "choropleth": [
           {
            "colorbar": {
             "outlinewidth": 0,
             "ticks": ""
            },
            "type": "choropleth"
           }
          ],
          "contour": [
           {
            "colorbar": {
             "outlinewidth": 0,
             "ticks": ""
            },
            "colorscale": [
             [
              0,
              "#0d0887"
             ],
             [
              0.1111111111111111,
              "#46039f"
             ],
             [
              0.2222222222222222,
              "#7201a8"
             ],
             [
              0.3333333333333333,
              "#9c179e"
             ],
             [
              0.4444444444444444,
              "#bd3786"
             ],
             [
              0.5555555555555556,
              "#d8576b"
             ],
             [
              0.6666666666666666,
              "#ed7953"
             ],
             [
              0.7777777777777778,
              "#fb9f3a"
             ],
             [
              0.8888888888888888,
              "#fdca26"
             ],
             [
              1,
              "#f0f921"
             ]
            ],
            "type": "contour"
           }
          ],
          "contourcarpet": [
           {
            "colorbar": {
             "outlinewidth": 0,
             "ticks": ""
            },
            "type": "contourcarpet"
           }
          ],
          "heatmap": [
           {
            "colorbar": {
             "outlinewidth": 0,
             "ticks": ""
            },
            "colorscale": [
             [
              0,
              "#0d0887"
             ],
             [
              0.1111111111111111,
              "#46039f"
             ],
             [
              0.2222222222222222,
              "#7201a8"
             ],
             [
              0.3333333333333333,
              "#9c179e"
             ],
             [
              0.4444444444444444,
              "#bd3786"
             ],
             [
              0.5555555555555556,
              "#d8576b"
             ],
             [
              0.6666666666666666,
              "#ed7953"
             ],
             [
              0.7777777777777778,
              "#fb9f3a"
             ],
             [
              0.8888888888888888,
              "#fdca26"
             ],
             [
              1,
              "#f0f921"
             ]
            ],
            "type": "heatmap"
           }
          ],
          "heatmapgl": [
           {
            "colorbar": {
             "outlinewidth": 0,
             "ticks": ""
            },
            "colorscale": [
             [
              0,
              "#0d0887"
             ],
             [
              0.1111111111111111,
              "#46039f"
             ],
             [
              0.2222222222222222,
              "#7201a8"
             ],
             [
              0.3333333333333333,
              "#9c179e"
             ],
             [
              0.4444444444444444,
              "#bd3786"
             ],
             [
              0.5555555555555556,
              "#d8576b"
             ],
             [
              0.6666666666666666,
              "#ed7953"
             ],
             [
              0.7777777777777778,
              "#fb9f3a"
             ],
             [
              0.8888888888888888,
              "#fdca26"
             ],
             [
              1,
              "#f0f921"
             ]
            ],
            "type": "heatmapgl"
           }
          ],
          "histogram": [
           {
            "marker": {
             "pattern": {
              "fillmode": "overlay",
              "size": 10,
              "solidity": 0.2
             }
            },
            "type": "histogram"
           }
          ],
          "histogram2d": [
           {
            "colorbar": {
             "outlinewidth": 0,
             "ticks": ""
            },
            "colorscale": [
             [
              0,
              "#0d0887"
             ],
             [
              0.1111111111111111,
              "#46039f"
             ],
             [
              0.2222222222222222,
              "#7201a8"
             ],
             [
              0.3333333333333333,
              "#9c179e"
             ],
             [
              0.4444444444444444,
              "#bd3786"
             ],
             [
              0.5555555555555556,
              "#d8576b"
             ],
             [
              0.6666666666666666,
              "#ed7953"
             ],
             [
              0.7777777777777778,
              "#fb9f3a"
             ],
             [
              0.8888888888888888,
              "#fdca26"
             ],
             [
              1,
              "#f0f921"
             ]
            ],
            "type": "histogram2d"
           }
          ],
          "histogram2dcontour": [
           {
            "colorbar": {
             "outlinewidth": 0,
             "ticks": ""
            },
            "colorscale": [
             [
              0,
              "#0d0887"
             ],
             [
              0.1111111111111111,
              "#46039f"
             ],
             [
              0.2222222222222222,
              "#7201a8"
             ],
             [
              0.3333333333333333,
              "#9c179e"
             ],
             [
              0.4444444444444444,
              "#bd3786"
             ],
             [
              0.5555555555555556,
              "#d8576b"
             ],
             [
              0.6666666666666666,
              "#ed7953"
             ],
             [
              0.7777777777777778,
              "#fb9f3a"
             ],
             [
              0.8888888888888888,
              "#fdca26"
             ],
             [
              1,
              "#f0f921"
             ]
            ],
            "type": "histogram2dcontour"
           }
          ],
          "mesh3d": [
           {
            "colorbar": {
             "outlinewidth": 0,
             "ticks": ""
            },
            "type": "mesh3d"
           }
          ],
          "parcoords": [
           {
            "line": {
             "colorbar": {
              "outlinewidth": 0,
              "ticks": ""
             }
            },
            "type": "parcoords"
           }
          ],
          "pie": [
           {
            "automargin": true,
            "type": "pie"
           }
          ],
          "scatter": [
           {
            "marker": {
             "colorbar": {
              "outlinewidth": 0,
              "ticks": ""
             }
            },
            "type": "scatter"
           }
          ],
          "scatter3d": [
           {
            "line": {
             "colorbar": {
              "outlinewidth": 0,
              "ticks": ""
             }
            },
            "marker": {
             "colorbar": {
              "outlinewidth": 0,
              "ticks": ""
             }
            },
            "type": "scatter3d"
           }
          ],
          "scattercarpet": [
           {
            "marker": {
             "colorbar": {
              "outlinewidth": 0,
              "ticks": ""
             }
            },
            "type": "scattercarpet"
           }
          ],
          "scattergeo": [
           {
            "marker": {
             "colorbar": {
              "outlinewidth": 0,
              "ticks": ""
             }
            },
            "type": "scattergeo"
           }
          ],
          "scattergl": [
           {
            "marker": {
             "colorbar": {
              "outlinewidth": 0,
              "ticks": ""
             }
            },
            "type": "scattergl"
           }
          ],
          "scattermapbox": [
           {
            "marker": {
             "colorbar": {
              "outlinewidth": 0,
              "ticks": ""
             }
            },
            "type": "scattermapbox"
           }
          ],
          "scatterpolar": [
           {
            "marker": {
             "colorbar": {
              "outlinewidth": 0,
              "ticks": ""
             }
            },
            "type": "scatterpolar"
           }
          ],
          "scatterpolargl": [
           {
            "marker": {
             "colorbar": {
              "outlinewidth": 0,
              "ticks": ""
             }
            },
            "type": "scatterpolargl"
           }
          ],
          "scatterternary": [
           {
            "marker": {
             "colorbar": {
              "outlinewidth": 0,
              "ticks": ""
             }
            },
            "type": "scatterternary"
           }
          ],
          "surface": [
           {
            "colorbar": {
             "outlinewidth": 0,
             "ticks": ""
            },
            "colorscale": [
             [
              0,
              "#0d0887"
             ],
             [
              0.1111111111111111,
              "#46039f"
             ],
             [
              0.2222222222222222,
              "#7201a8"
             ],
             [
              0.3333333333333333,
              "#9c179e"
             ],
             [
              0.4444444444444444,
              "#bd3786"
             ],
             [
              0.5555555555555556,
              "#d8576b"
             ],
             [
              0.6666666666666666,
              "#ed7953"
             ],
             [
              0.7777777777777778,
              "#fb9f3a"
             ],
             [
              0.8888888888888888,
              "#fdca26"
             ],
             [
              1,
              "#f0f921"
             ]
            ],
            "type": "surface"
           }
          ],
          "table": [
           {
            "cells": {
             "fill": {
              "color": "#EBF0F8"
             },
             "line": {
              "color": "white"
             }
            },
            "header": {
             "fill": {
              "color": "#C8D4E3"
             },
             "line": {
              "color": "white"
             }
            },
            "type": "table"
           }
          ]
         },
         "layout": {
          "annotationdefaults": {
           "arrowcolor": "#2a3f5f",
           "arrowhead": 0,
           "arrowwidth": 1
          },
          "autotypenumbers": "strict",
          "coloraxis": {
           "colorbar": {
            "outlinewidth": 0,
            "ticks": ""
           }
          },
          "colorscale": {
           "diverging": [
            [
             0,
             "#8e0152"
            ],
            [
             0.1,
             "#c51b7d"
            ],
            [
             0.2,
             "#de77ae"
            ],
            [
             0.3,
             "#f1b6da"
            ],
            [
             0.4,
             "#fde0ef"
            ],
            [
             0.5,
             "#f7f7f7"
            ],
            [
             0.6,
             "#e6f5d0"
            ],
            [
             0.7,
             "#b8e186"
            ],
            [
             0.8,
             "#7fbc41"
            ],
            [
             0.9,
             "#4d9221"
            ],
            [
             1,
             "#276419"
            ]
           ],
           "sequential": [
            [
             0,
             "#0d0887"
            ],
            [
             0.1111111111111111,
             "#46039f"
            ],
            [
             0.2222222222222222,
             "#7201a8"
            ],
            [
             0.3333333333333333,
             "#9c179e"
            ],
            [
             0.4444444444444444,
             "#bd3786"
            ],
            [
             0.5555555555555556,
             "#d8576b"
            ],
            [
             0.6666666666666666,
             "#ed7953"
            ],
            [
             0.7777777777777778,
             "#fb9f3a"
            ],
            [
             0.8888888888888888,
             "#fdca26"
            ],
            [
             1,
             "#f0f921"
            ]
           ],
           "sequentialminus": [
            [
             0,
             "#0d0887"
            ],
            [
             0.1111111111111111,
             "#46039f"
            ],
            [
             0.2222222222222222,
             "#7201a8"
            ],
            [
             0.3333333333333333,
             "#9c179e"
            ],
            [
             0.4444444444444444,
             "#bd3786"
            ],
            [
             0.5555555555555556,
             "#d8576b"
            ],
            [
             0.6666666666666666,
             "#ed7953"
            ],
            [
             0.7777777777777778,
             "#fb9f3a"
            ],
            [
             0.8888888888888888,
             "#fdca26"
            ],
            [
             1,
             "#f0f921"
            ]
           ]
          },
          "colorway": [
           "#636efa",
           "#EF553B",
           "#00cc96",
           "#ab63fa",
           "#FFA15A",
           "#19d3f3",
           "#FF6692",
           "#B6E880",
           "#FF97FF",
           "#FECB52"
          ],
          "font": {
           "color": "#2a3f5f"
          },
          "geo": {
           "bgcolor": "white",
           "lakecolor": "white",
           "landcolor": "#E5ECF6",
           "showlakes": true,
           "showland": true,
           "subunitcolor": "white"
          },
          "hoverlabel": {
           "align": "left"
          },
          "hovermode": "closest",
          "mapbox": {
           "style": "light"
          },
          "paper_bgcolor": "white",
          "plot_bgcolor": "#E5ECF6",
          "polar": {
           "angularaxis": {
            "gridcolor": "white",
            "linecolor": "white",
            "ticks": ""
           },
           "bgcolor": "#E5ECF6",
           "radialaxis": {
            "gridcolor": "white",
            "linecolor": "white",
            "ticks": ""
           }
          },
          "scene": {
           "xaxis": {
            "backgroundcolor": "#E5ECF6",
            "gridcolor": "white",
            "gridwidth": 2,
            "linecolor": "white",
            "showbackground": true,
            "ticks": "",
            "zerolinecolor": "white"
           },
           "yaxis": {
            "backgroundcolor": "#E5ECF6",
            "gridcolor": "white",
            "gridwidth": 2,
            "linecolor": "white",
            "showbackground": true,
            "ticks": "",
            "zerolinecolor": "white"
           },
           "zaxis": {
            "backgroundcolor": "#E5ECF6",
            "gridcolor": "white",
            "gridwidth": 2,
            "linecolor": "white",
            "showbackground": true,
            "ticks": "",
            "zerolinecolor": "white"
           }
          },
          "shapedefaults": {
           "line": {
            "color": "#2a3f5f"
           }
          },
          "ternary": {
           "aaxis": {
            "gridcolor": "white",
            "linecolor": "white",
            "ticks": ""
           },
           "baxis": {
            "gridcolor": "white",
            "linecolor": "white",
            "ticks": ""
           },
           "bgcolor": "#E5ECF6",
           "caxis": {
            "gridcolor": "white",
            "linecolor": "white",
            "ticks": ""
           }
          },
          "title": {
           "x": 0.05
          },
          "xaxis": {
           "automargin": true,
           "gridcolor": "white",
           "linecolor": "white",
           "ticks": "",
           "title": {
            "standoff": 15
           },
           "zerolinecolor": "white",
           "zerolinewidth": 2
          },
          "yaxis": {
           "automargin": true,
           "gridcolor": "white",
           "linecolor": "white",
           "ticks": "",
           "title": {
            "standoff": 15
           },
           "zerolinecolor": "white",
           "zerolinewidth": 2
          }
         }
        },
        "width": 1200,
        "xaxis": {
         "anchor": "y",
         "domain": [
          0,
          1
         ],
         "title": {
          "text": "total score"
         }
        },
        "yaxis": {
         "anchor": "x",
         "domain": [
          0,
          1
         ],
         "title": {
          "text": "count"
         }
        }
       }
      }
     },
     "metadata": {},
     "output_type": "display_data"
    }
   ],
   "source": [
    "fig = px.histogram(df, \"total score\", text_auto=True, width=1200, height=800)\n",
    "fig.update_traces(textposition=\"outside\")\n",
    "\n",
    "fig.show()"
   ]
  },
  {
   "cell_type": "code",
   "execution_count": 73,
   "id": "5623a8dd",
   "metadata": {},
   "outputs": [
    {
     "data": {
      "text/html": [
       "<div>\n",
       "<style scoped>\n",
       "    .dataframe tbody tr th:only-of-type {\n",
       "        vertical-align: middle;\n",
       "    }\n",
       "\n",
       "    .dataframe tbody tr th {\n",
       "        vertical-align: top;\n",
       "    }\n",
       "\n",
       "    .dataframe thead th {\n",
       "        text-align: right;\n",
       "    }\n",
       "</style>\n",
       "<table border=\"1\" class=\"dataframe\">\n",
       "  <thead>\n",
       "    <tr style=\"text-align: right;\">\n",
       "      <th></th>\n",
       "      <th>idade</th>\n",
       "      <th>renda</th>\n",
       "      <th>ano_curso</th>\n",
       "      <th>gad-1</th>\n",
       "      <th>gad-2</th>\n",
       "      <th>gad-3</th>\n",
       "      <th>gad-4</th>\n",
       "      <th>gad-5</th>\n",
       "      <th>gad-6</th>\n",
       "      <th>gad-7</th>\n",
       "      <th>motivação</th>\n",
       "      <th>total score</th>\n",
       "    </tr>\n",
       "  </thead>\n",
       "  <tbody>\n",
       "    <tr>\n",
       "      <th>count</th>\n",
       "      <td>495.000000</td>\n",
       "      <td>495.000000</td>\n",
       "      <td>495.000000</td>\n",
       "      <td>495.000000</td>\n",
       "      <td>495.000000</td>\n",
       "      <td>495.000000</td>\n",
       "      <td>495.000000</td>\n",
       "      <td>495.000000</td>\n",
       "      <td>495.000000</td>\n",
       "      <td>495.000000</td>\n",
       "      <td>495.000000</td>\n",
       "      <td>495.000000</td>\n",
       "    </tr>\n",
       "    <tr>\n",
       "      <th>mean</th>\n",
       "      <td>21.040404</td>\n",
       "      <td>2426.037596</td>\n",
       "      <td>3.614141</td>\n",
       "      <td>1.480808</td>\n",
       "      <td>1.454545</td>\n",
       "      <td>1.329293</td>\n",
       "      <td>1.212121</td>\n",
       "      <td>1.254545</td>\n",
       "      <td>1.278788</td>\n",
       "      <td>1.272727</td>\n",
       "      <td>6.012121</td>\n",
       "      <td>8.010101</td>\n",
       "    </tr>\n",
       "    <tr>\n",
       "      <th>std</th>\n",
       "      <td>4.527735</td>\n",
       "      <td>2284.473237</td>\n",
       "      <td>0.974680</td>\n",
       "      <td>0.592749</td>\n",
       "      <td>0.631057</td>\n",
       "      <td>0.549798</td>\n",
       "      <td>0.563260</td>\n",
       "      <td>0.583038</td>\n",
       "      <td>0.585809</td>\n",
       "      <td>0.600576</td>\n",
       "      <td>3.151995</td>\n",
       "      <td>3.128474</td>\n",
       "    </tr>\n",
       "    <tr>\n",
       "      <th>min</th>\n",
       "      <td>19.000000</td>\n",
       "      <td>87.000000</td>\n",
       "      <td>1.000000</td>\n",
       "      <td>0.000000</td>\n",
       "      <td>0.000000</td>\n",
       "      <td>0.000000</td>\n",
       "      <td>0.000000</td>\n",
       "      <td>0.000000</td>\n",
       "      <td>0.000000</td>\n",
       "      <td>0.000000</td>\n",
       "      <td>0.000000</td>\n",
       "      <td>0.000000</td>\n",
       "    </tr>\n",
       "    <tr>\n",
       "      <th>25%</th>\n",
       "      <td>19.000000</td>\n",
       "      <td>1178.490000</td>\n",
       "      <td>3.000000</td>\n",
       "      <td>1.000000</td>\n",
       "      <td>1.000000</td>\n",
       "      <td>1.000000</td>\n",
       "      <td>1.000000</td>\n",
       "      <td>1.000000</td>\n",
       "      <td>1.000000</td>\n",
       "      <td>1.000000</td>\n",
       "      <td>3.000000</td>\n",
       "      <td>6.000000</td>\n",
       "    </tr>\n",
       "    <tr>\n",
       "      <th>50%</th>\n",
       "      <td>20.000000</td>\n",
       "      <td>1907.980000</td>\n",
       "      <td>4.000000</td>\n",
       "      <td>2.000000</td>\n",
       "      <td>1.000000</td>\n",
       "      <td>1.000000</td>\n",
       "      <td>1.000000</td>\n",
       "      <td>1.000000</td>\n",
       "      <td>1.000000</td>\n",
       "      <td>1.000000</td>\n",
       "      <td>7.000000</td>\n",
       "      <td>7.000000</td>\n",
       "    </tr>\n",
       "    <tr>\n",
       "      <th>75%</th>\n",
       "      <td>20.000000</td>\n",
       "      <td>2685.280000</td>\n",
       "      <td>4.000000</td>\n",
       "      <td>2.000000</td>\n",
       "      <td>2.000000</td>\n",
       "      <td>2.000000</td>\n",
       "      <td>2.000000</td>\n",
       "      <td>2.000000</td>\n",
       "      <td>2.000000</td>\n",
       "      <td>2.000000</td>\n",
       "      <td>9.000000</td>\n",
       "      <td>12.000000</td>\n",
       "    </tr>\n",
       "    <tr>\n",
       "      <th>max</th>\n",
       "      <td>50.000000</td>\n",
       "      <td>21470.140000</td>\n",
       "      <td>5.000000</td>\n",
       "      <td>3.000000</td>\n",
       "      <td>3.000000</td>\n",
       "      <td>3.000000</td>\n",
       "      <td>3.000000</td>\n",
       "      <td>3.000000</td>\n",
       "      <td>3.000000</td>\n",
       "      <td>3.000000</td>\n",
       "      <td>10.000000</td>\n",
       "      <td>18.000000</td>\n",
       "    </tr>\n",
       "  </tbody>\n",
       "</table>\n",
       "</div>"
      ],
      "text/plain": [
       "            idade         renda   ano_curso       gad-1       gad-2  \\\n",
       "count  495.000000    495.000000  495.000000  495.000000  495.000000   \n",
       "mean    21.040404   2426.037596    3.614141    1.480808    1.454545   \n",
       "std      4.527735   2284.473237    0.974680    0.592749    0.631057   \n",
       "min     19.000000     87.000000    1.000000    0.000000    0.000000   \n",
       "25%     19.000000   1178.490000    3.000000    1.000000    1.000000   \n",
       "50%     20.000000   1907.980000    4.000000    2.000000    1.000000   \n",
       "75%     20.000000   2685.280000    4.000000    2.000000    2.000000   \n",
       "max     50.000000  21470.140000    5.000000    3.000000    3.000000   \n",
       "\n",
       "            gad-3       gad-4       gad-5       gad-6       gad-7   motivação  \\\n",
       "count  495.000000  495.000000  495.000000  495.000000  495.000000  495.000000   \n",
       "mean     1.329293    1.212121    1.254545    1.278788    1.272727    6.012121   \n",
       "std      0.549798    0.563260    0.583038    0.585809    0.600576    3.151995   \n",
       "min      0.000000    0.000000    0.000000    0.000000    0.000000    0.000000   \n",
       "25%      1.000000    1.000000    1.000000    1.000000    1.000000    3.000000   \n",
       "50%      1.000000    1.000000    1.000000    1.000000    1.000000    7.000000   \n",
       "75%      2.000000    2.000000    2.000000    2.000000    2.000000    9.000000   \n",
       "max      3.000000    3.000000    3.000000    3.000000    3.000000   10.000000   \n",
       "\n",
       "       total score  \n",
       "count   495.000000  \n",
       "mean      8.010101  \n",
       "std       3.128474  \n",
       "min       0.000000  \n",
       "25%       6.000000  \n",
       "50%       7.000000  \n",
       "75%      12.000000  \n",
       "max      18.000000  "
      ]
     },
     "execution_count": 73,
     "metadata": {},
     "output_type": "execute_result"
    }
   ],
   "source": [
    "df.describe()"
   ]
  },
  {
   "attachments": {},
   "cell_type": "markdown",
   "id": "db5868a1",
   "metadata": {},
   "source": [
    "## Média dos valores após remoção dos outliers:\n",
    "* Idade: 21\n",
    "* Renda: R$ 2426\n",
    "* Motivação: 6\n",
    "* Score total do GAD-7: 8"
   ]
  },
  {
   "attachments": {},
   "cell_type": "markdown",
   "id": "ff80cf5b",
   "metadata": {},
   "source": [
    "# Divisão por faixas salarias de acordo com o IBGE"
   ]
  },
  {
   "cell_type": "code",
   "execution_count": 74,
   "id": "ddfa983f",
   "metadata": {},
   "outputs": [
    {
     "name": "stderr",
     "output_type": "stream",
     "text": [
      "C:\\Users\\fabri\\AppData\\Local\\Temp\\ipykernel_2528\\476106331.py:13: SettingWithCopyWarning:\n",
      "\n",
      "\n",
      "A value is trying to be set on a copy of a slice from a DataFrame.\n",
      "Try using .loc[row_indexer,col_indexer] = value instead\n",
      "\n",
      "See the caveats in the documentation: https://pandas.pydata.org/pandas-docs/stable/user_guide/indexing.html#returning-a-view-versus-a-copy\n",
      "\n"
     ]
    }
   ],
   "source": [
    "sal_min = 1302\n",
    "def classes(renda):\n",
    "    if renda <= sal_min:\n",
    "        return \"E\"\n",
    "    elif renda <= (2*sal_min):\n",
    "        return \"D\"\n",
    "    elif renda <= (3*sal_min):\n",
    "        return \"C\"\n",
    "    elif renda <= (5*sal_min):\n",
    "        return \"B\"\n",
    "    elif renda >= (5*sal_min):\n",
    "        return \"A\"\n",
    "df['classe'] = df['renda'].apply(classes)"
   ]
  },
  {
   "cell_type": "code",
   "execution_count": 75,
   "id": "a232985c",
   "metadata": {},
   "outputs": [
    {
     "data": {
      "image/png": "[encoded data removed]",
      "text/plain": [
       "<Figure size 1440x720 with 1 Axes>"
      ]
     },
     "metadata": {},
     "output_type": "display_data"
    }
   ],
   "source": [
    "graph1 = sns.barplot(data=df, x=\"classe\", y=\"total score\")\n",
    "sns.set(rc={'figure.figsize':(20,10)})\n",
    "plt.xlabel(\"Classes sociais\")\n",
    "plt.ylabel(\"Score do GAD-7\")\n",
    "plt.title(\"Gráfico das faixas de renda por score do GAD-7\")\n",
    "plt.show()"
   ]
  },
  {
   "cell_type": "code",
   "execution_count": 76,
   "id": "ceb1fb06",
   "metadata": {},
   "outputs": [
    {
     "data": {
      "image/png": "[encoded data removed]",
      "text/plain": [
       "<Figure size 1440x720 with 1 Axes>"
      ]
     },
     "metadata": {},
     "output_type": "display_data"
    }
   ],
   "source": [
    "graph2 = sns.barplot(data=df, x=\"idade\", y=\"total score\")\n",
    "sns.set(rc={'figure.figsize':(20,10)})\n",
    "plt.xlabel(\"Idade\")\n",
    "plt.ylabel(\"Score do GAD-7\")\n",
    "plt.title(\"Gráfico da idade por score do GAD-7\")\n",
    "plt.show()"
   ]
  },
  {
   "cell_type": "code",
   "execution_count": 77,
   "id": "32e8036c",
   "metadata": {},
   "outputs": [
    {
     "data": {
      "image/png": "[encoded data removed]",
      "text/plain": [
       "<Figure size 1080x720 with 1 Axes>"
      ]
     },
     "metadata": {},
     "output_type": "display_data"
    }
   ],
   "source": [
    "sns.set_style(\"whitegrid\") \n",
    "plt.figure(figsize=(15, 10))\n",
    "sns.boxplot(data=df, x=\"total score\", y=\"motivação\")\n",
    "plt.title('Score do GAD-7 por motivação')\n",
    "plt.xlabel('Score do GAD-7')\n",
    "plt.ylabel('Motivação')\n",
    "plt.show()"
   ]
  },
  {
   "cell_type": "code",
   "execution_count": 78,
   "id": "62e97a23",
   "metadata": {},
   "outputs": [
    {
     "name": "stderr",
     "output_type": "stream",
     "text": [
      "c:\\Users\\fabri\\anaconda3\\lib\\site-packages\\seaborn\\distributions.py:1210: UserWarning:\n",
      "\n",
      "The following kwargs were not used by contour: 'linewidth'\n",
      "\n"
     ]
    },
    {
     "data": {
      "image/png": "[encoded data removed]",
      "text/plain": [
       "<Figure size 1440x720 with 1 Axes>"
      ]
     },
     "metadata": {},
     "output_type": "display_data"
    }
   ],
   "source": [
    "sns.set_style(\"whitegrid\")\n",
    "\n",
    "sns.kdeplot(data=df, x=\"idade\", y=\"renda\", fill=True, shade=True, alpha=1, linewidth=0)\n",
    "plt.title(\"Relação de idade com a renda\")\n",
    "plt.xlabel(\"Idade\")\n",
    "plt.ylabel(\"Renda\")\n",
    "plt.show()"
   ]
  },
  {
   "cell_type": "code",
   "execution_count": 79,
   "id": "1ddfd07d",
   "metadata": {},
   "outputs": [
    {
     "name": "stderr",
     "output_type": "stream",
     "text": [
      "c:\\Users\\fabri\\anaconda3\\lib\\site-packages\\seaborn\\distributions.py:1210: UserWarning:\n",
      "\n",
      "The following kwargs were not used by contour: 'linewidth'\n",
      "\n"
     ]
    },
    {
     "data": {
      "image/png": "[encoded data removed]",
      "text/plain": [
       "<Figure size 1440x720 with 1 Axes>"
      ]
     },
     "metadata": {},
     "output_type": "display_data"
    }
   ],
   "source": [
    "sns.set_style(\"whitegrid\")\n",
    "\n",
    "sns.kdeplot(data=df, x=\"ano_curso\", y=\"motivação\", hue=\"classe\", fill=True, common_norm=True, alpha=.6, linewidth=0)\n",
    "\n",
    "plt.title(\"Ano do curso por motivação, com classe representada pela densidade\")\n",
    "plt.xlabel(\"Ano do curso\")\n",
    "plt.ylabel(\"Motivação\")\n",
    "plt.show()"
   ]
  },
  {
   "attachments": {},
   "cell_type": "markdown",
   "id": "807237ab",
   "metadata": {},
   "source": [
    "## Análise dos gráficos:\n",
    "\n",
    "### Conclusões:\n",
    "* A renda é diretamente proporcional ao GAD-7, porque conforme a renda aumenta o GAD-7. Indo em contrapartida do raciocínio de que quanto maior a renda, menor o GAD-7. \n",
    "* A motivação é inversamente proporcional ao score do GAD-7.\n",
    "* GAD-7 tem uma relação bem definida até os 25 anos. Porém, não tem uma relação bem definida com o renda a partir dos 25 anos, depois ele estabiliza. \n",
    "* O ano do curso tem relação com a motivação, que por consequência influencia no GAD-7."
   ]
  },
  {
   "cell_type": "code",
   "execution_count": 80,
   "id": "13ab3b4c",
   "metadata": {
    "collapsed": false
   },
   "outputs": [
    {
     "data": {
      "text/html": [
       "<div>\n",
       "<style scoped>\n",
       "    .dataframe tbody tr th:only-of-type {\n",
       "        vertical-align: middle;\n",
       "    }\n",
       "\n",
       "    .dataframe tbody tr th {\n",
       "        vertical-align: top;\n",
       "    }\n",
       "\n",
       "    .dataframe thead th {\n",
       "        text-align: right;\n",
       "    }\n",
       "</style>\n",
       "<table border=\"1\" class=\"dataframe\">\n",
       "  <thead>\n",
       "    <tr style=\"text-align: right;\">\n",
       "      <th></th>\n",
       "      <th>idade</th>\n",
       "      <th>renda</th>\n",
       "      <th>ano_curso</th>\n",
       "      <th>gad-1</th>\n",
       "      <th>gad-2</th>\n",
       "      <th>gad-3</th>\n",
       "      <th>gad-4</th>\n",
       "      <th>gad-5</th>\n",
       "      <th>gad-6</th>\n",
       "      <th>gad-7</th>\n",
       "      <th>motivação</th>\n",
       "      <th>total score</th>\n",
       "      <th>classe</th>\n",
       "    </tr>\n",
       "  </thead>\n",
       "  <tbody>\n",
       "    <tr>\n",
       "      <th>0</th>\n",
       "      <td>19</td>\n",
       "      <td>418.00</td>\n",
       "      <td>3</td>\n",
       "      <td>1</td>\n",
       "      <td>1</td>\n",
       "      <td>1</td>\n",
       "      <td>1</td>\n",
       "      <td>1</td>\n",
       "      <td>1</td>\n",
       "      <td>1</td>\n",
       "      <td>9</td>\n",
       "      <td>6</td>\n",
       "      <td>E</td>\n",
       "    </tr>\n",
       "    <tr>\n",
       "      <th>1</th>\n",
       "      <td>19</td>\n",
       "      <td>279.00</td>\n",
       "      <td>3</td>\n",
       "      <td>0</td>\n",
       "      <td>1</td>\n",
       "      <td>1</td>\n",
       "      <td>1</td>\n",
       "      <td>1</td>\n",
       "      <td>1</td>\n",
       "      <td>1</td>\n",
       "      <td>10</td>\n",
       "      <td>5</td>\n",
       "      <td>E</td>\n",
       "    </tr>\n",
       "    <tr>\n",
       "      <th>2</th>\n",
       "      <td>19</td>\n",
       "      <td>87.00</td>\n",
       "      <td>3</td>\n",
       "      <td>1</td>\n",
       "      <td>0</td>\n",
       "      <td>1</td>\n",
       "      <td>1</td>\n",
       "      <td>1</td>\n",
       "      <td>1</td>\n",
       "      <td>1</td>\n",
       "      <td>10</td>\n",
       "      <td>5</td>\n",
       "      <td>E</td>\n",
       "    </tr>\n",
       "    <tr>\n",
       "      <th>3</th>\n",
       "      <td>19</td>\n",
       "      <td>243.00</td>\n",
       "      <td>3</td>\n",
       "      <td>1</td>\n",
       "      <td>1</td>\n",
       "      <td>1</td>\n",
       "      <td>1</td>\n",
       "      <td>1</td>\n",
       "      <td>1</td>\n",
       "      <td>1</td>\n",
       "      <td>9</td>\n",
       "      <td>6</td>\n",
       "      <td>E</td>\n",
       "    </tr>\n",
       "    <tr>\n",
       "      <th>4</th>\n",
       "      <td>19</td>\n",
       "      <td>348.00</td>\n",
       "      <td>3</td>\n",
       "      <td>1</td>\n",
       "      <td>1</td>\n",
       "      <td>1</td>\n",
       "      <td>1</td>\n",
       "      <td>1</td>\n",
       "      <td>1</td>\n",
       "      <td>1</td>\n",
       "      <td>9</td>\n",
       "      <td>6</td>\n",
       "      <td>E</td>\n",
       "    </tr>\n",
       "    <tr>\n",
       "      <th>...</th>\n",
       "      <td>...</td>\n",
       "      <td>...</td>\n",
       "      <td>...</td>\n",
       "      <td>...</td>\n",
       "      <td>...</td>\n",
       "      <td>...</td>\n",
       "      <td>...</td>\n",
       "      <td>...</td>\n",
       "      <td>...</td>\n",
       "      <td>...</td>\n",
       "      <td>...</td>\n",
       "      <td>...</td>\n",
       "      <td>...</td>\n",
       "    </tr>\n",
       "    <tr>\n",
       "      <th>490</th>\n",
       "      <td>34</td>\n",
       "      <td>10457.14</td>\n",
       "      <td>4</td>\n",
       "      <td>2</td>\n",
       "      <td>2</td>\n",
       "      <td>2</td>\n",
       "      <td>2</td>\n",
       "      <td>2</td>\n",
       "      <td>2</td>\n",
       "      <td>2</td>\n",
       "      <td>0</td>\n",
       "      <td>12</td>\n",
       "      <td>A</td>\n",
       "    </tr>\n",
       "    <tr>\n",
       "      <th>491</th>\n",
       "      <td>29</td>\n",
       "      <td>17336.61</td>\n",
       "      <td>5</td>\n",
       "      <td>2</td>\n",
       "      <td>2</td>\n",
       "      <td>2</td>\n",
       "      <td>2</td>\n",
       "      <td>2</td>\n",
       "      <td>2</td>\n",
       "      <td>2</td>\n",
       "      <td>1</td>\n",
       "      <td>12</td>\n",
       "      <td>A</td>\n",
       "    </tr>\n",
       "    <tr>\n",
       "      <th>492</th>\n",
       "      <td>33</td>\n",
       "      <td>20678.88</td>\n",
       "      <td>1</td>\n",
       "      <td>2</td>\n",
       "      <td>2</td>\n",
       "      <td>2</td>\n",
       "      <td>2</td>\n",
       "      <td>2</td>\n",
       "      <td>2</td>\n",
       "      <td>1</td>\n",
       "      <td>0</td>\n",
       "      <td>12</td>\n",
       "      <td>A</td>\n",
       "    </tr>\n",
       "    <tr>\n",
       "      <th>493</th>\n",
       "      <td>48</td>\n",
       "      <td>16439.16</td>\n",
       "      <td>2</td>\n",
       "      <td>2</td>\n",
       "      <td>2</td>\n",
       "      <td>2</td>\n",
       "      <td>2</td>\n",
       "      <td>2</td>\n",
       "      <td>2</td>\n",
       "      <td>1</td>\n",
       "      <td>0</td>\n",
       "      <td>12</td>\n",
       "      <td>A</td>\n",
       "    </tr>\n",
       "    <tr>\n",
       "      <th>494</th>\n",
       "      <td>29</td>\n",
       "      <td>21470.14</td>\n",
       "      <td>4</td>\n",
       "      <td>2</td>\n",
       "      <td>2</td>\n",
       "      <td>2</td>\n",
       "      <td>2</td>\n",
       "      <td>2</td>\n",
       "      <td>2</td>\n",
       "      <td>2</td>\n",
       "      <td>0</td>\n",
       "      <td>12</td>\n",
       "      <td>A</td>\n",
       "    </tr>\n",
       "  </tbody>\n",
       "</table>\n",
       "<p>495 rows × 13 columns</p>\n",
       "</div>"
      ],
      "text/plain": [
       "     idade     renda  ano_curso  gad-1  gad-2  gad-3  gad-4  gad-5  gad-6  \\\n",
       "0       19    418.00          3      1      1      1      1      1      1   \n",
       "1       19    279.00          3      0      1      1      1      1      1   \n",
       "2       19     87.00          3      1      0      1      1      1      1   \n",
       "3       19    243.00          3      1      1      1      1      1      1   \n",
       "4       19    348.00          3      1      1      1      1      1      1   \n",
       "..     ...       ...        ...    ...    ...    ...    ...    ...    ...   \n",
       "490     34  10457.14          4      2      2      2      2      2      2   \n",
       "491     29  17336.61          5      2      2      2      2      2      2   \n",
       "492     33  20678.88          1      2      2      2      2      2      2   \n",
       "493     48  16439.16          2      2      2      2      2      2      2   \n",
       "494     29  21470.14          4      2      2      2      2      2      2   \n",
       "\n",
       "     gad-7  motivação  total score classe  \n",
       "0        1          9            6      E  \n",
       "1        1         10            5      E  \n",
       "2        1         10            5      E  \n",
       "3        1          9            6      E  \n",
       "4        1          9            6      E  \n",
       "..     ...        ...          ...    ...  \n",
       "490      2          0           12      A  \n",
       "491      2          1           12      A  \n",
       "492      1          0           12      A  \n",
       "493      1          0           12      A  \n",
       "494      2          0           12      A  \n",
       "\n",
       "[495 rows x 13 columns]"
      ]
     },
     "execution_count": 80,
     "metadata": {},
     "output_type": "execute_result"
    }
   ],
   "source": [
    "df"
   ]
  },
  {
   "cell_type": "code",
   "execution_count": 81,
   "metadata": {
    "collapsed": false
   },
   "outputs": [
    {
     "data": {
      "text/plain": [
       "50"
      ]
     },
     "execution_count": 81,
     "metadata": {},
     "output_type": "execute_result"
    }
   ],
   "source": [
    "max(df.idade)"
   ]
  },
  {
   "cell_type": "code",
   "execution_count": 82,
   "metadata": {
    "collapsed": false
   },
   "outputs": [
    {
     "name": "stderr",
     "output_type": "stream",
     "text": [
      "C:\\Users\\fabri\\AppData\\Local\\Temp\\ipykernel_2528\\209678642.py:1: SettingWithCopyWarning:\n",
      "\n",
      "\n",
      "A value is trying to be set on a copy of a slice from a DataFrame.\n",
      "Try using .loc[row_indexer,col_indexer] = value instead\n",
      "\n",
      "See the caveats in the documentation: https://pandas.pydata.org/pandas-docs/stable/user_guide/indexing.html#returning-a-view-versus-a-copy\n",
      "\n"
     ]
    }
   ],
   "source": [
    "df['classe'] = df['renda'].apply(classes)"
   ]
  },
  {
   "cell_type": "code",
   "execution_count": 83,
   "metadata": {
    "collapsed": false
   },
   "outputs": [
    {
     "data": {
      "text/html": [
       "<div>\n",
       "<style scoped>\n",
       "    .dataframe tbody tr th:only-of-type {\n",
       "        vertical-align: middle;\n",
       "    }\n",
       "\n",
       "    .dataframe tbody tr th {\n",
       "        vertical-align: top;\n",
       "    }\n",
       "\n",
       "    .dataframe thead th {\n",
       "        text-align: right;\n",
       "    }\n",
       "</style>\n",
       "<table border=\"1\" class=\"dataframe\">\n",
       "  <thead>\n",
       "    <tr style=\"text-align: right;\">\n",
       "      <th></th>\n",
       "      <th>idade</th>\n",
       "      <th>renda</th>\n",
       "      <th>ano_curso</th>\n",
       "      <th>gad-1</th>\n",
       "      <th>gad-2</th>\n",
       "      <th>gad-3</th>\n",
       "      <th>gad-4</th>\n",
       "      <th>gad-5</th>\n",
       "      <th>gad-6</th>\n",
       "      <th>gad-7</th>\n",
       "      <th>motivação</th>\n",
       "      <th>total score</th>\n",
       "      <th>classe</th>\n",
       "    </tr>\n",
       "  </thead>\n",
       "  <tbody>\n",
       "    <tr>\n",
       "      <th>0</th>\n",
       "      <td>19</td>\n",
       "      <td>418.00</td>\n",
       "      <td>3</td>\n",
       "      <td>1</td>\n",
       "      <td>1</td>\n",
       "      <td>1</td>\n",
       "      <td>1</td>\n",
       "      <td>1</td>\n",
       "      <td>1</td>\n",
       "      <td>1</td>\n",
       "      <td>9</td>\n",
       "      <td>6</td>\n",
       "      <td>E</td>\n",
       "    </tr>\n",
       "    <tr>\n",
       "      <th>1</th>\n",
       "      <td>19</td>\n",
       "      <td>279.00</td>\n",
       "      <td>3</td>\n",
       "      <td>0</td>\n",
       "      <td>1</td>\n",
       "      <td>1</td>\n",
       "      <td>1</td>\n",
       "      <td>1</td>\n",
       "      <td>1</td>\n",
       "      <td>1</td>\n",
       "      <td>10</td>\n",
       "      <td>5</td>\n",
       "      <td>E</td>\n",
       "    </tr>\n",
       "    <tr>\n",
       "      <th>2</th>\n",
       "      <td>19</td>\n",
       "      <td>87.00</td>\n",
       "      <td>3</td>\n",
       "      <td>1</td>\n",
       "      <td>0</td>\n",
       "      <td>1</td>\n",
       "      <td>1</td>\n",
       "      <td>1</td>\n",
       "      <td>1</td>\n",
       "      <td>1</td>\n",
       "      <td>10</td>\n",
       "      <td>5</td>\n",
       "      <td>E</td>\n",
       "    </tr>\n",
       "    <tr>\n",
       "      <th>3</th>\n",
       "      <td>19</td>\n",
       "      <td>243.00</td>\n",
       "      <td>3</td>\n",
       "      <td>1</td>\n",
       "      <td>1</td>\n",
       "      <td>1</td>\n",
       "      <td>1</td>\n",
       "      <td>1</td>\n",
       "      <td>1</td>\n",
       "      <td>1</td>\n",
       "      <td>9</td>\n",
       "      <td>6</td>\n",
       "      <td>E</td>\n",
       "    </tr>\n",
       "    <tr>\n",
       "      <th>4</th>\n",
       "      <td>19</td>\n",
       "      <td>348.00</td>\n",
       "      <td>3</td>\n",
       "      <td>1</td>\n",
       "      <td>1</td>\n",
       "      <td>1</td>\n",
       "      <td>1</td>\n",
       "      <td>1</td>\n",
       "      <td>1</td>\n",
       "      <td>1</td>\n",
       "      <td>9</td>\n",
       "      <td>6</td>\n",
       "      <td>E</td>\n",
       "    </tr>\n",
       "    <tr>\n",
       "      <th>...</th>\n",
       "      <td>...</td>\n",
       "      <td>...</td>\n",
       "      <td>...</td>\n",
       "      <td>...</td>\n",
       "      <td>...</td>\n",
       "      <td>...</td>\n",
       "      <td>...</td>\n",
       "      <td>...</td>\n",
       "      <td>...</td>\n",
       "      <td>...</td>\n",
       "      <td>...</td>\n",
       "      <td>...</td>\n",
       "      <td>...</td>\n",
       "    </tr>\n",
       "    <tr>\n",
       "      <th>490</th>\n",
       "      <td>34</td>\n",
       "      <td>10457.14</td>\n",
       "      <td>4</td>\n",
       "      <td>2</td>\n",
       "      <td>2</td>\n",
       "      <td>2</td>\n",
       "      <td>2</td>\n",
       "      <td>2</td>\n",
       "      <td>2</td>\n",
       "      <td>2</td>\n",
       "      <td>0</td>\n",
       "      <td>12</td>\n",
       "      <td>A</td>\n",
       "    </tr>\n",
       "    <tr>\n",
       "      <th>491</th>\n",
       "      <td>29</td>\n",
       "      <td>17336.61</td>\n",
       "      <td>5</td>\n",
       "      <td>2</td>\n",
       "      <td>2</td>\n",
       "      <td>2</td>\n",
       "      <td>2</td>\n",
       "      <td>2</td>\n",
       "      <td>2</td>\n",
       "      <td>2</td>\n",
       "      <td>1</td>\n",
       "      <td>12</td>\n",
       "      <td>A</td>\n",
       "    </tr>\n",
       "    <tr>\n",
       "      <th>492</th>\n",
       "      <td>33</td>\n",
       "      <td>20678.88</td>\n",
       "      <td>1</td>\n",
       "      <td>2</td>\n",
       "      <td>2</td>\n",
       "      <td>2</td>\n",
       "      <td>2</td>\n",
       "      <td>2</td>\n",
       "      <td>2</td>\n",
       "      <td>1</td>\n",
       "      <td>0</td>\n",
       "      <td>12</td>\n",
       "      <td>A</td>\n",
       "    </tr>\n",
       "    <tr>\n",
       "      <th>493</th>\n",
       "      <td>48</td>\n",
       "      <td>16439.16</td>\n",
       "      <td>2</td>\n",
       "      <td>2</td>\n",
       "      <td>2</td>\n",
       "      <td>2</td>\n",
       "      <td>2</td>\n",
       "      <td>2</td>\n",
       "      <td>2</td>\n",
       "      <td>1</td>\n",
       "      <td>0</td>\n",
       "      <td>12</td>\n",
       "      <td>A</td>\n",
       "    </tr>\n",
       "    <tr>\n",
       "      <th>494</th>\n",
       "      <td>29</td>\n",
       "      <td>21470.14</td>\n",
       "      <td>4</td>\n",
       "      <td>2</td>\n",
       "      <td>2</td>\n",
       "      <td>2</td>\n",
       "      <td>2</td>\n",
       "      <td>2</td>\n",
       "      <td>2</td>\n",
       "      <td>2</td>\n",
       "      <td>0</td>\n",
       "      <td>12</td>\n",
       "      <td>A</td>\n",
       "    </tr>\n",
       "  </tbody>\n",
       "</table>\n",
       "<p>495 rows × 13 columns</p>\n",
       "</div>"
      ],
      "text/plain": [
       "     idade     renda  ano_curso  gad-1  gad-2  gad-3  gad-4  gad-5  gad-6  \\\n",
       "0       19    418.00          3      1      1      1      1      1      1   \n",
       "1       19    279.00          3      0      1      1      1      1      1   \n",
       "2       19     87.00          3      1      0      1      1      1      1   \n",
       "3       19    243.00          3      1      1      1      1      1      1   \n",
       "4       19    348.00          3      1      1      1      1      1      1   \n",
       "..     ...       ...        ...    ...    ...    ...    ...    ...    ...   \n",
       "490     34  10457.14          4      2      2      2      2      2      2   \n",
       "491     29  17336.61          5      2      2      2      2      2      2   \n",
       "492     33  20678.88          1      2      2      2      2      2      2   \n",
       "493     48  16439.16          2      2      2      2      2      2      2   \n",
       "494     29  21470.14          4      2      2      2      2      2      2   \n",
       "\n",
       "     gad-7  motivação  total score classe  \n",
       "0        1          9            6      E  \n",
       "1        1         10            5      E  \n",
       "2        1         10            5      E  \n",
       "3        1          9            6      E  \n",
       "4        1          9            6      E  \n",
       "..     ...        ...          ...    ...  \n",
       "490      2          0           12      A  \n",
       "491      2          1           12      A  \n",
       "492      1          0           12      A  \n",
       "493      1          0           12      A  \n",
       "494      2          0           12      A  \n",
       "\n",
       "[495 rows x 13 columns]"
      ]
     },
     "execution_count": 83,
     "metadata": {},
     "output_type": "execute_result"
    }
   ],
   "source": [
    "df"
   ]
  },
  {
   "cell_type": "code",
   "execution_count": 84,
   "metadata": {
    "collapsed": false
   },
   "outputs": [
    {
     "data": {
      "text/html": [
       "<div>\n",
       "<style scoped>\n",
       "    .dataframe tbody tr th:only-of-type {\n",
       "        vertical-align: middle;\n",
       "    }\n",
       "\n",
       "    .dataframe tbody tr th {\n",
       "        vertical-align: top;\n",
       "    }\n",
       "\n",
       "    .dataframe thead th {\n",
       "        text-align: right;\n",
       "    }\n",
       "</style>\n",
       "<table border=\"1\" class=\"dataframe\">\n",
       "  <thead>\n",
       "    <tr style=\"text-align: right;\">\n",
       "      <th></th>\n",
       "      <th>matrícula</th>\n",
       "      <th>nome</th>\n",
       "      <th>idade</th>\n",
       "      <th>renda</th>\n",
       "      <th>cor</th>\n",
       "      <th>sexo</th>\n",
       "      <th>ano_curso</th>\n",
       "      <th>escola</th>\n",
       "      <th>cod_curso</th>\n",
       "      <th>logradouro</th>\n",
       "      <th>...</th>\n",
       "      <th>uf</th>\n",
       "      <th>cep</th>\n",
       "      <th>gad-1</th>\n",
       "      <th>gad-2</th>\n",
       "      <th>gad-3</th>\n",
       "      <th>gad-4</th>\n",
       "      <th>gad-5</th>\n",
       "      <th>gad-6</th>\n",
       "      <th>gad-7</th>\n",
       "      <th>motivação</th>\n",
       "    </tr>\n",
       "  </thead>\n",
       "  <tbody>\n",
       "    <tr>\n",
       "      <th>0</th>\n",
       "      <td>RA55000001</td>\n",
       "      <td>Osane Inácio Pinhal Ouro</td>\n",
       "      <td>19</td>\n",
       "      <td>418.0</td>\n",
       "      <td>1</td>\n",
       "      <td>2</td>\n",
       "      <td>3</td>\n",
       "      <td>1</td>\n",
       "      <td>5</td>\n",
       "      <td>Viela Vinte e Sete de Setembro</td>\n",
       "      <td>...</td>\n",
       "      <td>SP</td>\n",
       "      <td>04235-090</td>\n",
       "      <td>1</td>\n",
       "      <td>1</td>\n",
       "      <td>1</td>\n",
       "      <td>1</td>\n",
       "      <td>1</td>\n",
       "      <td>1</td>\n",
       "      <td>1</td>\n",
       "      <td>9</td>\n",
       "    </tr>\n",
       "    <tr>\n",
       "      <th>1</th>\n",
       "      <td>RA55000002</td>\n",
       "      <td>Zezita Olivares Ferro Telinhos</td>\n",
       "      <td>19</td>\n",
       "      <td>279.0</td>\n",
       "      <td>1</td>\n",
       "      <td>2</td>\n",
       "      <td>3</td>\n",
       "      <td>1</td>\n",
       "      <td>2</td>\n",
       "      <td>Rua Marechal Marques Porto</td>\n",
       "      <td>...</td>\n",
       "      <td>SP</td>\n",
       "      <td>03906-020</td>\n",
       "      <td>0</td>\n",
       "      <td>1</td>\n",
       "      <td>1</td>\n",
       "      <td>1</td>\n",
       "      <td>1</td>\n",
       "      <td>1</td>\n",
       "      <td>1</td>\n",
       "      <td>10</td>\n",
       "    </tr>\n",
       "    <tr>\n",
       "      <th>2</th>\n",
       "      <td>RA55000003</td>\n",
       "      <td>Orleis Bilhalva Pereira Moita</td>\n",
       "      <td>19</td>\n",
       "      <td>87.0</td>\n",
       "      <td>1</td>\n",
       "      <td>1</td>\n",
       "      <td>3</td>\n",
       "      <td>1</td>\n",
       "      <td>9</td>\n",
       "      <td>Rua Vinte de Março</td>\n",
       "      <td>...</td>\n",
       "      <td>SP</td>\n",
       "      <td>02326-115</td>\n",
       "      <td>1</td>\n",
       "      <td>0</td>\n",
       "      <td>1</td>\n",
       "      <td>1</td>\n",
       "      <td>1</td>\n",
       "      <td>1</td>\n",
       "      <td>1</td>\n",
       "      <td>10</td>\n",
       "    </tr>\n",
       "    <tr>\n",
       "      <th>3</th>\n",
       "      <td>RA55000004</td>\n",
       "      <td>Kaiuan Félix</td>\n",
       "      <td>19</td>\n",
       "      <td>243.0</td>\n",
       "      <td>1</td>\n",
       "      <td>1</td>\n",
       "      <td>3</td>\n",
       "      <td>1</td>\n",
       "      <td>9</td>\n",
       "      <td>Rua João Pires</td>\n",
       "      <td>...</td>\n",
       "      <td>SP</td>\n",
       "      <td>03168-060</td>\n",
       "      <td>1</td>\n",
       "      <td>1</td>\n",
       "      <td>1</td>\n",
       "      <td>1</td>\n",
       "      <td>1</td>\n",
       "      <td>1</td>\n",
       "      <td>1</td>\n",
       "      <td>9</td>\n",
       "    </tr>\n",
       "    <tr>\n",
       "      <th>4</th>\n",
       "      <td>RA55000005</td>\n",
       "      <td>Geovan Quaresma Lameirinhas</td>\n",
       "      <td>19</td>\n",
       "      <td>348.0</td>\n",
       "      <td>1</td>\n",
       "      <td>1</td>\n",
       "      <td>3</td>\n",
       "      <td>1</td>\n",
       "      <td>6</td>\n",
       "      <td>Rua São João</td>\n",
       "      <td>...</td>\n",
       "      <td>SP</td>\n",
       "      <td>02920-050</td>\n",
       "      <td>1</td>\n",
       "      <td>1</td>\n",
       "      <td>1</td>\n",
       "      <td>1</td>\n",
       "      <td>1</td>\n",
       "      <td>1</td>\n",
       "      <td>1</td>\n",
       "      <td>9</td>\n",
       "    </tr>\n",
       "  </tbody>\n",
       "</table>\n",
       "<p>5 rows × 23 columns</p>\n",
       "</div>"
      ],
      "text/plain": [
       "    matrícula                            nome  idade  renda  cor  sexo  \\\n",
       "0  RA55000001        Osane Inácio Pinhal Ouro     19  418.0    1     2   \n",
       "1  RA55000002  Zezita Olivares Ferro Telinhos     19  279.0    1     2   \n",
       "2  RA55000003   Orleis Bilhalva Pereira Moita     19   87.0    1     1   \n",
       "3  RA55000004                    Kaiuan Félix     19  243.0    1     1   \n",
       "4  RA55000005     Geovan Quaresma Lameirinhas     19  348.0    1     1   \n",
       "\n",
       "   ano_curso  escola  cod_curso                      logradouro  ...  uf  \\\n",
       "0          3       1          5  Viela Vinte e Sete de Setembro  ...  SP   \n",
       "1          3       1          2      Rua Marechal Marques Porto  ...  SP   \n",
       "2          3       1          9              Rua Vinte de Março  ...  SP   \n",
       "3          3       1          9                  Rua João Pires  ...  SP   \n",
       "4          3       1          6                    Rua São João  ...  SP   \n",
       "\n",
       "         cep gad-1 gad-2 gad-3  gad-4  gad-5  gad-6  gad-7  motivação  \n",
       "0  04235-090     1     1     1      1      1      1      1          9  \n",
       "1  03906-020     0     1     1      1      1      1      1         10  \n",
       "2  02326-115     1     0     1      1      1      1      1         10  \n",
       "3  03168-060     1     1     1      1      1      1      1          9  \n",
       "4  02920-050     1     1     1      1      1      1      1          9  \n",
       "\n",
       "[5 rows x 23 columns]"
      ]
     },
     "execution_count": 84,
     "metadata": {},
     "output_type": "execute_result"
    }
   ],
   "source": [
    "main = pd.read_csv(\"dataset.tsv\", sep = \"\\t\")\n",
    "main.head()"
   ]
  },
  {
   "cell_type": "code",
   "execution_count": 85,
   "metadata": {
    "collapsed": false
   },
   "outputs": [
    {
     "data": {
      "text/html": [
       "<div>\n",
       "<style scoped>\n",
       "    .dataframe tbody tr th:only-of-type {\n",
       "        vertical-align: middle;\n",
       "    }\n",
       "\n",
       "    .dataframe tbody tr th {\n",
       "        vertical-align: top;\n",
       "    }\n",
       "\n",
       "    .dataframe thead th {\n",
       "        text-align: right;\n",
       "    }\n",
       "</style>\n",
       "<table border=\"1\" class=\"dataframe\">\n",
       "  <thead>\n",
       "    <tr style=\"text-align: right;\">\n",
       "      <th></th>\n",
       "      <th>matrícula</th>\n",
       "      <th>nome</th>\n",
       "      <th>idade</th>\n",
       "      <th>renda</th>\n",
       "      <th>cor</th>\n",
       "      <th>sexo</th>\n",
       "      <th>ano_curso</th>\n",
       "      <th>escola</th>\n",
       "      <th>cod_curso</th>\n",
       "      <th>logradouro</th>\n",
       "      <th>...</th>\n",
       "      <th>uf</th>\n",
       "      <th>cep</th>\n",
       "      <th>gad-1</th>\n",
       "      <th>gad-2</th>\n",
       "      <th>gad-3</th>\n",
       "      <th>gad-4</th>\n",
       "      <th>gad-5</th>\n",
       "      <th>gad-6</th>\n",
       "      <th>gad-7</th>\n",
       "      <th>motivação</th>\n",
       "    </tr>\n",
       "  </thead>\n",
       "  <tbody>\n",
       "    <tr>\n",
       "      <th>0</th>\n",
       "      <td>RA55000001</td>\n",
       "      <td>Osane Inácio Pinhal Ouro</td>\n",
       "      <td>19</td>\n",
       "      <td>418.00</td>\n",
       "      <td>1</td>\n",
       "      <td>2</td>\n",
       "      <td>3</td>\n",
       "      <td>1</td>\n",
       "      <td>5</td>\n",
       "      <td>Viela Vinte e Sete de Setembro</td>\n",
       "      <td>...</td>\n",
       "      <td>SP</td>\n",
       "      <td>04235-090</td>\n",
       "      <td>1</td>\n",
       "      <td>1</td>\n",
       "      <td>1</td>\n",
       "      <td>1</td>\n",
       "      <td>1</td>\n",
       "      <td>1</td>\n",
       "      <td>1</td>\n",
       "      <td>9</td>\n",
       "    </tr>\n",
       "    <tr>\n",
       "      <th>1</th>\n",
       "      <td>RA55000002</td>\n",
       "      <td>Zezita Olivares Ferro Telinhos</td>\n",
       "      <td>19</td>\n",
       "      <td>279.00</td>\n",
       "      <td>1</td>\n",
       "      <td>2</td>\n",
       "      <td>3</td>\n",
       "      <td>1</td>\n",
       "      <td>2</td>\n",
       "      <td>Rua Marechal Marques Porto</td>\n",
       "      <td>...</td>\n",
       "      <td>SP</td>\n",
       "      <td>03906-020</td>\n",
       "      <td>0</td>\n",
       "      <td>1</td>\n",
       "      <td>1</td>\n",
       "      <td>1</td>\n",
       "      <td>1</td>\n",
       "      <td>1</td>\n",
       "      <td>1</td>\n",
       "      <td>10</td>\n",
       "    </tr>\n",
       "    <tr>\n",
       "      <th>2</th>\n",
       "      <td>RA55000003</td>\n",
       "      <td>Orleis Bilhalva Pereira Moita</td>\n",
       "      <td>19</td>\n",
       "      <td>87.00</td>\n",
       "      <td>1</td>\n",
       "      <td>1</td>\n",
       "      <td>3</td>\n",
       "      <td>1</td>\n",
       "      <td>9</td>\n",
       "      <td>Rua Vinte de Março</td>\n",
       "      <td>...</td>\n",
       "      <td>SP</td>\n",
       "      <td>02326-115</td>\n",
       "      <td>1</td>\n",
       "      <td>0</td>\n",
       "      <td>1</td>\n",
       "      <td>1</td>\n",
       "      <td>1</td>\n",
       "      <td>1</td>\n",
       "      <td>1</td>\n",
       "      <td>10</td>\n",
       "    </tr>\n",
       "    <tr>\n",
       "      <th>3</th>\n",
       "      <td>RA55000004</td>\n",
       "      <td>Kaiuan Félix</td>\n",
       "      <td>19</td>\n",
       "      <td>243.00</td>\n",
       "      <td>1</td>\n",
       "      <td>1</td>\n",
       "      <td>3</td>\n",
       "      <td>1</td>\n",
       "      <td>9</td>\n",
       "      <td>Rua João Pires</td>\n",
       "      <td>...</td>\n",
       "      <td>SP</td>\n",
       "      <td>03168-060</td>\n",
       "      <td>1</td>\n",
       "      <td>1</td>\n",
       "      <td>1</td>\n",
       "      <td>1</td>\n",
       "      <td>1</td>\n",
       "      <td>1</td>\n",
       "      <td>1</td>\n",
       "      <td>9</td>\n",
       "    </tr>\n",
       "    <tr>\n",
       "      <th>4</th>\n",
       "      <td>RA55000005</td>\n",
       "      <td>Geovan Quaresma Lameirinhas</td>\n",
       "      <td>19</td>\n",
       "      <td>348.00</td>\n",
       "      <td>1</td>\n",
       "      <td>1</td>\n",
       "      <td>3</td>\n",
       "      <td>1</td>\n",
       "      <td>6</td>\n",
       "      <td>Rua São João</td>\n",
       "      <td>...</td>\n",
       "      <td>SP</td>\n",
       "      <td>02920-050</td>\n",
       "      <td>1</td>\n",
       "      <td>1</td>\n",
       "      <td>1</td>\n",
       "      <td>1</td>\n",
       "      <td>1</td>\n",
       "      <td>1</td>\n",
       "      <td>1</td>\n",
       "      <td>9</td>\n",
       "    </tr>\n",
       "    <tr>\n",
       "      <th>...</th>\n",
       "      <td>...</td>\n",
       "      <td>...</td>\n",
       "      <td>...</td>\n",
       "      <td>...</td>\n",
       "      <td>...</td>\n",
       "      <td>...</td>\n",
       "      <td>...</td>\n",
       "      <td>...</td>\n",
       "      <td>...</td>\n",
       "      <td>...</td>\n",
       "      <td>...</td>\n",
       "      <td>...</td>\n",
       "      <td>...</td>\n",
       "      <td>...</td>\n",
       "      <td>...</td>\n",
       "      <td>...</td>\n",
       "      <td>...</td>\n",
       "      <td>...</td>\n",
       "      <td>...</td>\n",
       "      <td>...</td>\n",
       "      <td>...</td>\n",
       "    </tr>\n",
       "    <tr>\n",
       "      <th>495</th>\n",
       "      <td>RA55000496</td>\n",
       "      <td>Dorielma Farinha Angelim</td>\n",
       "      <td>31</td>\n",
       "      <td>22669.71</td>\n",
       "      <td>1</td>\n",
       "      <td>2</td>\n",
       "      <td>2</td>\n",
       "      <td>2</td>\n",
       "      <td>6</td>\n",
       "      <td>Viela Treze de Abril</td>\n",
       "      <td>...</td>\n",
       "      <td>SP</td>\n",
       "      <td>08150-750</td>\n",
       "      <td>2</td>\n",
       "      <td>2</td>\n",
       "      <td>2</td>\n",
       "      <td>1</td>\n",
       "      <td>1</td>\n",
       "      <td>1</td>\n",
       "      <td>1</td>\n",
       "      <td>1</td>\n",
       "    </tr>\n",
       "    <tr>\n",
       "      <th>496</th>\n",
       "      <td>RA55000497</td>\n",
       "      <td>Carlene Barra Girão Quesado</td>\n",
       "      <td>45</td>\n",
       "      <td>229643.80</td>\n",
       "      <td>1</td>\n",
       "      <td>2</td>\n",
       "      <td>1</td>\n",
       "      <td>2</td>\n",
       "      <td>1</td>\n",
       "      <td>Rua Sargento Olício Alves</td>\n",
       "      <td>...</td>\n",
       "      <td>SP</td>\n",
       "      <td>04455-180</td>\n",
       "      <td>2</td>\n",
       "      <td>2</td>\n",
       "      <td>2</td>\n",
       "      <td>2</td>\n",
       "      <td>2</td>\n",
       "      <td>2</td>\n",
       "      <td>2</td>\n",
       "      <td>1</td>\n",
       "    </tr>\n",
       "    <tr>\n",
       "      <th>497</th>\n",
       "      <td>RA55000498</td>\n",
       "      <td>Dinalia Neves Carmona Serpa</td>\n",
       "      <td>32</td>\n",
       "      <td>572939.98</td>\n",
       "      <td>2</td>\n",
       "      <td>2</td>\n",
       "      <td>5</td>\n",
       "      <td>2</td>\n",
       "      <td>6</td>\n",
       "      <td>Rua Dona Domitila</td>\n",
       "      <td>...</td>\n",
       "      <td>SP</td>\n",
       "      <td>03882-180</td>\n",
       "      <td>2</td>\n",
       "      <td>2</td>\n",
       "      <td>2</td>\n",
       "      <td>2</td>\n",
       "      <td>1</td>\n",
       "      <td>1</td>\n",
       "      <td>1</td>\n",
       "      <td>1</td>\n",
       "    </tr>\n",
       "    <tr>\n",
       "      <th>498</th>\n",
       "      <td>RA55000499</td>\n",
       "      <td>Agni Andrade Vidigal</td>\n",
       "      <td>34</td>\n",
       "      <td>898004.00</td>\n",
       "      <td>1</td>\n",
       "      <td>1</td>\n",
       "      <td>5</td>\n",
       "      <td>2</td>\n",
       "      <td>9</td>\n",
       "      <td>Rua Dom Pedro</td>\n",
       "      <td>...</td>\n",
       "      <td>SP</td>\n",
       "      <td>04470-037</td>\n",
       "      <td>1</td>\n",
       "      <td>1</td>\n",
       "      <td>1</td>\n",
       "      <td>1</td>\n",
       "      <td>1</td>\n",
       "      <td>1</td>\n",
       "      <td>1</td>\n",
       "      <td>0</td>\n",
       "    </tr>\n",
       "    <tr>\n",
       "      <th>499</th>\n",
       "      <td>RA55000500</td>\n",
       "      <td>Gilvanise Pinheiro</td>\n",
       "      <td>25</td>\n",
       "      <td>453792.67</td>\n",
       "      <td>1</td>\n",
       "      <td>2</td>\n",
       "      <td>4</td>\n",
       "      <td>2</td>\n",
       "      <td>1</td>\n",
       "      <td>Rua Pedro Doll</td>\n",
       "      <td>...</td>\n",
       "      <td>SP</td>\n",
       "      <td>02404-001</td>\n",
       "      <td>2</td>\n",
       "      <td>2</td>\n",
       "      <td>2</td>\n",
       "      <td>2</td>\n",
       "      <td>2</td>\n",
       "      <td>2</td>\n",
       "      <td>2</td>\n",
       "      <td>1</td>\n",
       "    </tr>\n",
       "  </tbody>\n",
       "</table>\n",
       "<p>500 rows × 23 columns</p>\n",
       "</div>"
      ],
      "text/plain": [
       "      matrícula                            nome  idade      renda  cor  sexo  \\\n",
       "0    RA55000001        Osane Inácio Pinhal Ouro     19     418.00    1     2   \n",
       "1    RA55000002  Zezita Olivares Ferro Telinhos     19     279.00    1     2   \n",
       "2    RA55000003   Orleis Bilhalva Pereira Moita     19      87.00    1     1   \n",
       "3    RA55000004                    Kaiuan Félix     19     243.00    1     1   \n",
       "4    RA55000005     Geovan Quaresma Lameirinhas     19     348.00    1     1   \n",
       "..          ...                             ...    ...        ...  ...   ...   \n",
       "495  RA55000496        Dorielma Farinha Angelim     31   22669.71    1     2   \n",
       "496  RA55000497     Carlene Barra Girão Quesado     45  229643.80    1     2   \n",
       "497  RA55000498     Dinalia Neves Carmona Serpa     32  572939.98    2     2   \n",
       "498  RA55000499            Agni Andrade Vidigal     34  898004.00    1     1   \n",
       "499  RA55000500              Gilvanise Pinheiro     25  453792.67    1     2   \n",
       "\n",
       "     ano_curso  escola  cod_curso                      logradouro  ...  uf  \\\n",
       "0            3       1          5  Viela Vinte e Sete de Setembro  ...  SP   \n",
       "1            3       1          2      Rua Marechal Marques Porto  ...  SP   \n",
       "2            3       1          9              Rua Vinte de Março  ...  SP   \n",
       "3            3       1          9                  Rua João Pires  ...  SP   \n",
       "4            3       1          6                    Rua São João  ...  SP   \n",
       "..         ...     ...        ...                             ...  ...  ..   \n",
       "495          2       2          6            Viela Treze de Abril  ...  SP   \n",
       "496          1       2          1       Rua Sargento Olício Alves  ...  SP   \n",
       "497          5       2          6               Rua Dona Domitila  ...  SP   \n",
       "498          5       2          9                   Rua Dom Pedro  ...  SP   \n",
       "499          4       2          1                  Rua Pedro Doll  ...  SP   \n",
       "\n",
       "           cep gad-1 gad-2 gad-3  gad-4  gad-5  gad-6  gad-7  motivação  \n",
       "0    04235-090     1     1     1      1      1      1      1          9  \n",
       "1    03906-020     0     1     1      1      1      1      1         10  \n",
       "2    02326-115     1     0     1      1      1      1      1         10  \n",
       "3    03168-060     1     1     1      1      1      1      1          9  \n",
       "4    02920-050     1     1     1      1      1      1      1          9  \n",
       "..         ...   ...   ...   ...    ...    ...    ...    ...        ...  \n",
       "495  08150-750     2     2     2      1      1      1      1          1  \n",
       "496  04455-180     2     2     2      2      2      2      2          1  \n",
       "497  03882-180     2     2     2      2      1      1      1          1  \n",
       "498  04470-037     1     1     1      1      1      1      1          0  \n",
       "499  02404-001     2     2     2      2      2      2      2          1  \n",
       "\n",
       "[500 rows x 23 columns]"
      ]
     },
     "execution_count": 85,
     "metadata": {},
     "output_type": "execute_result"
    }
   ],
   "source": [
    "main"
   ]
  },
  {
   "cell_type": "markdown",
   "metadata": {
    "collapsed": false
   },
   "source": [
    "## Regressão linear\n",
    "\n",
    "À partir das variáveis (gad-1, gad-2, gad-3, gad-4, gad-5, gad-6, gad-7) prever a variável \"motivação\""
   ]
  },
  {
   "cell_type": "code",
   "execution_count": 86,
   "metadata": {
    "collapsed": false
   },
   "outputs": [],
   "source": [
    "from sklearn.linear_model import LinearRegression\n",
    "from sklearn.model_selection import train_test_split\n",
    "from sklearn.metrics import accuracy_score, r2_score"
   ]
  },
  {
   "cell_type": "code",
   "execution_count": 87,
   "metadata": {
    "collapsed": false
   },
   "outputs": [
    {
     "data": {
      "text/plain": [
       "500"
      ]
     },
     "execution_count": 87,
     "metadata": {},
     "output_type": "execute_result"
    }
   ],
   "source": [
    "len(main)"
   ]
  },
  {
   "cell_type": "code",
   "execution_count": 88,
   "metadata": {
    "collapsed": false
   },
   "outputs": [],
   "source": [
    "new_main = main"
   ]
  },
  {
   "cell_type": "code",
   "execution_count": 89,
   "metadata": {
    "collapsed": false
   },
   "outputs": [
    {
     "data": {
      "text/plain": [
       "500"
      ]
     },
     "execution_count": 89,
     "metadata": {},
     "output_type": "execute_result"
    }
   ],
   "source": [
    "len(new_main)"
   ]
  },
  {
   "cell_type": "code",
   "execution_count": 90,
   "metadata": {
    "collapsed": false
   },
   "outputs": [
    {
     "data": {
      "text/html": [
       "<div>\n",
       "<style scoped>\n",
       "    .dataframe tbody tr th:only-of-type {\n",
       "        vertical-align: middle;\n",
       "    }\n",
       "\n",
       "    .dataframe tbody tr th {\n",
       "        vertical-align: top;\n",
       "    }\n",
       "\n",
       "    .dataframe thead th {\n",
       "        text-align: right;\n",
       "    }\n",
       "</style>\n",
       "<table border=\"1\" class=\"dataframe\">\n",
       "  <thead>\n",
       "    <tr style=\"text-align: right;\">\n",
       "      <th></th>\n",
       "      <th>gad-1</th>\n",
       "      <th>gad-2</th>\n",
       "      <th>gad-3</th>\n",
       "      <th>gad-4</th>\n",
       "      <th>gad-5</th>\n",
       "      <th>gad-6</th>\n",
       "      <th>gad-7</th>\n",
       "    </tr>\n",
       "  </thead>\n",
       "  <tbody>\n",
       "    <tr>\n",
       "      <th>0</th>\n",
       "      <td>1</td>\n",
       "      <td>1</td>\n",
       "      <td>1</td>\n",
       "      <td>1</td>\n",
       "      <td>1</td>\n",
       "      <td>1</td>\n",
       "      <td>1</td>\n",
       "    </tr>\n",
       "    <tr>\n",
       "      <th>1</th>\n",
       "      <td>0</td>\n",
       "      <td>1</td>\n",
       "      <td>1</td>\n",
       "      <td>1</td>\n",
       "      <td>1</td>\n",
       "      <td>1</td>\n",
       "      <td>1</td>\n",
       "    </tr>\n",
       "    <tr>\n",
       "      <th>2</th>\n",
       "      <td>1</td>\n",
       "      <td>0</td>\n",
       "      <td>1</td>\n",
       "      <td>1</td>\n",
       "      <td>1</td>\n",
       "      <td>1</td>\n",
       "      <td>1</td>\n",
       "    </tr>\n",
       "    <tr>\n",
       "      <th>3</th>\n",
       "      <td>1</td>\n",
       "      <td>1</td>\n",
       "      <td>1</td>\n",
       "      <td>1</td>\n",
       "      <td>1</td>\n",
       "      <td>1</td>\n",
       "      <td>1</td>\n",
       "    </tr>\n",
       "    <tr>\n",
       "      <th>4</th>\n",
       "      <td>1</td>\n",
       "      <td>1</td>\n",
       "      <td>1</td>\n",
       "      <td>1</td>\n",
       "      <td>1</td>\n",
       "      <td>1</td>\n",
       "      <td>1</td>\n",
       "    </tr>\n",
       "    <tr>\n",
       "      <th>...</th>\n",
       "      <td>...</td>\n",
       "      <td>...</td>\n",
       "      <td>...</td>\n",
       "      <td>...</td>\n",
       "      <td>...</td>\n",
       "      <td>...</td>\n",
       "      <td>...</td>\n",
       "    </tr>\n",
       "    <tr>\n",
       "      <th>495</th>\n",
       "      <td>2</td>\n",
       "      <td>2</td>\n",
       "      <td>2</td>\n",
       "      <td>1</td>\n",
       "      <td>1</td>\n",
       "      <td>1</td>\n",
       "      <td>1</td>\n",
       "    </tr>\n",
       "    <tr>\n",
       "      <th>496</th>\n",
       "      <td>2</td>\n",
       "      <td>2</td>\n",
       "      <td>2</td>\n",
       "      <td>2</td>\n",
       "      <td>2</td>\n",
       "      <td>2</td>\n",
       "      <td>2</td>\n",
       "    </tr>\n",
       "    <tr>\n",
       "      <th>497</th>\n",
       "      <td>2</td>\n",
       "      <td>2</td>\n",
       "      <td>2</td>\n",
       "      <td>2</td>\n",
       "      <td>1</td>\n",
       "      <td>1</td>\n",
       "      <td>1</td>\n",
       "    </tr>\n",
       "    <tr>\n",
       "      <th>498</th>\n",
       "      <td>1</td>\n",
       "      <td>1</td>\n",
       "      <td>1</td>\n",
       "      <td>1</td>\n",
       "      <td>1</td>\n",
       "      <td>1</td>\n",
       "      <td>1</td>\n",
       "    </tr>\n",
       "    <tr>\n",
       "      <th>499</th>\n",
       "      <td>2</td>\n",
       "      <td>2</td>\n",
       "      <td>2</td>\n",
       "      <td>2</td>\n",
       "      <td>2</td>\n",
       "      <td>2</td>\n",
       "      <td>2</td>\n",
       "    </tr>\n",
       "  </tbody>\n",
       "</table>\n",
       "<p>500 rows × 7 columns</p>\n",
       "</div>"
      ],
      "text/plain": [
       "     gad-1  gad-2  gad-3  gad-4  gad-5  gad-6  gad-7\n",
       "0        1      1      1      1      1      1      1\n",
       "1        0      1      1      1      1      1      1\n",
       "2        1      0      1      1      1      1      1\n",
       "3        1      1      1      1      1      1      1\n",
       "4        1      1      1      1      1      1      1\n",
       "..     ...    ...    ...    ...    ...    ...    ...\n",
       "495      2      2      2      1      1      1      1\n",
       "496      2      2      2      2      2      2      2\n",
       "497      2      2      2      2      1      1      1\n",
       "498      1      1      1      1      1      1      1\n",
       "499      2      2      2      2      2      2      2\n",
       "\n",
       "[500 rows x 7 columns]"
      ]
     },
     "execution_count": 90,
     "metadata": {},
     "output_type": "execute_result"
    }
   ],
   "source": [
    "X = new_main[[\"gad-1\", \"gad-2\", \"gad-3\", \"gad-4\", \"gad-5\", \"gad-6\", \"gad-7\"]]\n",
    "X"
   ]
  },
  {
   "cell_type": "code",
   "execution_count": 91,
   "metadata": {
    "collapsed": false
   },
   "outputs": [
    {
     "data": {
      "text/plain": [
       "0       9\n",
       "1      10\n",
       "2      10\n",
       "3       9\n",
       "4       9\n",
       "       ..\n",
       "495     1\n",
       "496     1\n",
       "497     1\n",
       "498     0\n",
       "499     1\n",
       "Name: motivação, Length: 500, dtype: int64"
      ]
     },
     "execution_count": 91,
     "metadata": {},
     "output_type": "execute_result"
    }
   ],
   "source": [
    "y = new_main[\"motivação\"]\n",
    "y"
   ]
  },
  {
   "cell_type": "code",
   "execution_count": 92,
   "metadata": {
    "collapsed": false
   },
   "outputs": [
    {
     "data": {
      "text/plain": [
       "0.5814930922839741"
      ]
     },
     "execution_count": 92,
     "metadata": {},
     "output_type": "execute_result"
    }
   ],
   "source": [
    "X_train, X_test, y_train, y_test = train_test_split(X, y, test_size=0.3, random_state=69)\n",
    "model = LinearRegression()\n",
    "model.fit(X_train, y_train)\n",
    "y_pred = model.predict(X_test)\n",
    "\n",
    "r2_score(y_test, y_pred)"
   ]
  },
  {
   "cell_type": "markdown",
   "metadata": {
    "collapsed": false
   },
   "source": [
    " Conclusão: o modelo de regressão linear obteve um R2 de 0.5814..., o que significa que o modelo não é muito bom para prever a motivação dos estudantes, mas é melhor que um modelo aleatório.\n",
    "\n"
   ]
  },
  {
   "cell_type": "markdown",
   "metadata": {
    "collapsed": false
   },
   "source": [
    "### Gráfico da regressão linear (predição x real)\n",
    "Neste gráfico temos a motivação real (y_test) e a motivação predita (y_pred), juntas a uma linha azul que é o resultado da regressão."
   ]
  },
  {
   "cell_type": "code",
   "execution_count": 93,
   "metadata": {
    "collapsed": false
   },
   "outputs": [
    {
     "data": {
      "image/png": "[encoded data removed]",
      "text/plain": [
       "<Figure size 1440x720 with 1 Axes>"
      ]
     },
     "metadata": {},
     "output_type": "display_data"
    }
   ],
   "source": [
    "plt.scatter(y_pred, y_test,  color='black')\n",
    "plt.plot(y_pred, y_pred, color='blue', linewidth=3)\n",
    "plt.title(\"Regressão linear (Predição x Real)\").set_fontsize(20)\n",
    "plt.xlabel(\"Predição\").set_fontsize(20)\n",
    "plt.ylabel(\"Real\").set_fontsize(20)\n",
    "plt.show()"
   ]
  },
  {
   "attachments": {},
   "cell_type": "markdown",
   "id": "7436b594",
   "metadata": {},
   "source": [
    "# Padronização e normalização dos dados"
   ]
  },
  {
   "cell_type": "code",
   "execution_count": 94,
   "id": "14ff2ca8",
   "metadata": {},
   "outputs": [],
   "source": [
    "from sklearn.preprocessing import MinMaxScaler\n",
    "from sklearn.preprocessing import StandardScaler"
   ]
  },
  {
   "cell_type": "code",
   "execution_count": 95,
   "id": "0ed0adff",
   "metadata": {},
   "outputs": [
    {
     "data": {
      "text/html": [
       "<div>\n",
       "<style scoped>\n",
       "    .dataframe tbody tr th:only-of-type {\n",
       "        vertical-align: middle;\n",
       "    }\n",
       "\n",
       "    .dataframe tbody tr th {\n",
       "        vertical-align: top;\n",
       "    }\n",
       "\n",
       "    .dataframe thead th {\n",
       "        text-align: right;\n",
       "    }\n",
       "</style>\n",
       "<table border=\"1\" class=\"dataframe\">\n",
       "  <thead>\n",
       "    <tr style=\"text-align: right;\">\n",
       "      <th></th>\n",
       "      <th>idade</th>\n",
       "      <th>renda</th>\n",
       "      <th>ano_curso</th>\n",
       "      <th>gad-1</th>\n",
       "      <th>gad-2</th>\n",
       "      <th>gad-3</th>\n",
       "      <th>gad-4</th>\n",
       "      <th>gad-5</th>\n",
       "      <th>gad-6</th>\n",
       "      <th>gad-7</th>\n",
       "      <th>motivação</th>\n",
       "      <th>total score</th>\n",
       "      <th>classe</th>\n",
       "    </tr>\n",
       "  </thead>\n",
       "  <tbody>\n",
       "    <tr>\n",
       "      <th>0</th>\n",
       "      <td>19</td>\n",
       "      <td>418.0</td>\n",
       "      <td>3</td>\n",
       "      <td>1</td>\n",
       "      <td>1</td>\n",
       "      <td>1</td>\n",
       "      <td>1</td>\n",
       "      <td>1</td>\n",
       "      <td>1</td>\n",
       "      <td>1</td>\n",
       "      <td>9</td>\n",
       "      <td>6</td>\n",
       "      <td>E</td>\n",
       "    </tr>\n",
       "    <tr>\n",
       "      <th>1</th>\n",
       "      <td>19</td>\n",
       "      <td>279.0</td>\n",
       "      <td>3</td>\n",
       "      <td>0</td>\n",
       "      <td>1</td>\n",
       "      <td>1</td>\n",
       "      <td>1</td>\n",
       "      <td>1</td>\n",
       "      <td>1</td>\n",
       "      <td>1</td>\n",
       "      <td>10</td>\n",
       "      <td>5</td>\n",
       "      <td>E</td>\n",
       "    </tr>\n",
       "    <tr>\n",
       "      <th>2</th>\n",
       "      <td>19</td>\n",
       "      <td>87.0</td>\n",
       "      <td>3</td>\n",
       "      <td>1</td>\n",
       "      <td>0</td>\n",
       "      <td>1</td>\n",
       "      <td>1</td>\n",
       "      <td>1</td>\n",
       "      <td>1</td>\n",
       "      <td>1</td>\n",
       "      <td>10</td>\n",
       "      <td>5</td>\n",
       "      <td>E</td>\n",
       "    </tr>\n",
       "    <tr>\n",
       "      <th>3</th>\n",
       "      <td>19</td>\n",
       "      <td>243.0</td>\n",
       "      <td>3</td>\n",
       "      <td>1</td>\n",
       "      <td>1</td>\n",
       "      <td>1</td>\n",
       "      <td>1</td>\n",
       "      <td>1</td>\n",
       "      <td>1</td>\n",
       "      <td>1</td>\n",
       "      <td>9</td>\n",
       "      <td>6</td>\n",
       "      <td>E</td>\n",
       "    </tr>\n",
       "    <tr>\n",
       "      <th>4</th>\n",
       "      <td>19</td>\n",
       "      <td>348.0</td>\n",
       "      <td>3</td>\n",
       "      <td>1</td>\n",
       "      <td>1</td>\n",
       "      <td>1</td>\n",
       "      <td>1</td>\n",
       "      <td>1</td>\n",
       "      <td>1</td>\n",
       "      <td>1</td>\n",
       "      <td>9</td>\n",
       "      <td>6</td>\n",
       "      <td>E</td>\n",
       "    </tr>\n",
       "  </tbody>\n",
       "</table>\n",
       "</div>"
      ],
      "text/plain": [
       "   idade  renda  ano_curso  gad-1  gad-2  gad-3  gad-4  gad-5  gad-6  gad-7  \\\n",
       "0     19  418.0          3      1      1      1      1      1      1      1   \n",
       "1     19  279.0          3      0      1      1      1      1      1      1   \n",
       "2     19   87.0          3      1      0      1      1      1      1      1   \n",
       "3     19  243.0          3      1      1      1      1      1      1      1   \n",
       "4     19  348.0          3      1      1      1      1      1      1      1   \n",
       "\n",
       "   motivação  total score classe  \n",
       "0          9            6      E  \n",
       "1         10            5      E  \n",
       "2         10            5      E  \n",
       "3          9            6      E  \n",
       "4          9            6      E  "
      ]
     },
     "execution_count": 95,
     "metadata": {},
     "output_type": "execute_result"
    }
   ],
   "source": [
    "df.head()"
   ]
  },
  {
   "cell_type": "code",
   "execution_count": 96,
   "id": "ca81126a",
   "metadata": {},
   "outputs": [
    {
     "data": {
      "text/plain": [
       "idade            int64\n",
       "renda          float64\n",
       "ano_curso        int64\n",
       "gad-1            int64\n",
       "gad-2            int64\n",
       "gad-3            int64\n",
       "gad-4            int64\n",
       "gad-5            int64\n",
       "gad-6            int64\n",
       "gad-7            int64\n",
       "motivação        int64\n",
       "total score      int64\n",
       "classe          object\n",
       "dtype: object"
      ]
     },
     "execution_count": 96,
     "metadata": {},
     "output_type": "execute_result"
    }
   ],
   "source": [
    "df.dtypes"
   ]
  },
  {
   "cell_type": "code",
   "execution_count": 97,
   "id": "b29b5b71",
   "metadata": {},
   "outputs": [
    {
     "name": "stderr",
     "output_type": "stream",
     "text": [
      "C:\\Users\\fabri\\AppData\\Local\\Temp\\ipykernel_2528\\1598516189.py:1: SettingWithCopyWarning:\n",
      "\n",
      "\n",
      "A value is trying to be set on a copy of a slice from a DataFrame.\n",
      "Try using .loc[row_indexer,col_indexer] = value instead\n",
      "\n",
      "See the caveats in the documentation: https://pandas.pydata.org/pandas-docs/stable/user_guide/indexing.html#returning-a-view-versus-a-copy\n",
      "\n"
     ]
    }
   ],
   "source": [
    "df['renda'] = df['renda'].apply(int)"
   ]
  },
  {
   "cell_type": "code",
   "execution_count": 98,
   "id": "36300dd2",
   "metadata": {},
   "outputs": [
    {
     "name": "stderr",
     "output_type": "stream",
     "text": [
      "C:\\Users\\fabri\\AppData\\Local\\Temp\\ipykernel_2528\\366605573.py:1: SettingWithCopyWarning:\n",
      "\n",
      "\n",
      "A value is trying to be set on a copy of a slice from a DataFrame.\n",
      "Try using .loc[row_indexer,col_indexer] = value instead\n",
      "\n",
      "See the caveats in the documentation: https://pandas.pydata.org/pandas-docs/stable/user_guide/indexing.html#returning-a-view-versus-a-copy\n",
      "\n"
     ]
    }
   ],
   "source": [
    "df['total score'] = df['total score'].apply(int)"
   ]
  },
  {
   "cell_type": "code",
   "execution_count": 99,
   "id": "473db97c",
   "metadata": {},
   "outputs": [],
   "source": [
    "newdf = df.drop(\"classe\", axis='columns')"
   ]
  },
  {
   "attachments": {},
   "cell_type": "markdown",
   "id": "4dab557a",
   "metadata": {},
   "source": [
    "# Padronização"
   ]
  },
  {
   "cell_type": "code",
   "execution_count": 100,
   "metadata": {
    "collapsed": false
   },
   "outputs": [
    {
     "data": {
      "text/plain": [
       "array([[-0.45110148, -0.87958913, -0.63073254, ..., -0.45456865,\n",
       "         0.94889141, -0.64316812],\n",
       "       [-0.45110148, -0.94049406, -0.63073254, ..., -0.45456865,\n",
       "         1.2664717 , -0.96313618],\n",
       "       [-0.45110148, -1.02462173, -0.63073254, ..., -0.45456865,\n",
       "         1.2664717 , -0.96313618],\n",
       "       ...,\n",
       "       [ 2.64407998,  7.99763267, -2.68476287, ..., -0.45456865,\n",
       "        -1.90933119,  1.27664024],\n",
       "       [ 5.96034582,  6.14025146, -1.65774771, ..., -0.45456865,\n",
       "        -1.90933119,  1.27664024],\n",
       "       [ 1.75974242,  8.3446593 ,  0.39628262, ...,  1.21218305,\n",
       "        -1.90933119,  1.27664024]])"
      ]
     },
     "execution_count": 100,
     "metadata": {},
     "output_type": "execute_result"
    }
   ],
   "source": [
    "obj_padronizado = StandardScaler().fit(newdf)\n",
    "df_padronizado = obj_padronizado.transform(newdf)\n",
    "df_padronizado"
   ]
  },
  {
   "cell_type": "code",
   "execution_count": 101,
   "id": "d1248888",
   "metadata": {},
   "outputs": [
    {
     "data": {
      "text/html": [
       "<div>\n",
       "<style scoped>\n",
       "    .dataframe tbody tr th:only-of-type {\n",
       "        vertical-align: middle;\n",
       "    }\n",
       "\n",
       "    .dataframe tbody tr th {\n",
       "        vertical-align: top;\n",
       "    }\n",
       "\n",
       "    .dataframe thead th {\n",
       "        text-align: right;\n",
       "    }\n",
       "</style>\n",
       "<table border=\"1\" class=\"dataframe\">\n",
       "  <thead>\n",
       "    <tr style=\"text-align: right;\">\n",
       "      <th></th>\n",
       "      <th>idade</th>\n",
       "      <th>renda</th>\n",
       "      <th>ano_curso</th>\n",
       "      <th>gad-1</th>\n",
       "      <th>gad-2</th>\n",
       "      <th>gad-3</th>\n",
       "      <th>gad-4</th>\n",
       "      <th>gad-5</th>\n",
       "      <th>gad-6</th>\n",
       "      <th>gad-7</th>\n",
       "      <th>motivação</th>\n",
       "      <th>total score</th>\n",
       "    </tr>\n",
       "  </thead>\n",
       "  <tbody>\n",
       "    <tr>\n",
       "      <th>0</th>\n",
       "      <td>19</td>\n",
       "      <td>418</td>\n",
       "      <td>3</td>\n",
       "      <td>1</td>\n",
       "      <td>1</td>\n",
       "      <td>1</td>\n",
       "      <td>1</td>\n",
       "      <td>1</td>\n",
       "      <td>1</td>\n",
       "      <td>1</td>\n",
       "      <td>9</td>\n",
       "      <td>6</td>\n",
       "    </tr>\n",
       "    <tr>\n",
       "      <th>1</th>\n",
       "      <td>19</td>\n",
       "      <td>279</td>\n",
       "      <td>3</td>\n",
       "      <td>0</td>\n",
       "      <td>1</td>\n",
       "      <td>1</td>\n",
       "      <td>1</td>\n",
       "      <td>1</td>\n",
       "      <td>1</td>\n",
       "      <td>1</td>\n",
       "      <td>10</td>\n",
       "      <td>5</td>\n",
       "    </tr>\n",
       "    <tr>\n",
       "      <th>2</th>\n",
       "      <td>19</td>\n",
       "      <td>87</td>\n",
       "      <td>3</td>\n",
       "      <td>1</td>\n",
       "      <td>0</td>\n",
       "      <td>1</td>\n",
       "      <td>1</td>\n",
       "      <td>1</td>\n",
       "      <td>1</td>\n",
       "      <td>1</td>\n",
       "      <td>10</td>\n",
       "      <td>5</td>\n",
       "    </tr>\n",
       "    <tr>\n",
       "      <th>3</th>\n",
       "      <td>19</td>\n",
       "      <td>243</td>\n",
       "      <td>3</td>\n",
       "      <td>1</td>\n",
       "      <td>1</td>\n",
       "      <td>1</td>\n",
       "      <td>1</td>\n",
       "      <td>1</td>\n",
       "      <td>1</td>\n",
       "      <td>1</td>\n",
       "      <td>9</td>\n",
       "      <td>6</td>\n",
       "    </tr>\n",
       "    <tr>\n",
       "      <th>4</th>\n",
       "      <td>19</td>\n",
       "      <td>348</td>\n",
       "      <td>3</td>\n",
       "      <td>1</td>\n",
       "      <td>1</td>\n",
       "      <td>1</td>\n",
       "      <td>1</td>\n",
       "      <td>1</td>\n",
       "      <td>1</td>\n",
       "      <td>1</td>\n",
       "      <td>9</td>\n",
       "      <td>6</td>\n",
       "    </tr>\n",
       "  </tbody>\n",
       "</table>\n",
       "</div>"
      ],
      "text/plain": [
       "   idade  renda  ano_curso  gad-1  gad-2  gad-3  gad-4  gad-5  gad-6  gad-7  \\\n",
       "0     19    418          3      1      1      1      1      1      1      1   \n",
       "1     19    279          3      0      1      1      1      1      1      1   \n",
       "2     19     87          3      1      0      1      1      1      1      1   \n",
       "3     19    243          3      1      1      1      1      1      1      1   \n",
       "4     19    348          3      1      1      1      1      1      1      1   \n",
       "\n",
       "   motivação  total score  \n",
       "0          9            6  \n",
       "1         10            5  \n",
       "2         10            5  \n",
       "3          9            6  \n",
       "4          9            6  "
      ]
     },
     "execution_count": 101,
     "metadata": {},
     "output_type": "execute_result"
    }
   ],
   "source": [
    "newdf.head()"
   ]
  },
  {
   "cell_type": "code",
   "execution_count": 102,
   "id": "8c70de8a",
   "metadata": {},
   "outputs": [
    {
     "data": {
      "text/html": [
       "<div>\n",
       "<style scoped>\n",
       "    .dataframe tbody tr th:only-of-type {\n",
       "        vertical-align: middle;\n",
       "    }\n",
       "\n",
       "    .dataframe tbody tr th {\n",
       "        vertical-align: top;\n",
       "    }\n",
       "\n",
       "    .dataframe thead th {\n",
       "        text-align: right;\n",
       "    }\n",
       "</style>\n",
       "<table border=\"1\" class=\"dataframe\">\n",
       "  <thead>\n",
       "    <tr style=\"text-align: right;\">\n",
       "      <th></th>\n",
       "      <th>idade</th>\n",
       "      <th>renda</th>\n",
       "      <th>ano_curso</th>\n",
       "      <th>gad-1</th>\n",
       "      <th>gad-2</th>\n",
       "      <th>gad-3</th>\n",
       "      <th>gad-4</th>\n",
       "      <th>gad-5</th>\n",
       "      <th>gad-6</th>\n",
       "      <th>gad-7</th>\n",
       "      <th>motivacao</th>\n",
       "      <th>total score</th>\n",
       "    </tr>\n",
       "  </thead>\n",
       "  <tbody>\n",
       "    <tr>\n",
       "      <th>0</th>\n",
       "      <td>-0.451101</td>\n",
       "      <td>-0.879589</td>\n",
       "      <td>-0.630733</td>\n",
       "      <td>-0.811970</td>\n",
       "      <td>-0.721021</td>\n",
       "      <td>-0.59954</td>\n",
       "      <td>-0.376977</td>\n",
       "      <td>-0.437026</td>\n",
       "      <td>-0.476383</td>\n",
       "      <td>-0.454569</td>\n",
       "      <td>0.948891</td>\n",
       "      <td>-0.643168</td>\n",
       "    </tr>\n",
       "    <tr>\n",
       "      <th>1</th>\n",
       "      <td>-0.451101</td>\n",
       "      <td>-0.940494</td>\n",
       "      <td>-0.630733</td>\n",
       "      <td>-2.500731</td>\n",
       "      <td>-0.721021</td>\n",
       "      <td>-0.59954</td>\n",
       "      <td>-0.376977</td>\n",
       "      <td>-0.437026</td>\n",
       "      <td>-0.476383</td>\n",
       "      <td>-0.454569</td>\n",
       "      <td>1.266472</td>\n",
       "      <td>-0.963136</td>\n",
       "    </tr>\n",
       "    <tr>\n",
       "      <th>2</th>\n",
       "      <td>-0.451101</td>\n",
       "      <td>-1.024622</td>\n",
       "      <td>-0.630733</td>\n",
       "      <td>-0.811970</td>\n",
       "      <td>-2.307266</td>\n",
       "      <td>-0.59954</td>\n",
       "      <td>-0.376977</td>\n",
       "      <td>-0.437026</td>\n",
       "      <td>-0.476383</td>\n",
       "      <td>-0.454569</td>\n",
       "      <td>1.266472</td>\n",
       "      <td>-0.963136</td>\n",
       "    </tr>\n",
       "    <tr>\n",
       "      <th>3</th>\n",
       "      <td>-0.451101</td>\n",
       "      <td>-0.956268</td>\n",
       "      <td>-0.630733</td>\n",
       "      <td>-0.811970</td>\n",
       "      <td>-0.721021</td>\n",
       "      <td>-0.59954</td>\n",
       "      <td>-0.376977</td>\n",
       "      <td>-0.437026</td>\n",
       "      <td>-0.476383</td>\n",
       "      <td>-0.454569</td>\n",
       "      <td>0.948891</td>\n",
       "      <td>-0.643168</td>\n",
       "    </tr>\n",
       "    <tr>\n",
       "      <th>4</th>\n",
       "      <td>-0.451101</td>\n",
       "      <td>-0.910261</td>\n",
       "      <td>-0.630733</td>\n",
       "      <td>-0.811970</td>\n",
       "      <td>-0.721021</td>\n",
       "      <td>-0.59954</td>\n",
       "      <td>-0.376977</td>\n",
       "      <td>-0.437026</td>\n",
       "      <td>-0.476383</td>\n",
       "      <td>-0.454569</td>\n",
       "      <td>0.948891</td>\n",
       "      <td>-0.643168</td>\n",
       "    </tr>\n",
       "  </tbody>\n",
       "</table>\n",
       "</div>"
      ],
      "text/plain": [
       "      idade     renda  ano_curso     gad-1     gad-2    gad-3     gad-4  \\\n",
       "0 -0.451101 -0.879589  -0.630733 -0.811970 -0.721021 -0.59954 -0.376977   \n",
       "1 -0.451101 -0.940494  -0.630733 -2.500731 -0.721021 -0.59954 -0.376977   \n",
       "2 -0.451101 -1.024622  -0.630733 -0.811970 -2.307266 -0.59954 -0.376977   \n",
       "3 -0.451101 -0.956268  -0.630733 -0.811970 -0.721021 -0.59954 -0.376977   \n",
       "4 -0.451101 -0.910261  -0.630733 -0.811970 -0.721021 -0.59954 -0.376977   \n",
       "\n",
       "      gad-5     gad-6     gad-7  motivacao  total score  \n",
       "0 -0.437026 -0.476383 -0.454569   0.948891    -0.643168  \n",
       "1 -0.437026 -0.476383 -0.454569   1.266472    -0.963136  \n",
       "2 -0.437026 -0.476383 -0.454569   1.266472    -0.963136  \n",
       "3 -0.437026 -0.476383 -0.454569   0.948891    -0.643168  \n",
       "4 -0.437026 -0.476383 -0.454569   0.948891    -0.643168  "
      ]
     },
     "execution_count": 102,
     "metadata": {},
     "output_type": "execute_result"
    }
   ],
   "source": [
    "# Transformando para DataFrame e nomeando as colunas\n",
    "df_padronizado = pd.DataFrame(df_padronizado)\n",
    "df_padronizado.columns = [\"idade\", \"renda\", \"ano_curso\", \"gad-1\", \"gad-2\", \"gad-3\", \"gad-4\", \"gad-5\", \"gad-6\", \"gad-7\",\n",
    "                          \"motivacao\", \"total score\"]\n",
    "\n",
    "# Visualizando os dados padronizados\n",
    "df_padronizado.head()"
   ]
  },
  {
   "attachments": {},
   "cell_type": "markdown",
   "id": "c8259bf7",
   "metadata": {},
   "source": [
    "# Normalização"
   ]
  },
  {
   "cell_type": "code",
   "execution_count": 103,
   "id": "b3a30eb2",
   "metadata": {},
   "outputs": [
    {
     "data": {
      "text/plain": [
       "array([[0.        , 0.01547959, 0.5       , ..., 0.33333333, 0.9       ,\n",
       "        0.33333333],\n",
       "       [0.        , 0.0089791 , 0.5       , ..., 0.33333333, 1.        ,\n",
       "        0.27777778],\n",
       "       [0.        , 0.        , 0.5       , ..., 0.33333333, 1.        ,\n",
       "        0.27777778],\n",
       "       ...,\n",
       "       [0.4516129 , 0.96296123, 0.        , ..., 0.33333333, 0.        ,\n",
       "        0.66666667],\n",
       "       [0.93548387, 0.76471964, 0.25      , ..., 0.33333333, 0.        ,\n",
       "        0.66666667],\n",
       "       [0.32258065, 1.        , 0.75      , ..., 0.66666667, 0.        ,\n",
       "        0.66666667]])"
      ]
     },
     "execution_count": 103,
     "metadata": {},
     "output_type": "execute_result"
    }
   ],
   "source": [
    "obj_normalizado = MinMaxScaler().fit(newdf)\n",
    "df_normalizado = obj_normalizado.transform(newdf)\n",
    "df_normalizado"
   ]
  },
  {
   "cell_type": "code",
   "execution_count": 104,
   "id": "a23b44b7",
   "metadata": {},
   "outputs": [
    {
     "data": {
      "text/html": [
       "<div>\n",
       "<style scoped>\n",
       "    .dataframe tbody tr th:only-of-type {\n",
       "        vertical-align: middle;\n",
       "    }\n",
       "\n",
       "    .dataframe tbody tr th {\n",
       "        vertical-align: top;\n",
       "    }\n",
       "\n",
       "    .dataframe thead th {\n",
       "        text-align: right;\n",
       "    }\n",
       "</style>\n",
       "<table border=\"1\" class=\"dataframe\">\n",
       "  <thead>\n",
       "    <tr style=\"text-align: right;\">\n",
       "      <th></th>\n",
       "      <th>idade</th>\n",
       "      <th>renda</th>\n",
       "      <th>ano_curso</th>\n",
       "      <th>gad-1</th>\n",
       "      <th>gad-2</th>\n",
       "      <th>gad-3</th>\n",
       "      <th>gad-4</th>\n",
       "      <th>gad-5</th>\n",
       "      <th>gad-6</th>\n",
       "      <th>gad-7</th>\n",
       "      <th>motivacao</th>\n",
       "      <th>total score</th>\n",
       "    </tr>\n",
       "  </thead>\n",
       "  <tbody>\n",
       "    <tr>\n",
       "      <th>0</th>\n",
       "      <td>0.0</td>\n",
       "      <td>0.015480</td>\n",
       "      <td>0.5</td>\n",
       "      <td>0.333333</td>\n",
       "      <td>0.333333</td>\n",
       "      <td>0.333333</td>\n",
       "      <td>0.333333</td>\n",
       "      <td>0.333333</td>\n",
       "      <td>0.333333</td>\n",
       "      <td>0.333333</td>\n",
       "      <td>0.9</td>\n",
       "      <td>0.333333</td>\n",
       "    </tr>\n",
       "    <tr>\n",
       "      <th>1</th>\n",
       "      <td>0.0</td>\n",
       "      <td>0.008979</td>\n",
       "      <td>0.5</td>\n",
       "      <td>0.000000</td>\n",
       "      <td>0.333333</td>\n",
       "      <td>0.333333</td>\n",
       "      <td>0.333333</td>\n",
       "      <td>0.333333</td>\n",
       "      <td>0.333333</td>\n",
       "      <td>0.333333</td>\n",
       "      <td>1.0</td>\n",
       "      <td>0.277778</td>\n",
       "    </tr>\n",
       "    <tr>\n",
       "      <th>2</th>\n",
       "      <td>0.0</td>\n",
       "      <td>0.000000</td>\n",
       "      <td>0.5</td>\n",
       "      <td>0.333333</td>\n",
       "      <td>0.000000</td>\n",
       "      <td>0.333333</td>\n",
       "      <td>0.333333</td>\n",
       "      <td>0.333333</td>\n",
       "      <td>0.333333</td>\n",
       "      <td>0.333333</td>\n",
       "      <td>1.0</td>\n",
       "      <td>0.277778</td>\n",
       "    </tr>\n",
       "    <tr>\n",
       "      <th>3</th>\n",
       "      <td>0.0</td>\n",
       "      <td>0.007296</td>\n",
       "      <td>0.5</td>\n",
       "      <td>0.333333</td>\n",
       "      <td>0.333333</td>\n",
       "      <td>0.333333</td>\n",
       "      <td>0.333333</td>\n",
       "      <td>0.333333</td>\n",
       "      <td>0.333333</td>\n",
       "      <td>0.333333</td>\n",
       "      <td>0.9</td>\n",
       "      <td>0.333333</td>\n",
       "    </tr>\n",
       "    <tr>\n",
       "      <th>4</th>\n",
       "      <td>0.0</td>\n",
       "      <td>0.012206</td>\n",
       "      <td>0.5</td>\n",
       "      <td>0.333333</td>\n",
       "      <td>0.333333</td>\n",
       "      <td>0.333333</td>\n",
       "      <td>0.333333</td>\n",
       "      <td>0.333333</td>\n",
       "      <td>0.333333</td>\n",
       "      <td>0.333333</td>\n",
       "      <td>0.9</td>\n",
       "      <td>0.333333</td>\n",
       "    </tr>\n",
       "  </tbody>\n",
       "</table>\n",
       "</div>"
      ],
      "text/plain": [
       "   idade     renda  ano_curso     gad-1     gad-2     gad-3     gad-4  \\\n",
       "0    0.0  0.015480        0.5  0.333333  0.333333  0.333333  0.333333   \n",
       "1    0.0  0.008979        0.5  0.000000  0.333333  0.333333  0.333333   \n",
       "2    0.0  0.000000        0.5  0.333333  0.000000  0.333333  0.333333   \n",
       "3    0.0  0.007296        0.5  0.333333  0.333333  0.333333  0.333333   \n",
       "4    0.0  0.012206        0.5  0.333333  0.333333  0.333333  0.333333   \n",
       "\n",
       "      gad-5     gad-6     gad-7  motivacao  total score  \n",
       "0  0.333333  0.333333  0.333333        0.9     0.333333  \n",
       "1  0.333333  0.333333  0.333333        1.0     0.277778  \n",
       "2  0.333333  0.333333  0.333333        1.0     0.277778  \n",
       "3  0.333333  0.333333  0.333333        0.9     0.333333  \n",
       "4  0.333333  0.333333  0.333333        0.9     0.333333  "
      ]
     },
     "execution_count": 104,
     "metadata": {},
     "output_type": "execute_result"
    }
   ],
   "source": [
    "# Transformando para DataFrame e nomeando as colunas\n",
    "df_normalizado = pd.DataFrame(df_normalizado)\n",
    "df_normalizado.columns = [\"idade\", \"renda\", \"ano_curso\", \"gad-1\", \"gad-2\", \"gad-3\", \"gad-4\", \"gad-5\", \"gad-6\", \"gad-7\",\n",
    "                          \"motivacao\", \"total score\"]\n",
    "\n",
    "# Visualizando os dados padronizados\n",
    "df_normalizado.head()"
   ]
  },
  {
   "attachments": {},
   "cell_type": "markdown",
   "id": "701583dc",
   "metadata": {},
   "source": [
    "# Regressão linear (dados padronizados e normalizados)"
   ]
  },
  {
   "cell_type": "code",
   "execution_count": 105,
   "id": "3ba68d91",
   "metadata": {},
   "outputs": [
    {
     "data": {
      "text/html": [
       "<div>\n",
       "<style scoped>\n",
       "    .dataframe tbody tr th:only-of-type {\n",
       "        vertical-align: middle;\n",
       "    }\n",
       "\n",
       "    .dataframe tbody tr th {\n",
       "        vertical-align: top;\n",
       "    }\n",
       "\n",
       "    .dataframe thead th {\n",
       "        text-align: right;\n",
       "    }\n",
       "</style>\n",
       "<table border=\"1\" class=\"dataframe\">\n",
       "  <thead>\n",
       "    <tr style=\"text-align: right;\">\n",
       "      <th></th>\n",
       "      <th>gad-1</th>\n",
       "      <th>gad-2</th>\n",
       "      <th>gad-3</th>\n",
       "      <th>gad-4</th>\n",
       "      <th>gad-5</th>\n",
       "      <th>gad-6</th>\n",
       "      <th>gad-7</th>\n",
       "    </tr>\n",
       "  </thead>\n",
       "  <tbody>\n",
       "    <tr>\n",
       "      <th>0</th>\n",
       "      <td>-0.811970</td>\n",
       "      <td>-0.721021</td>\n",
       "      <td>-0.59954</td>\n",
       "      <td>-0.376977</td>\n",
       "      <td>-0.437026</td>\n",
       "      <td>-0.476383</td>\n",
       "      <td>-0.454569</td>\n",
       "    </tr>\n",
       "    <tr>\n",
       "      <th>1</th>\n",
       "      <td>-2.500731</td>\n",
       "      <td>-0.721021</td>\n",
       "      <td>-0.59954</td>\n",
       "      <td>-0.376977</td>\n",
       "      <td>-0.437026</td>\n",
       "      <td>-0.476383</td>\n",
       "      <td>-0.454569</td>\n",
       "    </tr>\n",
       "    <tr>\n",
       "      <th>2</th>\n",
       "      <td>-0.811970</td>\n",
       "      <td>-2.307266</td>\n",
       "      <td>-0.59954</td>\n",
       "      <td>-0.376977</td>\n",
       "      <td>-0.437026</td>\n",
       "      <td>-0.476383</td>\n",
       "      <td>-0.454569</td>\n",
       "    </tr>\n",
       "    <tr>\n",
       "      <th>3</th>\n",
       "      <td>-0.811970</td>\n",
       "      <td>-0.721021</td>\n",
       "      <td>-0.59954</td>\n",
       "      <td>-0.376977</td>\n",
       "      <td>-0.437026</td>\n",
       "      <td>-0.476383</td>\n",
       "      <td>-0.454569</td>\n",
       "    </tr>\n",
       "    <tr>\n",
       "      <th>4</th>\n",
       "      <td>-0.811970</td>\n",
       "      <td>-0.721021</td>\n",
       "      <td>-0.59954</td>\n",
       "      <td>-0.376977</td>\n",
       "      <td>-0.437026</td>\n",
       "      <td>-0.476383</td>\n",
       "      <td>-0.454569</td>\n",
       "    </tr>\n",
       "    <tr>\n",
       "      <th>...</th>\n",
       "      <td>...</td>\n",
       "      <td>...</td>\n",
       "      <td>...</td>\n",
       "      <td>...</td>\n",
       "      <td>...</td>\n",
       "      <td>...</td>\n",
       "      <td>...</td>\n",
       "    </tr>\n",
       "    <tr>\n",
       "      <th>490</th>\n",
       "      <td>0.876791</td>\n",
       "      <td>0.865225</td>\n",
       "      <td>1.22115</td>\n",
       "      <td>1.400199</td>\n",
       "      <td>1.279862</td>\n",
       "      <td>1.232383</td>\n",
       "      <td>1.212183</td>\n",
       "    </tr>\n",
       "    <tr>\n",
       "      <th>491</th>\n",
       "      <td>0.876791</td>\n",
       "      <td>0.865225</td>\n",
       "      <td>1.22115</td>\n",
       "      <td>1.400199</td>\n",
       "      <td>1.279862</td>\n",
       "      <td>1.232383</td>\n",
       "      <td>1.212183</td>\n",
       "    </tr>\n",
       "    <tr>\n",
       "      <th>492</th>\n",
       "      <td>0.876791</td>\n",
       "      <td>0.865225</td>\n",
       "      <td>1.22115</td>\n",
       "      <td>1.400199</td>\n",
       "      <td>1.279862</td>\n",
       "      <td>1.232383</td>\n",
       "      <td>-0.454569</td>\n",
       "    </tr>\n",
       "    <tr>\n",
       "      <th>493</th>\n",
       "      <td>0.876791</td>\n",
       "      <td>0.865225</td>\n",
       "      <td>1.22115</td>\n",
       "      <td>1.400199</td>\n",
       "      <td>1.279862</td>\n",
       "      <td>1.232383</td>\n",
       "      <td>-0.454569</td>\n",
       "    </tr>\n",
       "    <tr>\n",
       "      <th>494</th>\n",
       "      <td>0.876791</td>\n",
       "      <td>0.865225</td>\n",
       "      <td>1.22115</td>\n",
       "      <td>1.400199</td>\n",
       "      <td>1.279862</td>\n",
       "      <td>1.232383</td>\n",
       "      <td>1.212183</td>\n",
       "    </tr>\n",
       "  </tbody>\n",
       "</table>\n",
       "<p>495 rows × 7 columns</p>\n",
       "</div>"
      ],
      "text/plain": [
       "        gad-1     gad-2    gad-3     gad-4     gad-5     gad-6     gad-7\n",
       "0   -0.811970 -0.721021 -0.59954 -0.376977 -0.437026 -0.476383 -0.454569\n",
       "1   -2.500731 -0.721021 -0.59954 -0.376977 -0.437026 -0.476383 -0.454569\n",
       "2   -0.811970 -2.307266 -0.59954 -0.376977 -0.437026 -0.476383 -0.454569\n",
       "3   -0.811970 -0.721021 -0.59954 -0.376977 -0.437026 -0.476383 -0.454569\n",
       "4   -0.811970 -0.721021 -0.59954 -0.376977 -0.437026 -0.476383 -0.454569\n",
       "..        ...       ...      ...       ...       ...       ...       ...\n",
       "490  0.876791  0.865225  1.22115  1.400199  1.279862  1.232383  1.212183\n",
       "491  0.876791  0.865225  1.22115  1.400199  1.279862  1.232383  1.212183\n",
       "492  0.876791  0.865225  1.22115  1.400199  1.279862  1.232383 -0.454569\n",
       "493  0.876791  0.865225  1.22115  1.400199  1.279862  1.232383 -0.454569\n",
       "494  0.876791  0.865225  1.22115  1.400199  1.279862  1.232383  1.212183\n",
       "\n",
       "[495 rows x 7 columns]"
      ]
     },
     "execution_count": 105,
     "metadata": {},
     "output_type": "execute_result"
    }
   ],
   "source": [
    "X1 = df_padronizado[[\"gad-1\", \"gad-2\", \"gad-3\", \"gad-4\", \"gad-5\", \"gad-6\", \"gad-7\"]]\n",
    "X1"
   ]
  },
  {
   "cell_type": "code",
   "execution_count": 106,
   "id": "43f5f602",
   "metadata": {},
   "outputs": [
    {
     "data": {
      "text/plain": [
       "0      0.948891\n",
       "1      1.266472\n",
       "2      1.266472\n",
       "3      0.948891\n",
       "4      0.948891\n",
       "         ...   \n",
       "490   -1.909331\n",
       "491   -1.591751\n",
       "492   -1.909331\n",
       "493   -1.909331\n",
       "494   -1.909331\n",
       "Name: motivacao, Length: 495, dtype: float64"
      ]
     },
     "execution_count": 106,
     "metadata": {},
     "output_type": "execute_result"
    }
   ],
   "source": [
    "y1 = df_padronizado[\"motivacao\"]\n",
    "y1"
   ]
  },
  {
   "cell_type": "code",
   "execution_count": 107,
   "id": "a37faeac",
   "metadata": {},
   "outputs": [
    {
     "data": {
      "text/plain": [
       "0.5319127735408871"
      ]
     },
     "execution_count": 107,
     "metadata": {},
     "output_type": "execute_result"
    }
   ],
   "source": [
    "X_train, X_test, y_train, y_test = train_test_split(X1, y1, test_size=0.3, random_state=100)\n",
    "model = LinearRegression()\n",
    "model.fit(X_train, y_train)\n",
    "y_pred = model.predict(X_test)\n",
    "\n",
    "r2_score(y_test, y_pred)"
   ]
  },
  {
   "cell_type": "code",
   "execution_count": 115,
   "id": "4c02a7d0",
   "metadata": {},
   "outputs": [
    {
     "data": {
      "text/html": [
       "<div>\n",
       "<style scoped>\n",
       "    .dataframe tbody tr th:only-of-type {\n",
       "        vertical-align: middle;\n",
       "    }\n",
       "\n",
       "    .dataframe tbody tr th {\n",
       "        vertical-align: top;\n",
       "    }\n",
       "\n",
       "    .dataframe thead th {\n",
       "        text-align: right;\n",
       "    }\n",
       "</style>\n",
       "<table border=\"1\" class=\"dataframe\">\n",
       "  <thead>\n",
       "    <tr style=\"text-align: right;\">\n",
       "      <th></th>\n",
       "      <th>gad-1</th>\n",
       "      <th>gad-2</th>\n",
       "      <th>gad-3</th>\n",
       "      <th>gad-4</th>\n",
       "      <th>gad-5</th>\n",
       "      <th>gad-6</th>\n",
       "      <th>gad-7</th>\n",
       "    </tr>\n",
       "  </thead>\n",
       "  <tbody>\n",
       "    <tr>\n",
       "      <th>0</th>\n",
       "      <td>0.333333</td>\n",
       "      <td>0.333333</td>\n",
       "      <td>0.333333</td>\n",
       "      <td>0.333333</td>\n",
       "      <td>0.333333</td>\n",
       "      <td>0.333333</td>\n",
       "      <td>0.333333</td>\n",
       "    </tr>\n",
       "    <tr>\n",
       "      <th>1</th>\n",
       "      <td>0.000000</td>\n",
       "      <td>0.333333</td>\n",
       "      <td>0.333333</td>\n",
       "      <td>0.333333</td>\n",
       "      <td>0.333333</td>\n",
       "      <td>0.333333</td>\n",
       "      <td>0.333333</td>\n",
       "    </tr>\n",
       "    <tr>\n",
       "      <th>2</th>\n",
       "      <td>0.333333</td>\n",
       "      <td>0.000000</td>\n",
       "      <td>0.333333</td>\n",
       "      <td>0.333333</td>\n",
       "      <td>0.333333</td>\n",
       "      <td>0.333333</td>\n",
       "      <td>0.333333</td>\n",
       "    </tr>\n",
       "    <tr>\n",
       "      <th>3</th>\n",
       "      <td>0.333333</td>\n",
       "      <td>0.333333</td>\n",
       "      <td>0.333333</td>\n",
       "      <td>0.333333</td>\n",
       "      <td>0.333333</td>\n",
       "      <td>0.333333</td>\n",
       "      <td>0.333333</td>\n",
       "    </tr>\n",
       "    <tr>\n",
       "      <th>4</th>\n",
       "      <td>0.333333</td>\n",
       "      <td>0.333333</td>\n",
       "      <td>0.333333</td>\n",
       "      <td>0.333333</td>\n",
       "      <td>0.333333</td>\n",
       "      <td>0.333333</td>\n",
       "      <td>0.333333</td>\n",
       "    </tr>\n",
       "    <tr>\n",
       "      <th>...</th>\n",
       "      <td>...</td>\n",
       "      <td>...</td>\n",
       "      <td>...</td>\n",
       "      <td>...</td>\n",
       "      <td>...</td>\n",
       "      <td>...</td>\n",
       "      <td>...</td>\n",
       "    </tr>\n",
       "    <tr>\n",
       "      <th>490</th>\n",
       "      <td>0.666667</td>\n",
       "      <td>0.666667</td>\n",
       "      <td>0.666667</td>\n",
       "      <td>0.666667</td>\n",
       "      <td>0.666667</td>\n",
       "      <td>0.666667</td>\n",
       "      <td>0.666667</td>\n",
       "    </tr>\n",
       "    <tr>\n",
       "      <th>491</th>\n",
       "      <td>0.666667</td>\n",
       "      <td>0.666667</td>\n",
       "      <td>0.666667</td>\n",
       "      <td>0.666667</td>\n",
       "      <td>0.666667</td>\n",
       "      <td>0.666667</td>\n",
       "      <td>0.666667</td>\n",
       "    </tr>\n",
       "    <tr>\n",
       "      <th>492</th>\n",
       "      <td>0.666667</td>\n",
       "      <td>0.666667</td>\n",
       "      <td>0.666667</td>\n",
       "      <td>0.666667</td>\n",
       "      <td>0.666667</td>\n",
       "      <td>0.666667</td>\n",
       "      <td>0.333333</td>\n",
       "    </tr>\n",
       "    <tr>\n",
       "      <th>493</th>\n",
       "      <td>0.666667</td>\n",
       "      <td>0.666667</td>\n",
       "      <td>0.666667</td>\n",
       "      <td>0.666667</td>\n",
       "      <td>0.666667</td>\n",
       "      <td>0.666667</td>\n",
       "      <td>0.333333</td>\n",
       "    </tr>\n",
       "    <tr>\n",
       "      <th>494</th>\n",
       "      <td>0.666667</td>\n",
       "      <td>0.666667</td>\n",
       "      <td>0.666667</td>\n",
       "      <td>0.666667</td>\n",
       "      <td>0.666667</td>\n",
       "      <td>0.666667</td>\n",
       "      <td>0.666667</td>\n",
       "    </tr>\n",
       "  </tbody>\n",
       "</table>\n",
       "<p>495 rows × 7 columns</p>\n",
       "</div>"
      ],
      "text/plain": [
       "        gad-1     gad-2     gad-3     gad-4     gad-5     gad-6     gad-7\n",
       "0    0.333333  0.333333  0.333333  0.333333  0.333333  0.333333  0.333333\n",
       "1    0.000000  0.333333  0.333333  0.333333  0.333333  0.333333  0.333333\n",
       "2    0.333333  0.000000  0.333333  0.333333  0.333333  0.333333  0.333333\n",
       "3    0.333333  0.333333  0.333333  0.333333  0.333333  0.333333  0.333333\n",
       "4    0.333333  0.333333  0.333333  0.333333  0.333333  0.333333  0.333333\n",
       "..        ...       ...       ...       ...       ...       ...       ...\n",
       "490  0.666667  0.666667  0.666667  0.666667  0.666667  0.666667  0.666667\n",
       "491  0.666667  0.666667  0.666667  0.666667  0.666667  0.666667  0.666667\n",
       "492  0.666667  0.666667  0.666667  0.666667  0.666667  0.666667  0.333333\n",
       "493  0.666667  0.666667  0.666667  0.666667  0.666667  0.666667  0.333333\n",
       "494  0.666667  0.666667  0.666667  0.666667  0.666667  0.666667  0.666667\n",
       "\n",
       "[495 rows x 7 columns]"
      ]
     },
     "execution_count": 115,
     "metadata": {},
     "output_type": "execute_result"
    }
   ],
   "source": [
    "X2 = df_normalizado[[\"gad-1\", \"gad-2\", \"gad-3\", \"gad-4\", \"gad-5\", \"gad-6\", \"gad-7\"]]\n",
    "X2"
   ]
  },
  {
   "cell_type": "code",
   "execution_count": 116,
   "id": "53f941d1",
   "metadata": {},
   "outputs": [
    {
     "data": {
      "text/plain": [
       "0      0.9\n",
       "1      1.0\n",
       "2      1.0\n",
       "3      0.9\n",
       "4      0.9\n",
       "      ... \n",
       "490    0.0\n",
       "491    0.1\n",
       "492    0.0\n",
       "493    0.0\n",
       "494    0.0\n",
       "Name: motivacao, Length: 495, dtype: float64"
      ]
     },
     "execution_count": 116,
     "metadata": {},
     "output_type": "execute_result"
    }
   ],
   "source": [
    "y2 = df_normalizado[\"motivacao\"]\n",
    "y2"
   ]
  },
  {
   "cell_type": "code",
   "execution_count": 127,
   "id": "4b382ecb",
   "metadata": {},
   "outputs": [
    {
     "data": {
      "text/plain": [
       "0.5319127735408872"
      ]
     },
     "execution_count": 127,
     "metadata": {},
     "output_type": "execute_result"
    }
   ],
   "source": [
    "X_train, X_test, y_train, y_test = train_test_split(X2, y2, test_size=0.3, random_state=100)\n",
    "model = LinearRegression()\n",
    "model.fit(X_train, y_train)\n",
    "y_pred = model.predict(X_test)\n",
    "\n",
    "r2_score(y_test, y_pred)"
   ]
  },
  {
   "attachments": {},
   "cell_type": "markdown",
   "id": "13bc8009",
   "metadata": {},
   "source": [
    "# Análise do dataset original para identificação de indivíduos em risco"
   ]
  },
  {
   "cell_type": "code",
   "execution_count": 111,
   "id": "dcfffa53",
   "metadata": {},
   "outputs": [
    {
     "data": {
      "text/html": [
       "<div>\n",
       "<style scoped>\n",
       "    .dataframe tbody tr th:only-of-type {\n",
       "        vertical-align: middle;\n",
       "    }\n",
       "\n",
       "    .dataframe tbody tr th {\n",
       "        vertical-align: top;\n",
       "    }\n",
       "\n",
       "    .dataframe thead th {\n",
       "        text-align: right;\n",
       "    }\n",
       "</style>\n",
       "<table border=\"1\" class=\"dataframe\">\n",
       "  <thead>\n",
       "    <tr style=\"text-align: right;\">\n",
       "      <th></th>\n",
       "      <th>matrícula</th>\n",
       "      <th>nome</th>\n",
       "      <th>idade</th>\n",
       "      <th>renda</th>\n",
       "      <th>cor</th>\n",
       "      <th>sexo</th>\n",
       "      <th>ano_curso</th>\n",
       "      <th>escola</th>\n",
       "      <th>cod_curso</th>\n",
       "      <th>logradouro</th>\n",
       "      <th>...</th>\n",
       "      <th>uf</th>\n",
       "      <th>cep</th>\n",
       "      <th>gad-1</th>\n",
       "      <th>gad-2</th>\n",
       "      <th>gad-3</th>\n",
       "      <th>gad-4</th>\n",
       "      <th>gad-5</th>\n",
       "      <th>gad-6</th>\n",
       "      <th>gad-7</th>\n",
       "      <th>motivação</th>\n",
       "    </tr>\n",
       "  </thead>\n",
       "  <tbody>\n",
       "    <tr>\n",
       "      <th>0</th>\n",
       "      <td>RA55000001</td>\n",
       "      <td>Osane Inácio Pinhal Ouro</td>\n",
       "      <td>19</td>\n",
       "      <td>418.0</td>\n",
       "      <td>1</td>\n",
       "      <td>2</td>\n",
       "      <td>3</td>\n",
       "      <td>1</td>\n",
       "      <td>5</td>\n",
       "      <td>Viela Vinte e Sete de Setembro</td>\n",
       "      <td>...</td>\n",
       "      <td>SP</td>\n",
       "      <td>04235-090</td>\n",
       "      <td>1</td>\n",
       "      <td>1</td>\n",
       "      <td>1</td>\n",
       "      <td>1</td>\n",
       "      <td>1</td>\n",
       "      <td>1</td>\n",
       "      <td>1</td>\n",
       "      <td>9</td>\n",
       "    </tr>\n",
       "    <tr>\n",
       "      <th>1</th>\n",
       "      <td>RA55000002</td>\n",
       "      <td>Zezita Olivares Ferro Telinhos</td>\n",
       "      <td>19</td>\n",
       "      <td>279.0</td>\n",
       "      <td>1</td>\n",
       "      <td>2</td>\n",
       "      <td>3</td>\n",
       "      <td>1</td>\n",
       "      <td>2</td>\n",
       "      <td>Rua Marechal Marques Porto</td>\n",
       "      <td>...</td>\n",
       "      <td>SP</td>\n",
       "      <td>03906-020</td>\n",
       "      <td>0</td>\n",
       "      <td>1</td>\n",
       "      <td>1</td>\n",
       "      <td>1</td>\n",
       "      <td>1</td>\n",
       "      <td>1</td>\n",
       "      <td>1</td>\n",
       "      <td>10</td>\n",
       "    </tr>\n",
       "    <tr>\n",
       "      <th>2</th>\n",
       "      <td>RA55000003</td>\n",
       "      <td>Orleis Bilhalva Pereira Moita</td>\n",
       "      <td>19</td>\n",
       "      <td>87.0</td>\n",
       "      <td>1</td>\n",
       "      <td>1</td>\n",
       "      <td>3</td>\n",
       "      <td>1</td>\n",
       "      <td>9</td>\n",
       "      <td>Rua Vinte de Março</td>\n",
       "      <td>...</td>\n",
       "      <td>SP</td>\n",
       "      <td>02326-115</td>\n",
       "      <td>1</td>\n",
       "      <td>0</td>\n",
       "      <td>1</td>\n",
       "      <td>1</td>\n",
       "      <td>1</td>\n",
       "      <td>1</td>\n",
       "      <td>1</td>\n",
       "      <td>10</td>\n",
       "    </tr>\n",
       "    <tr>\n",
       "      <th>3</th>\n",
       "      <td>RA55000004</td>\n",
       "      <td>Kaiuan Félix</td>\n",
       "      <td>19</td>\n",
       "      <td>243.0</td>\n",
       "      <td>1</td>\n",
       "      <td>1</td>\n",
       "      <td>3</td>\n",
       "      <td>1</td>\n",
       "      <td>9</td>\n",
       "      <td>Rua João Pires</td>\n",
       "      <td>...</td>\n",
       "      <td>SP</td>\n",
       "      <td>03168-060</td>\n",
       "      <td>1</td>\n",
       "      <td>1</td>\n",
       "      <td>1</td>\n",
       "      <td>1</td>\n",
       "      <td>1</td>\n",
       "      <td>1</td>\n",
       "      <td>1</td>\n",
       "      <td>9</td>\n",
       "    </tr>\n",
       "    <tr>\n",
       "      <th>4</th>\n",
       "      <td>RA55000005</td>\n",
       "      <td>Geovan Quaresma Lameirinhas</td>\n",
       "      <td>19</td>\n",
       "      <td>348.0</td>\n",
       "      <td>1</td>\n",
       "      <td>1</td>\n",
       "      <td>3</td>\n",
       "      <td>1</td>\n",
       "      <td>6</td>\n",
       "      <td>Rua São João</td>\n",
       "      <td>...</td>\n",
       "      <td>SP</td>\n",
       "      <td>02920-050</td>\n",
       "      <td>1</td>\n",
       "      <td>1</td>\n",
       "      <td>1</td>\n",
       "      <td>1</td>\n",
       "      <td>1</td>\n",
       "      <td>1</td>\n",
       "      <td>1</td>\n",
       "      <td>9</td>\n",
       "    </tr>\n",
       "  </tbody>\n",
       "</table>\n",
       "<p>5 rows × 23 columns</p>\n",
       "</div>"
      ],
      "text/plain": [
       "    matrícula                            nome  idade  renda  cor  sexo  \\\n",
       "0  RA55000001        Osane Inácio Pinhal Ouro     19  418.0    1     2   \n",
       "1  RA55000002  Zezita Olivares Ferro Telinhos     19  279.0    1     2   \n",
       "2  RA55000003   Orleis Bilhalva Pereira Moita     19   87.0    1     1   \n",
       "3  RA55000004                    Kaiuan Félix     19  243.0    1     1   \n",
       "4  RA55000005     Geovan Quaresma Lameirinhas     19  348.0    1     1   \n",
       "\n",
       "   ano_curso  escola  cod_curso                      logradouro  ...  uf  \\\n",
       "0          3       1          5  Viela Vinte e Sete de Setembro  ...  SP   \n",
       "1          3       1          2      Rua Marechal Marques Porto  ...  SP   \n",
       "2          3       1          9              Rua Vinte de Março  ...  SP   \n",
       "3          3       1          9                  Rua João Pires  ...  SP   \n",
       "4          3       1          6                    Rua São João  ...  SP   \n",
       "\n",
       "         cep gad-1 gad-2 gad-3  gad-4  gad-5  gad-6  gad-7  motivação  \n",
       "0  04235-090     1     1     1      1      1      1      1          9  \n",
       "1  03906-020     0     1     1      1      1      1      1         10  \n",
       "2  02326-115     1     0     1      1      1      1      1         10  \n",
       "3  03168-060     1     1     1      1      1      1      1          9  \n",
       "4  02920-050     1     1     1      1      1      1      1          9  \n",
       "\n",
       "[5 rows x 23 columns]"
      ]
     },
     "execution_count": 111,
     "metadata": {},
     "output_type": "execute_result"
    }
   ],
   "source": [
    "main2 = pd.read_csv(\"dataset.tsv\", sep = \"\\t\")\n",
    "main2.head()"
   ]
  },
  {
   "cell_type": "code",
   "execution_count": 112,
   "id": "a8da58e9",
   "metadata": {},
   "outputs": [
    {
     "data": {
      "text/html": [
       "<div>\n",
       "<style scoped>\n",
       "    .dataframe tbody tr th:only-of-type {\n",
       "        vertical-align: middle;\n",
       "    }\n",
       "\n",
       "    .dataframe tbody tr th {\n",
       "        vertical-align: top;\n",
       "    }\n",
       "\n",
       "    .dataframe thead th {\n",
       "        text-align: right;\n",
       "    }\n",
       "</style>\n",
       "<table border=\"1\" class=\"dataframe\">\n",
       "  <thead>\n",
       "    <tr style=\"text-align: right;\">\n",
       "      <th></th>\n",
       "      <th>matrícula</th>\n",
       "      <th>nome</th>\n",
       "      <th>idade</th>\n",
       "      <th>renda</th>\n",
       "      <th>cor</th>\n",
       "      <th>sexo</th>\n",
       "      <th>ano_curso</th>\n",
       "      <th>escola</th>\n",
       "      <th>cod_curso</th>\n",
       "      <th>logradouro</th>\n",
       "      <th>...</th>\n",
       "      <th>cep</th>\n",
       "      <th>gad-1</th>\n",
       "      <th>gad-2</th>\n",
       "      <th>gad-3</th>\n",
       "      <th>gad-4</th>\n",
       "      <th>gad-5</th>\n",
       "      <th>gad-6</th>\n",
       "      <th>gad-7</th>\n",
       "      <th>motivação</th>\n",
       "      <th>total score</th>\n",
       "    </tr>\n",
       "  </thead>\n",
       "  <tbody>\n",
       "    <tr>\n",
       "      <th>0</th>\n",
       "      <td>RA55000001</td>\n",
       "      <td>Osane Inácio Pinhal Ouro</td>\n",
       "      <td>19</td>\n",
       "      <td>418.00</td>\n",
       "      <td>1</td>\n",
       "      <td>2</td>\n",
       "      <td>3</td>\n",
       "      <td>1</td>\n",
       "      <td>5</td>\n",
       "      <td>Viela Vinte e Sete de Setembro</td>\n",
       "      <td>...</td>\n",
       "      <td>04235-090</td>\n",
       "      <td>1</td>\n",
       "      <td>1</td>\n",
       "      <td>1</td>\n",
       "      <td>1</td>\n",
       "      <td>1</td>\n",
       "      <td>1</td>\n",
       "      <td>1</td>\n",
       "      <td>9</td>\n",
       "      <td>6</td>\n",
       "    </tr>\n",
       "    <tr>\n",
       "      <th>1</th>\n",
       "      <td>RA55000002</td>\n",
       "      <td>Zezita Olivares Ferro Telinhos</td>\n",
       "      <td>19</td>\n",
       "      <td>279.00</td>\n",
       "      <td>1</td>\n",
       "      <td>2</td>\n",
       "      <td>3</td>\n",
       "      <td>1</td>\n",
       "      <td>2</td>\n",
       "      <td>Rua Marechal Marques Porto</td>\n",
       "      <td>...</td>\n",
       "      <td>03906-020</td>\n",
       "      <td>0</td>\n",
       "      <td>1</td>\n",
       "      <td>1</td>\n",
       "      <td>1</td>\n",
       "      <td>1</td>\n",
       "      <td>1</td>\n",
       "      <td>1</td>\n",
       "      <td>10</td>\n",
       "      <td>6</td>\n",
       "    </tr>\n",
       "    <tr>\n",
       "      <th>2</th>\n",
       "      <td>RA55000003</td>\n",
       "      <td>Orleis Bilhalva Pereira Moita</td>\n",
       "      <td>19</td>\n",
       "      <td>87.00</td>\n",
       "      <td>1</td>\n",
       "      <td>1</td>\n",
       "      <td>3</td>\n",
       "      <td>1</td>\n",
       "      <td>9</td>\n",
       "      <td>Rua Vinte de Março</td>\n",
       "      <td>...</td>\n",
       "      <td>02326-115</td>\n",
       "      <td>1</td>\n",
       "      <td>0</td>\n",
       "      <td>1</td>\n",
       "      <td>1</td>\n",
       "      <td>1</td>\n",
       "      <td>1</td>\n",
       "      <td>1</td>\n",
       "      <td>10</td>\n",
       "      <td>5</td>\n",
       "    </tr>\n",
       "    <tr>\n",
       "      <th>3</th>\n",
       "      <td>RA55000004</td>\n",
       "      <td>Kaiuan Félix</td>\n",
       "      <td>19</td>\n",
       "      <td>243.00</td>\n",
       "      <td>1</td>\n",
       "      <td>1</td>\n",
       "      <td>3</td>\n",
       "      <td>1</td>\n",
       "      <td>9</td>\n",
       "      <td>Rua João Pires</td>\n",
       "      <td>...</td>\n",
       "      <td>03168-060</td>\n",
       "      <td>1</td>\n",
       "      <td>1</td>\n",
       "      <td>1</td>\n",
       "      <td>1</td>\n",
       "      <td>1</td>\n",
       "      <td>1</td>\n",
       "      <td>1</td>\n",
       "      <td>9</td>\n",
       "      <td>6</td>\n",
       "    </tr>\n",
       "    <tr>\n",
       "      <th>4</th>\n",
       "      <td>RA55000005</td>\n",
       "      <td>Geovan Quaresma Lameirinhas</td>\n",
       "      <td>19</td>\n",
       "      <td>348.00</td>\n",
       "      <td>1</td>\n",
       "      <td>1</td>\n",
       "      <td>3</td>\n",
       "      <td>1</td>\n",
       "      <td>6</td>\n",
       "      <td>Rua São João</td>\n",
       "      <td>...</td>\n",
       "      <td>02920-050</td>\n",
       "      <td>1</td>\n",
       "      <td>1</td>\n",
       "      <td>1</td>\n",
       "      <td>1</td>\n",
       "      <td>1</td>\n",
       "      <td>1</td>\n",
       "      <td>1</td>\n",
       "      <td>9</td>\n",
       "      <td>6</td>\n",
       "    </tr>\n",
       "    <tr>\n",
       "      <th>...</th>\n",
       "      <td>...</td>\n",
       "      <td>...</td>\n",
       "      <td>...</td>\n",
       "      <td>...</td>\n",
       "      <td>...</td>\n",
       "      <td>...</td>\n",
       "      <td>...</td>\n",
       "      <td>...</td>\n",
       "      <td>...</td>\n",
       "      <td>...</td>\n",
       "      <td>...</td>\n",
       "      <td>...</td>\n",
       "      <td>...</td>\n",
       "      <td>...</td>\n",
       "      <td>...</td>\n",
       "      <td>...</td>\n",
       "      <td>...</td>\n",
       "      <td>...</td>\n",
       "      <td>...</td>\n",
       "      <td>...</td>\n",
       "      <td>...</td>\n",
       "    </tr>\n",
       "    <tr>\n",
       "      <th>495</th>\n",
       "      <td>RA55000496</td>\n",
       "      <td>Dorielma Farinha Angelim</td>\n",
       "      <td>31</td>\n",
       "      <td>22669.71</td>\n",
       "      <td>1</td>\n",
       "      <td>2</td>\n",
       "      <td>2</td>\n",
       "      <td>2</td>\n",
       "      <td>6</td>\n",
       "      <td>Viela Treze de Abril</td>\n",
       "      <td>...</td>\n",
       "      <td>08150-750</td>\n",
       "      <td>2</td>\n",
       "      <td>2</td>\n",
       "      <td>2</td>\n",
       "      <td>1</td>\n",
       "      <td>1</td>\n",
       "      <td>1</td>\n",
       "      <td>1</td>\n",
       "      <td>1</td>\n",
       "      <td>8</td>\n",
       "    </tr>\n",
       "    <tr>\n",
       "      <th>496</th>\n",
       "      <td>RA55000497</td>\n",
       "      <td>Carlene Barra Girão Quesado</td>\n",
       "      <td>45</td>\n",
       "      <td>229643.80</td>\n",
       "      <td>1</td>\n",
       "      <td>2</td>\n",
       "      <td>1</td>\n",
       "      <td>2</td>\n",
       "      <td>1</td>\n",
       "      <td>Rua Sargento Olício Alves</td>\n",
       "      <td>...</td>\n",
       "      <td>04455-180</td>\n",
       "      <td>2</td>\n",
       "      <td>2</td>\n",
       "      <td>2</td>\n",
       "      <td>2</td>\n",
       "      <td>2</td>\n",
       "      <td>2</td>\n",
       "      <td>2</td>\n",
       "      <td>1</td>\n",
       "      <td>12</td>\n",
       "    </tr>\n",
       "    <tr>\n",
       "      <th>497</th>\n",
       "      <td>RA55000498</td>\n",
       "      <td>Dinalia Neves Carmona Serpa</td>\n",
       "      <td>32</td>\n",
       "      <td>572939.98</td>\n",
       "      <td>2</td>\n",
       "      <td>2</td>\n",
       "      <td>5</td>\n",
       "      <td>2</td>\n",
       "      <td>6</td>\n",
       "      <td>Rua Dona Domitila</td>\n",
       "      <td>...</td>\n",
       "      <td>03882-180</td>\n",
       "      <td>2</td>\n",
       "      <td>2</td>\n",
       "      <td>2</td>\n",
       "      <td>2</td>\n",
       "      <td>1</td>\n",
       "      <td>1</td>\n",
       "      <td>1</td>\n",
       "      <td>1</td>\n",
       "      <td>9</td>\n",
       "    </tr>\n",
       "    <tr>\n",
       "      <th>498</th>\n",
       "      <td>RA55000499</td>\n",
       "      <td>Agni Andrade Vidigal</td>\n",
       "      <td>34</td>\n",
       "      <td>898004.00</td>\n",
       "      <td>1</td>\n",
       "      <td>1</td>\n",
       "      <td>5</td>\n",
       "      <td>2</td>\n",
       "      <td>9</td>\n",
       "      <td>Rua Dom Pedro</td>\n",
       "      <td>...</td>\n",
       "      <td>04470-037</td>\n",
       "      <td>1</td>\n",
       "      <td>1</td>\n",
       "      <td>1</td>\n",
       "      <td>1</td>\n",
       "      <td>1</td>\n",
       "      <td>1</td>\n",
       "      <td>1</td>\n",
       "      <td>0</td>\n",
       "      <td>6</td>\n",
       "    </tr>\n",
       "    <tr>\n",
       "      <th>499</th>\n",
       "      <td>RA55000500</td>\n",
       "      <td>Gilvanise Pinheiro</td>\n",
       "      <td>25</td>\n",
       "      <td>453792.67</td>\n",
       "      <td>1</td>\n",
       "      <td>2</td>\n",
       "      <td>4</td>\n",
       "      <td>2</td>\n",
       "      <td>1</td>\n",
       "      <td>Rua Pedro Doll</td>\n",
       "      <td>...</td>\n",
       "      <td>02404-001</td>\n",
       "      <td>2</td>\n",
       "      <td>2</td>\n",
       "      <td>2</td>\n",
       "      <td>2</td>\n",
       "      <td>2</td>\n",
       "      <td>2</td>\n",
       "      <td>2</td>\n",
       "      <td>1</td>\n",
       "      <td>12</td>\n",
       "    </tr>\n",
       "  </tbody>\n",
       "</table>\n",
       "<p>500 rows × 24 columns</p>\n",
       "</div>"
      ],
      "text/plain": [
       "      matrícula                            nome  idade      renda  cor  sexo  \\\n",
       "0    RA55000001        Osane Inácio Pinhal Ouro     19     418.00    1     2   \n",
       "1    RA55000002  Zezita Olivares Ferro Telinhos     19     279.00    1     2   \n",
       "2    RA55000003   Orleis Bilhalva Pereira Moita     19      87.00    1     1   \n",
       "3    RA55000004                    Kaiuan Félix     19     243.00    1     1   \n",
       "4    RA55000005     Geovan Quaresma Lameirinhas     19     348.00    1     1   \n",
       "..          ...                             ...    ...        ...  ...   ...   \n",
       "495  RA55000496        Dorielma Farinha Angelim     31   22669.71    1     2   \n",
       "496  RA55000497     Carlene Barra Girão Quesado     45  229643.80    1     2   \n",
       "497  RA55000498     Dinalia Neves Carmona Serpa     32  572939.98    2     2   \n",
       "498  RA55000499            Agni Andrade Vidigal     34  898004.00    1     1   \n",
       "499  RA55000500              Gilvanise Pinheiro     25  453792.67    1     2   \n",
       "\n",
       "     ano_curso  escola  cod_curso                      logradouro  ...  \\\n",
       "0            3       1          5  Viela Vinte e Sete de Setembro  ...   \n",
       "1            3       1          2      Rua Marechal Marques Porto  ...   \n",
       "2            3       1          9              Rua Vinte de Março  ...   \n",
       "3            3       1          9                  Rua João Pires  ...   \n",
       "4            3       1          6                    Rua São João  ...   \n",
       "..         ...     ...        ...                             ...  ...   \n",
       "495          2       2          6            Viela Treze de Abril  ...   \n",
       "496          1       2          1       Rua Sargento Olício Alves  ...   \n",
       "497          5       2          6               Rua Dona Domitila  ...   \n",
       "498          5       2          9                   Rua Dom Pedro  ...   \n",
       "499          4       2          1                  Rua Pedro Doll  ...   \n",
       "\n",
       "           cep gad-1 gad-2 gad-3 gad-4  gad-5  gad-6  gad-7  motivação  \\\n",
       "0    04235-090     1     1     1     1      1      1      1          9   \n",
       "1    03906-020     0     1     1     1      1      1      1         10   \n",
       "2    02326-115     1     0     1     1      1      1      1         10   \n",
       "3    03168-060     1     1     1     1      1      1      1          9   \n",
       "4    02920-050     1     1     1     1      1      1      1          9   \n",
       "..         ...   ...   ...   ...   ...    ...    ...    ...        ...   \n",
       "495  08150-750     2     2     2     1      1      1      1          1   \n",
       "496  04455-180     2     2     2     2      2      2      2          1   \n",
       "497  03882-180     2     2     2     2      1      1      1          1   \n",
       "498  04470-037     1     1     1     1      1      1      1          0   \n",
       "499  02404-001     2     2     2     2      2      2      2          1   \n",
       "\n",
       "     total score  \n",
       "0              6  \n",
       "1              6  \n",
       "2              5  \n",
       "3              6  \n",
       "4              6  \n",
       "..           ...  \n",
       "495            8  \n",
       "496           12  \n",
       "497            9  \n",
       "498            6  \n",
       "499           12  \n",
       "\n",
       "[500 rows x 24 columns]"
      ]
     },
     "execution_count": 112,
     "metadata": {},
     "output_type": "execute_result"
    }
   ],
   "source": [
    "main2['total score'] = main2.iloc[:, 16:22].sum(axis=1)\n",
    "main2"
   ]
  },
  {
   "cell_type": "code",
   "execution_count": 113,
   "id": "966eb4c0",
   "metadata": {},
   "outputs": [
    {
     "data": {
      "text/html": [
       "<div>\n",
       "<style scoped>\n",
       "    .dataframe tbody tr th:only-of-type {\n",
       "        vertical-align: middle;\n",
       "    }\n",
       "\n",
       "    .dataframe tbody tr th {\n",
       "        vertical-align: top;\n",
       "    }\n",
       "\n",
       "    .dataframe thead th {\n",
       "        text-align: right;\n",
       "    }\n",
       "</style>\n",
       "<table border=\"1\" class=\"dataframe\">\n",
       "  <thead>\n",
       "    <tr style=\"text-align: right;\">\n",
       "      <th></th>\n",
       "      <th>matrícula</th>\n",
       "      <th>nome</th>\n",
       "      <th>idade</th>\n",
       "      <th>renda</th>\n",
       "      <th>cor</th>\n",
       "      <th>sexo</th>\n",
       "      <th>ano_curso</th>\n",
       "      <th>escola</th>\n",
       "      <th>cod_curso</th>\n",
       "      <th>logradouro</th>\n",
       "      <th>...</th>\n",
       "      <th>cep</th>\n",
       "      <th>gad-1</th>\n",
       "      <th>gad-2</th>\n",
       "      <th>gad-3</th>\n",
       "      <th>gad-4</th>\n",
       "      <th>gad-5</th>\n",
       "      <th>gad-6</th>\n",
       "      <th>gad-7</th>\n",
       "      <th>motivação</th>\n",
       "      <th>total score</th>\n",
       "    </tr>\n",
       "  </thead>\n",
       "  <tbody>\n",
       "    <tr>\n",
       "      <th>54</th>\n",
       "      <td>RA55000055</td>\n",
       "      <td>Otavio Nascimento Seabra</td>\n",
       "      <td>19</td>\n",
       "      <td>1010.99</td>\n",
       "      <td>1</td>\n",
       "      <td>1</td>\n",
       "      <td>3</td>\n",
       "      <td>1</td>\n",
       "      <td>9</td>\n",
       "      <td>Rua João Pujol</td>\n",
       "      <td>...</td>\n",
       "      <td>03471-020</td>\n",
       "      <td>1</td>\n",
       "      <td>1</td>\n",
       "      <td>2</td>\n",
       "      <td>1</td>\n",
       "      <td>2</td>\n",
       "      <td>2</td>\n",
       "      <td>2</td>\n",
       "      <td>9</td>\n",
       "      <td>10.0</td>\n",
       "    </tr>\n",
       "    <tr>\n",
       "      <th>62</th>\n",
       "      <td>RA55000063</td>\n",
       "      <td>Alvacir Cobra Nobre Camargo</td>\n",
       "      <td>19</td>\n",
       "      <td>792.99</td>\n",
       "      <td>1</td>\n",
       "      <td>1</td>\n",
       "      <td>3</td>\n",
       "      <td>1</td>\n",
       "      <td>1</td>\n",
       "      <td>Rua Onofre Pinto</td>\n",
       "      <td>...</td>\n",
       "      <td>08441-211</td>\n",
       "      <td>1</td>\n",
       "      <td>2</td>\n",
       "      <td>2</td>\n",
       "      <td>2</td>\n",
       "      <td>2</td>\n",
       "      <td>2</td>\n",
       "      <td>2</td>\n",
       "      <td>9</td>\n",
       "      <td>12.0</td>\n",
       "    </tr>\n",
       "    <tr>\n",
       "      <th>72</th>\n",
       "      <td>RA55000073</td>\n",
       "      <td>Edete Inácio Furtado Canadas</td>\n",
       "      <td>19</td>\n",
       "      <td>821.99</td>\n",
       "      <td>1</td>\n",
       "      <td>2</td>\n",
       "      <td>3</td>\n",
       "      <td>1</td>\n",
       "      <td>7</td>\n",
       "      <td>Rua Manuel Pinto</td>\n",
       "      <td>...</td>\n",
       "      <td>05776-460</td>\n",
       "      <td>2</td>\n",
       "      <td>2</td>\n",
       "      <td>2</td>\n",
       "      <td>2</td>\n",
       "      <td>2</td>\n",
       "      <td>2</td>\n",
       "      <td>2</td>\n",
       "      <td>9</td>\n",
       "      <td>12.0</td>\n",
       "    </tr>\n",
       "    <tr>\n",
       "      <th>121</th>\n",
       "      <td>RA55000122</td>\n",
       "      <td>Hidetoshi Quesado Ferro</td>\n",
       "      <td>19</td>\n",
       "      <td>722.99</td>\n",
       "      <td>1</td>\n",
       "      <td>1</td>\n",
       "      <td>3</td>\n",
       "      <td>1</td>\n",
       "      <td>4</td>\n",
       "      <td>Rua Almeida Araújo</td>\n",
       "      <td>...</td>\n",
       "      <td>08470-815</td>\n",
       "      <td>2</td>\n",
       "      <td>2</td>\n",
       "      <td>2</td>\n",
       "      <td>2</td>\n",
       "      <td>2</td>\n",
       "      <td>2</td>\n",
       "      <td>2</td>\n",
       "      <td>10</td>\n",
       "      <td>12.0</td>\n",
       "    </tr>\n",
       "    <tr>\n",
       "      <th>157</th>\n",
       "      <td>RA55000158</td>\n",
       "      <td>Adebrair Mamouros</td>\n",
       "      <td>19</td>\n",
       "      <td>1901.98</td>\n",
       "      <td>1</td>\n",
       "      <td>1</td>\n",
       "      <td>3</td>\n",
       "      <td>2</td>\n",
       "      <td>2</td>\n",
       "      <td>Avenida Marechal Tito</td>\n",
       "      <td>...</td>\n",
       "      <td>08160-495</td>\n",
       "      <td>2</td>\n",
       "      <td>2</td>\n",
       "      <td>2</td>\n",
       "      <td>1</td>\n",
       "      <td>1</td>\n",
       "      <td>2</td>\n",
       "      <td>2</td>\n",
       "      <td>6</td>\n",
       "      <td>10.0</td>\n",
       "    </tr>\n",
       "    <tr>\n",
       "      <th>...</th>\n",
       "      <td>...</td>\n",
       "      <td>...</td>\n",
       "      <td>...</td>\n",
       "      <td>...</td>\n",
       "      <td>...</td>\n",
       "      <td>...</td>\n",
       "      <td>...</td>\n",
       "      <td>...</td>\n",
       "      <td>...</td>\n",
       "      <td>...</td>\n",
       "      <td>...</td>\n",
       "      <td>...</td>\n",
       "      <td>...</td>\n",
       "      <td>...</td>\n",
       "      <td>...</td>\n",
       "      <td>...</td>\n",
       "      <td>...</td>\n",
       "      <td>...</td>\n",
       "      <td>...</td>\n",
       "      <td>...</td>\n",
       "      <td>...</td>\n",
       "    </tr>\n",
       "    <tr>\n",
       "      <th>492</th>\n",
       "      <td>RA55000493</td>\n",
       "      <td>Eberto Bragança Damasceno</td>\n",
       "      <td>33</td>\n",
       "      <td>20678.88</td>\n",
       "      <td>1</td>\n",
       "      <td>1</td>\n",
       "      <td>1</td>\n",
       "      <td>2</td>\n",
       "      <td>2</td>\n",
       "      <td>Avenida Nove de Julho</td>\n",
       "      <td>...</td>\n",
       "      <td>01407-902</td>\n",
       "      <td>2</td>\n",
       "      <td>2</td>\n",
       "      <td>2</td>\n",
       "      <td>2</td>\n",
       "      <td>2</td>\n",
       "      <td>2</td>\n",
       "      <td>1</td>\n",
       "      <td>0</td>\n",
       "      <td>11.0</td>\n",
       "    </tr>\n",
       "    <tr>\n",
       "      <th>493</th>\n",
       "      <td>RA55000494</td>\n",
       "      <td>Avelino Janes</td>\n",
       "      <td>48</td>\n",
       "      <td>16439.16</td>\n",
       "      <td>1</td>\n",
       "      <td>1</td>\n",
       "      <td>2</td>\n",
       "      <td>2</td>\n",
       "      <td>3</td>\n",
       "      <td>Rua Marechal Malet</td>\n",
       "      <td>...</td>\n",
       "      <td>03140-020</td>\n",
       "      <td>2</td>\n",
       "      <td>2</td>\n",
       "      <td>2</td>\n",
       "      <td>2</td>\n",
       "      <td>2</td>\n",
       "      <td>2</td>\n",
       "      <td>1</td>\n",
       "      <td>0</td>\n",
       "      <td>11.0</td>\n",
       "    </tr>\n",
       "    <tr>\n",
       "      <th>494</th>\n",
       "      <td>RA55000495</td>\n",
       "      <td>Carlete Galindo</td>\n",
       "      <td>29</td>\n",
       "      <td>21470.14</td>\n",
       "      <td>1</td>\n",
       "      <td>2</td>\n",
       "      <td>4</td>\n",
       "      <td>2</td>\n",
       "      <td>5</td>\n",
       "      <td>Rua São João</td>\n",
       "      <td>...</td>\n",
       "      <td>08346-405</td>\n",
       "      <td>2</td>\n",
       "      <td>2</td>\n",
       "      <td>2</td>\n",
       "      <td>2</td>\n",
       "      <td>2</td>\n",
       "      <td>2</td>\n",
       "      <td>2</td>\n",
       "      <td>0</td>\n",
       "      <td>12.0</td>\n",
       "    </tr>\n",
       "    <tr>\n",
       "      <th>496</th>\n",
       "      <td>RA55000497</td>\n",
       "      <td>Carlene Barra Girão Quesado</td>\n",
       "      <td>45</td>\n",
       "      <td>229643.80</td>\n",
       "      <td>1</td>\n",
       "      <td>2</td>\n",
       "      <td>1</td>\n",
       "      <td>2</td>\n",
       "      <td>1</td>\n",
       "      <td>Rua Sargento Olício Alves</td>\n",
       "      <td>...</td>\n",
       "      <td>04455-180</td>\n",
       "      <td>2</td>\n",
       "      <td>2</td>\n",
       "      <td>2</td>\n",
       "      <td>2</td>\n",
       "      <td>2</td>\n",
       "      <td>2</td>\n",
       "      <td>2</td>\n",
       "      <td>1</td>\n",
       "      <td>12.0</td>\n",
       "    </tr>\n",
       "    <tr>\n",
       "      <th>499</th>\n",
       "      <td>RA55000500</td>\n",
       "      <td>Gilvanise Pinheiro</td>\n",
       "      <td>25</td>\n",
       "      <td>453792.67</td>\n",
       "      <td>1</td>\n",
       "      <td>2</td>\n",
       "      <td>4</td>\n",
       "      <td>2</td>\n",
       "      <td>1</td>\n",
       "      <td>Rua Pedro Doll</td>\n",
       "      <td>...</td>\n",
       "      <td>02404-001</td>\n",
       "      <td>2</td>\n",
       "      <td>2</td>\n",
       "      <td>2</td>\n",
       "      <td>2</td>\n",
       "      <td>2</td>\n",
       "      <td>2</td>\n",
       "      <td>2</td>\n",
       "      <td>1</td>\n",
       "      <td>12.0</td>\n",
       "    </tr>\n",
       "  </tbody>\n",
       "</table>\n",
       "<p>165 rows × 24 columns</p>\n",
       "</div>"
      ],
      "text/plain": [
       "      matrícula                          nome  idade      renda  cor  sexo  \\\n",
       "54   RA55000055      Otavio Nascimento Seabra     19    1010.99    1     1   \n",
       "62   RA55000063   Alvacir Cobra Nobre Camargo     19     792.99    1     1   \n",
       "72   RA55000073  Edete Inácio Furtado Canadas     19     821.99    1     2   \n",
       "121  RA55000122       Hidetoshi Quesado Ferro     19     722.99    1     1   \n",
       "157  RA55000158             Adebrair Mamouros     19    1901.98    1     1   \n",
       "..          ...                           ...    ...        ...  ...   ...   \n",
       "492  RA55000493     Eberto Bragança Damasceno     33   20678.88    1     1   \n",
       "493  RA55000494                 Avelino Janes     48   16439.16    1     1   \n",
       "494  RA55000495               Carlete Galindo     29   21470.14    1     2   \n",
       "496  RA55000497   Carlene Barra Girão Quesado     45  229643.80    1     2   \n",
       "499  RA55000500            Gilvanise Pinheiro     25  453792.67    1     2   \n",
       "\n",
       "     ano_curso  escola  cod_curso                 logradouro  ...        cep  \\\n",
       "54           3       1          9             Rua João Pujol  ...  03471-020   \n",
       "62           3       1          1           Rua Onofre Pinto  ...  08441-211   \n",
       "72           3       1          7           Rua Manuel Pinto  ...  05776-460   \n",
       "121          3       1          4         Rua Almeida Araújo  ...  08470-815   \n",
       "157          3       2          2      Avenida Marechal Tito  ...  08160-495   \n",
       "..         ...     ...        ...                        ...  ...        ...   \n",
       "492          1       2          2      Avenida Nove de Julho  ...  01407-902   \n",
       "493          2       2          3         Rua Marechal Malet  ...  03140-020   \n",
       "494          4       2          5               Rua São João  ...  08346-405   \n",
       "496          1       2          1  Rua Sargento Olício Alves  ...  04455-180   \n",
       "499          4       2          1             Rua Pedro Doll  ...  02404-001   \n",
       "\n",
       "    gad-1 gad-2 gad-3 gad-4  gad-5  gad-6  gad-7  motivação  total score  \n",
       "54      1     1     2     1      2      2      2          9         10.0  \n",
       "62      1     2     2     2      2      2      2          9         12.0  \n",
       "72      2     2     2     2      2      2      2          9         12.0  \n",
       "121     2     2     2     2      2      2      2         10         12.0  \n",
       "157     2     2     2     1      1      2      2          6         10.0  \n",
       "..    ...   ...   ...   ...    ...    ...    ...        ...          ...  \n",
       "492     2     2     2     2      2      2      1          0         11.0  \n",
       "493     2     2     2     2      2      2      1          0         11.0  \n",
       "494     2     2     2     2      2      2      2          0         12.0  \n",
       "496     2     2     2     2      2      2      2          1         12.0  \n",
       "499     2     2     2     2      2      2      2          1         12.0  \n",
       "\n",
       "[165 rows x 24 columns]"
      ]
     },
     "execution_count": 113,
     "metadata": {},
     "output_type": "execute_result"
    }
   ],
   "source": [
    "col = ['total score']\n",
    "\n",
    "main2[col] = main2[main2[col] >= 10][col]\n",
    "main2 = main2.dropna()\n",
    "main2.dropna()"
   ]
  },
  {
   "attachments": {},
   "cell_type": "markdown",
   "id": "d75c4d96",
   "metadata": {},
   "source": [
    "Conclusão: 165 alunos em prováveis condições de transtorno de ansiedade generalizada"
   ]
  }
 ],
 "metadata": {
  "kernelspec": {
   "display_name": "Python 3 (ipykernel)",
   "language": "python",
   "name": "python3"
  },
  "language_info": {
   "codemirror_mode": {
    "name": "ipython",
    "version": 3
   },
   "file_extension": ".py",
   "mimetype": "text/x-python",
   "name": "python",
   "nbconvert_exporter": "python",
   "pygments_lexer": "ipython3",
   "version": "3.9.12"
  }
 },
 "nbformat": 4,
 "nbformat_minor": 5
}
